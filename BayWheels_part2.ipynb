{
 "cells": [
  {
   "cell_type": "markdown",
   "id": "9b661b3a",
   "metadata": {
    "slideshow": {
     "slide_type": "slide"
    }
   },
   "source": [
    "## Part II - (Bay Wheels Bike System Findings )\n",
    "\n",
    "by (**PURITY NJOKI NG'ANG'A**)\n",
    "\n",
    "Introduction\n",
    "This data set includes information about individual rides made in a bike-sharing system covering the greater San Francisco Bay area for a period of three months.\n"
   ]
  },
  {
   "cell_type": "markdown",
   "id": "0b202cf5",
   "metadata": {},
   "source": []
  },
  {
   "cell_type": "markdown",
   "id": "6a683f8b",
   "metadata": {
    "slideshow": {
     "slide_type": "slide"
    }
   },
   "source": [
    "## Investigation Overview\n",
    "\n",
    "\n",
    "> The ultimate goal of this presentation is to show the findings of the following questions; \n",
    "\n",
    "- The average duration of each trip(s)\n",
    "\n",
    "- when are most trips are taken(in terms of month and day of the week).\n",
    "\n",
    "- whether duration of the trip depends on the user type or access method applied, through comparing trip durations by month.\n",
    "\n",
    "- The main goal is to determine if the system is working  by comparing trip durations by the month.\n",
    "\n",
    "## Dataset Overview\n",
    "\n",
    "> This data set includes information about individual rides made in a bike-sharing system covering the greater San Francisco Bay area for three months(jan-march)\n",
    "\n",
    "> The dataset used for this analysis was downloaded from amazonaws.com inform of zip files, each dataset for each month was downloaded individually, assesed and joined together to form a master dataframe used in the wrangling and visualization process."
   ]
  },
  {
   "cell_type": "code",
   "execution_count": 3,
   "id": "23fb7967",
   "metadata": {
    "slideshow": {
     "slide_type": "skip"
    }
   },
   "outputs": [],
   "source": [
    "# importing necessary libraries\n",
    "\n",
    "import zipfile\n",
    "import pandas as pd\n",
    "import numpy as np\n",
    "import matplotlib.pyplot as plt\n",
    "import seaborn as sb"
   ]
  },
  {
   "cell_type": "code",
   "execution_count": 4,
   "id": "70dae4e4",
   "metadata": {
    "slideshow": {
     "slide_type": "skip"
    }
   },
   "outputs": [],
   "source": [
    "with zipfile.ZipFile('jan-baywheels.zip', 'r') as myzip1:\n",
    "    myzip1.extractall()\n",
    "    \n",
    "with zipfile.ZipFile('feb-baywheels.zip', 'r') as myzip2:\n",
    "    myzip2.extractall()\n",
    "    \n",
    "with zipfile.ZipFile('march-baywheels.zip', 'r') as myzip3:\n",
    "    myzip3.extractall()"
   ]
  },
  {
   "cell_type": "code",
   "execution_count": 5,
   "id": "87ec53ba",
   "metadata": {
    "slideshow": {
     "slide_type": "skip"
    }
   },
   "outputs": [
    {
     "name": "stderr",
     "output_type": "stream",
     "text": [
      "C:\\Users\\User\\AppData\\Local\\Temp\\ipykernel_10028\\429148203.py:3: DtypeWarning: Columns (13) have mixed types. Specify dtype option on import or set low_memory=False.\n",
      "  jan_baywhls = pd.read_csv('202001-baywheels-tripdata.csv')\n",
      "C:\\Users\\User\\AppData\\Local\\Temp\\ipykernel_10028\\429148203.py:4: DtypeWarning: Columns (13) have mixed types. Specify dtype option on import or set low_memory=False.\n",
      "  feb_baywhls = pd.read_csv('202002-baywheels-tripdata.csv')\n"
     ]
    }
   ],
   "source": [
    "#load datasets into pandas dataframe\n",
    "\n",
    "jan_baywhls = pd.read_csv('202001-baywheels-tripdata.csv')\n",
    "feb_baywhls = pd.read_csv('202002-baywheels-tripdata.csv')\n",
    "mar_baywhls = pd.read_csv('202003-baywheels-tripdata.csv')"
   ]
  },
  {
   "cell_type": "code",
   "execution_count": 6,
   "id": "c2c43e50",
   "metadata": {
    "slideshow": {
     "slide_type": "skip"
    }
   },
   "outputs": [],
   "source": [
    "#save datasets to csv files and;\n",
    "#load the saved dataset into pandas dataframe\n",
    "\n",
    "jan_baywhls.to_csv('bike_df1.csv', index = False)\n",
    "df1 = pd.read_csv('bike_df1.csv', dtype={\"rental_access_method\" : \"object\"})\n",
    "\n",
    "feb_baywhls.to_csv('bike_df2.csv', index = False)\n",
    "df2 = pd.read_csv('bike_df2.csv', dtype={\"rental_access_method\" : \"object\"})\n",
    "\n",
    "mar_baywhls.to_csv('bike_df3.csv', index = False)\n",
    "df3 = pd.read_csv('bike_df3.csv', dtype={\"rental_access_method\" : \"object\"})"
   ]
  },
  {
   "cell_type": "code",
   "execution_count": 7,
   "id": "0c2684f7",
   "metadata": {
    "slideshow": {
     "slide_type": "skip"
    }
   },
   "outputs": [
    {
     "data": {
      "text/html": [
       "<div>\n",
       "<style scoped>\n",
       "    .dataframe tbody tr th:only-of-type {\n",
       "        vertical-align: middle;\n",
       "    }\n",
       "\n",
       "    .dataframe tbody tr th {\n",
       "        vertical-align: top;\n",
       "    }\n",
       "\n",
       "    .dataframe thead th {\n",
       "        text-align: right;\n",
       "    }\n",
       "</style>\n",
       "<table border=\"1\" class=\"dataframe\">\n",
       "  <thead>\n",
       "    <tr style=\"text-align: right;\">\n",
       "      <th></th>\n",
       "      <th>duration_sec</th>\n",
       "      <th>start_time</th>\n",
       "      <th>end_time</th>\n",
       "      <th>start_station_id</th>\n",
       "      <th>start_station_name</th>\n",
       "      <th>start_station_latitude</th>\n",
       "      <th>start_station_longitude</th>\n",
       "      <th>end_station_id</th>\n",
       "      <th>end_station_name</th>\n",
       "      <th>end_station_latitude</th>\n",
       "      <th>end_station_longitude</th>\n",
       "      <th>bike_id</th>\n",
       "      <th>user_type</th>\n",
       "      <th>rental_access_method</th>\n",
       "    </tr>\n",
       "  </thead>\n",
       "  <tbody>\n",
       "    <tr>\n",
       "      <th>0</th>\n",
       "      <td>83118</td>\n",
       "      <td>2020-01-31 15:23:47.7330</td>\n",
       "      <td>2020-02-01 14:29:06.2630</td>\n",
       "      <td>400.0</td>\n",
       "      <td>Buchanan St at North Point St</td>\n",
       "      <td>37.804272</td>\n",
       "      <td>-122.433537</td>\n",
       "      <td>400.0</td>\n",
       "      <td>Buchanan St at North Point St</td>\n",
       "      <td>37.804272</td>\n",
       "      <td>-122.433537</td>\n",
       "      <td>13052</td>\n",
       "      <td>Customer</td>\n",
       "      <td>NaN</td>\n",
       "    </tr>\n",
       "    <tr>\n",
       "      <th>1</th>\n",
       "      <td>68239</td>\n",
       "      <td>2020-01-31 15:40:31.6160</td>\n",
       "      <td>2020-02-01 10:37:51.0000</td>\n",
       "      <td>99.0</td>\n",
       "      <td>Folsom St at 15th St</td>\n",
       "      <td>37.767037</td>\n",
       "      <td>-122.415442</td>\n",
       "      <td>99.0</td>\n",
       "      <td>Folsom St at 15th St</td>\n",
       "      <td>37.767037</td>\n",
       "      <td>-122.415442</td>\n",
       "      <td>12235</td>\n",
       "      <td>Subscriber</td>\n",
       "      <td>NaN</td>\n",
       "    </tr>\n",
       "    <tr>\n",
       "      <th>2</th>\n",
       "      <td>55407</td>\n",
       "      <td>2020-01-31 17:48:16.6350</td>\n",
       "      <td>2020-02-01 09:11:44.3170</td>\n",
       "      <td>197.0</td>\n",
       "      <td>El Embarcadero at Grand Ave</td>\n",
       "      <td>37.808848</td>\n",
       "      <td>-122.249680</td>\n",
       "      <td>197.0</td>\n",
       "      <td>El Embarcadero at Grand Ave</td>\n",
       "      <td>37.808848</td>\n",
       "      <td>-122.249680</td>\n",
       "      <td>12822</td>\n",
       "      <td>Customer</td>\n",
       "      <td>NaN</td>\n",
       "    </tr>\n",
       "    <tr>\n",
       "      <th>3</th>\n",
       "      <td>54929</td>\n",
       "      <td>2020-01-31 17:53:03.4130</td>\n",
       "      <td>2020-02-01 09:08:32.6340</td>\n",
       "      <td>197.0</td>\n",
       "      <td>El Embarcadero at Grand Ave</td>\n",
       "      <td>37.808848</td>\n",
       "      <td>-122.249680</td>\n",
       "      <td>197.0</td>\n",
       "      <td>El Embarcadero at Grand Ave</td>\n",
       "      <td>37.808848</td>\n",
       "      <td>-122.249680</td>\n",
       "      <td>11705</td>\n",
       "      <td>Customer</td>\n",
       "      <td>NaN</td>\n",
       "    </tr>\n",
       "    <tr>\n",
       "      <th>4</th>\n",
       "      <td>55700</td>\n",
       "      <td>2020-01-31 17:12:33.4600</td>\n",
       "      <td>2020-02-01 08:40:53.6460</td>\n",
       "      <td>12.0</td>\n",
       "      <td>Pier 1/2 at The Embarcadero</td>\n",
       "      <td>37.796389</td>\n",
       "      <td>-122.394586</td>\n",
       "      <td>371.0</td>\n",
       "      <td>Lombard St at Columbus Ave</td>\n",
       "      <td>37.802746</td>\n",
       "      <td>-122.413579</td>\n",
       "      <td>3673</td>\n",
       "      <td>Customer</td>\n",
       "      <td>NaN</td>\n",
       "    </tr>\n",
       "  </tbody>\n",
       "</table>\n",
       "</div>"
      ],
      "text/plain": [
       "   duration_sec                start_time                  end_time  \\\n",
       "0         83118  2020-01-31 15:23:47.7330  2020-02-01 14:29:06.2630   \n",
       "1         68239  2020-01-31 15:40:31.6160  2020-02-01 10:37:51.0000   \n",
       "2         55407  2020-01-31 17:48:16.6350  2020-02-01 09:11:44.3170   \n",
       "3         54929  2020-01-31 17:53:03.4130  2020-02-01 09:08:32.6340   \n",
       "4         55700  2020-01-31 17:12:33.4600  2020-02-01 08:40:53.6460   \n",
       "\n",
       "   start_station_id             start_station_name  start_station_latitude  \\\n",
       "0             400.0  Buchanan St at North Point St               37.804272   \n",
       "1              99.0           Folsom St at 15th St               37.767037   \n",
       "2             197.0    El Embarcadero at Grand Ave               37.808848   \n",
       "3             197.0    El Embarcadero at Grand Ave               37.808848   \n",
       "4              12.0    Pier 1/2 at The Embarcadero               37.796389   \n",
       "\n",
       "   start_station_longitude  end_station_id               end_station_name  \\\n",
       "0              -122.433537           400.0  Buchanan St at North Point St   \n",
       "1              -122.415442            99.0           Folsom St at 15th St   \n",
       "2              -122.249680           197.0    El Embarcadero at Grand Ave   \n",
       "3              -122.249680           197.0    El Embarcadero at Grand Ave   \n",
       "4              -122.394586           371.0     Lombard St at Columbus Ave   \n",
       "\n",
       "   end_station_latitude  end_station_longitude  bike_id   user_type  \\\n",
       "0             37.804272            -122.433537    13052    Customer   \n",
       "1             37.767037            -122.415442    12235  Subscriber   \n",
       "2             37.808848            -122.249680    12822    Customer   \n",
       "3             37.808848            -122.249680    11705    Customer   \n",
       "4             37.802746            -122.413579     3673    Customer   \n",
       "\n",
       "  rental_access_method  \n",
       "0                  NaN  \n",
       "1                  NaN  \n",
       "2                  NaN  \n",
       "3                  NaN  \n",
       "4                  NaN  "
      ]
     },
     "execution_count": 7,
     "metadata": {},
     "output_type": "execute_result"
    }
   ],
   "source": [
    "df1.head(5)"
   ]
  },
  {
   "cell_type": "code",
   "execution_count": 8,
   "id": "29506578",
   "metadata": {
    "slideshow": {
     "slide_type": "skip"
    }
   },
   "outputs": [
    {
     "data": {
      "text/plain": [
       "(295854, 14)"
      ]
     },
     "execution_count": 8,
     "metadata": {},
     "output_type": "execute_result"
    }
   ],
   "source": [
    "df1.shape"
   ]
  },
  {
   "cell_type": "code",
   "execution_count": 9,
   "id": "c611a096",
   "metadata": {
    "slideshow": {
     "slide_type": "skip"
    }
   },
   "outputs": [
    {
     "data": {
      "text/html": [
       "<div>\n",
       "<style scoped>\n",
       "    .dataframe tbody tr th:only-of-type {\n",
       "        vertical-align: middle;\n",
       "    }\n",
       "\n",
       "    .dataframe tbody tr th {\n",
       "        vertical-align: top;\n",
       "    }\n",
       "\n",
       "    .dataframe thead th {\n",
       "        text-align: right;\n",
       "    }\n",
       "</style>\n",
       "<table border=\"1\" class=\"dataframe\">\n",
       "  <thead>\n",
       "    <tr style=\"text-align: right;\">\n",
       "      <th></th>\n",
       "      <th>duration_sec</th>\n",
       "      <th>start_time</th>\n",
       "      <th>end_time</th>\n",
       "      <th>start_station_id</th>\n",
       "      <th>start_station_name</th>\n",
       "      <th>start_station_latitude</th>\n",
       "      <th>start_station_longitude</th>\n",
       "      <th>end_station_id</th>\n",
       "      <th>end_station_name</th>\n",
       "      <th>end_station_latitude</th>\n",
       "      <th>end_station_longitude</th>\n",
       "      <th>bike_id</th>\n",
       "      <th>user_type</th>\n",
       "      <th>rental_access_method</th>\n",
       "    </tr>\n",
       "  </thead>\n",
       "  <tbody>\n",
       "    <tr>\n",
       "      <th>79289</th>\n",
       "      <td>172</td>\n",
       "      <td>2020-01-09 12:54:05.4200</td>\n",
       "      <td>2020-01-09 12:56:58.3910</td>\n",
       "      <td>96.0</td>\n",
       "      <td>Dolores St at 15th St</td>\n",
       "      <td>37.766210</td>\n",
       "      <td>-122.426614</td>\n",
       "      <td>223.0</td>\n",
       "      <td>16th St Mission BART Station 2</td>\n",
       "      <td>37.764765</td>\n",
       "      <td>-122.420091</td>\n",
       "      <td>12249</td>\n",
       "      <td>Customer</td>\n",
       "      <td>NaN</td>\n",
       "    </tr>\n",
       "    <tr>\n",
       "      <th>28213</th>\n",
       "      <td>936</td>\n",
       "      <td>2020-01-24 08:38:29.0270</td>\n",
       "      <td>2020-01-24 08:54:05.7130</td>\n",
       "      <td>109.0</td>\n",
       "      <td>17th St at Valencia St</td>\n",
       "      <td>37.763316</td>\n",
       "      <td>-122.421904</td>\n",
       "      <td>92.0</td>\n",
       "      <td>Mission Bay Kids Park</td>\n",
       "      <td>37.772301</td>\n",
       "      <td>-122.393028</td>\n",
       "      <td>12496</td>\n",
       "      <td>Customer</td>\n",
       "      <td>NaN</td>\n",
       "    </tr>\n",
       "    <tr>\n",
       "      <th>219350</th>\n",
       "      <td>293</td>\n",
       "      <td>2020-01-26 10:08:07</td>\n",
       "      <td>2020-01-26 10:13:00</td>\n",
       "      <td>NaN</td>\n",
       "      <td>NaN</td>\n",
       "      <td>37.779323</td>\n",
       "      <td>-122.434250</td>\n",
       "      <td>NaN</td>\n",
       "      <td>NaN</td>\n",
       "      <td>37.777805</td>\n",
       "      <td>-122.438191</td>\n",
       "      <td>498210</td>\n",
       "      <td>Customer</td>\n",
       "      <td>app</td>\n",
       "    </tr>\n",
       "    <tr>\n",
       "      <th>258575</th>\n",
       "      <td>250</td>\n",
       "      <td>2020-01-18 13:13:56</td>\n",
       "      <td>2020-01-18 13:18:07</td>\n",
       "      <td>21.0</td>\n",
       "      <td>Montgomery St BART Station (Market St at 2nd St)</td>\n",
       "      <td>37.789625</td>\n",
       "      <td>-122.400811</td>\n",
       "      <td>NaN</td>\n",
       "      <td>NaN</td>\n",
       "      <td>37.786326</td>\n",
       "      <td>-122.405026</td>\n",
       "      <td>230270</td>\n",
       "      <td>Subscriber</td>\n",
       "      <td>app</td>\n",
       "    </tr>\n",
       "    <tr>\n",
       "      <th>195774</th>\n",
       "      <td>876</td>\n",
       "      <td>2020-01-05 13:27:42</td>\n",
       "      <td>2020-01-05 13:42:19</td>\n",
       "      <td>NaN</td>\n",
       "      <td>NaN</td>\n",
       "      <td>37.775225</td>\n",
       "      <td>-122.432718</td>\n",
       "      <td>NaN</td>\n",
       "      <td>NaN</td>\n",
       "      <td>37.805374</td>\n",
       "      <td>-122.432581</td>\n",
       "      <td>671549</td>\n",
       "      <td>Subscriber</td>\n",
       "      <td>app</td>\n",
       "    </tr>\n",
       "    <tr>\n",
       "      <th>222705</th>\n",
       "      <td>618</td>\n",
       "      <td>2020-01-08 09:47:45</td>\n",
       "      <td>2020-01-08 09:58:03</td>\n",
       "      <td>NaN</td>\n",
       "      <td>NaN</td>\n",
       "      <td>37.780575</td>\n",
       "      <td>-122.390381</td>\n",
       "      <td>NaN</td>\n",
       "      <td>NaN</td>\n",
       "      <td>37.764041</td>\n",
       "      <td>-122.394172</td>\n",
       "      <td>856569</td>\n",
       "      <td>Subscriber</td>\n",
       "      <td>app</td>\n",
       "    </tr>\n",
       "    <tr>\n",
       "      <th>51986</th>\n",
       "      <td>2492</td>\n",
       "      <td>2020-01-16 08:03:21.0980</td>\n",
       "      <td>2020-01-16 08:44:53.3890</td>\n",
       "      <td>220.0</td>\n",
       "      <td>San Pablo Ave at MLK Jr Way</td>\n",
       "      <td>37.811351</td>\n",
       "      <td>-122.273422</td>\n",
       "      <td>200.0</td>\n",
       "      <td>2nd Ave at E 18th St</td>\n",
       "      <td>37.800214</td>\n",
       "      <td>-122.253810</td>\n",
       "      <td>11807</td>\n",
       "      <td>Subscriber</td>\n",
       "      <td>NaN</td>\n",
       "    </tr>\n",
       "    <tr>\n",
       "      <th>75596</th>\n",
       "      <td>144</td>\n",
       "      <td>2020-01-10 08:34:57.1160</td>\n",
       "      <td>2020-01-10 08:37:21.6990</td>\n",
       "      <td>166.0</td>\n",
       "      <td>College Ave at Alcatraz Ave</td>\n",
       "      <td>37.851376</td>\n",
       "      <td>-122.252523</td>\n",
       "      <td>171.0</td>\n",
       "      <td>Rockridge BART Station</td>\n",
       "      <td>37.844279</td>\n",
       "      <td>-122.251900</td>\n",
       "      <td>221</td>\n",
       "      <td>Customer</td>\n",
       "      <td>NaN</td>\n",
       "    </tr>\n",
       "    <tr>\n",
       "      <th>175858</th>\n",
       "      <td>567</td>\n",
       "      <td>2020-01-27 16:07:27</td>\n",
       "      <td>2020-01-27 16:16:55</td>\n",
       "      <td>NaN</td>\n",
       "      <td>NaN</td>\n",
       "      <td>37.769500</td>\n",
       "      <td>-122.415318</td>\n",
       "      <td>37.0</td>\n",
       "      <td>Folsom St at 2nd St</td>\n",
       "      <td>37.785377</td>\n",
       "      <td>-122.396906</td>\n",
       "      <td>953534</td>\n",
       "      <td>Subscriber</td>\n",
       "      <td>app</td>\n",
       "    </tr>\n",
       "    <tr>\n",
       "      <th>47370</th>\n",
       "      <td>817</td>\n",
       "      <td>2020-01-17 17:44:57.7770</td>\n",
       "      <td>2020-01-17 17:58:35.2000</td>\n",
       "      <td>89.0</td>\n",
       "      <td>Division St at Potrero Ave</td>\n",
       "      <td>37.769218</td>\n",
       "      <td>-122.407646</td>\n",
       "      <td>133.0</td>\n",
       "      <td>Valencia St at 22nd St</td>\n",
       "      <td>37.755213</td>\n",
       "      <td>-122.420975</td>\n",
       "      <td>12390</td>\n",
       "      <td>Customer</td>\n",
       "      <td>NaN</td>\n",
       "    </tr>\n",
       "  </tbody>\n",
       "</table>\n",
       "</div>"
      ],
      "text/plain": [
       "        duration_sec                start_time                  end_time  \\\n",
       "79289            172  2020-01-09 12:54:05.4200  2020-01-09 12:56:58.3910   \n",
       "28213            936  2020-01-24 08:38:29.0270  2020-01-24 08:54:05.7130   \n",
       "219350           293       2020-01-26 10:08:07       2020-01-26 10:13:00   \n",
       "258575           250       2020-01-18 13:13:56       2020-01-18 13:18:07   \n",
       "195774           876       2020-01-05 13:27:42       2020-01-05 13:42:19   \n",
       "222705           618       2020-01-08 09:47:45       2020-01-08 09:58:03   \n",
       "51986           2492  2020-01-16 08:03:21.0980  2020-01-16 08:44:53.3890   \n",
       "75596            144  2020-01-10 08:34:57.1160  2020-01-10 08:37:21.6990   \n",
       "175858           567       2020-01-27 16:07:27       2020-01-27 16:16:55   \n",
       "47370            817  2020-01-17 17:44:57.7770  2020-01-17 17:58:35.2000   \n",
       "\n",
       "        start_station_id                                start_station_name  \\\n",
       "79289               96.0                             Dolores St at 15th St   \n",
       "28213              109.0                            17th St at Valencia St   \n",
       "219350               NaN                                               NaN   \n",
       "258575              21.0  Montgomery St BART Station (Market St at 2nd St)   \n",
       "195774               NaN                                               NaN   \n",
       "222705               NaN                                               NaN   \n",
       "51986              220.0                       San Pablo Ave at MLK Jr Way   \n",
       "75596              166.0                       College Ave at Alcatraz Ave   \n",
       "175858               NaN                                               NaN   \n",
       "47370               89.0                        Division St at Potrero Ave   \n",
       "\n",
       "        start_station_latitude  start_station_longitude  end_station_id  \\\n",
       "79289                37.766210              -122.426614           223.0   \n",
       "28213                37.763316              -122.421904            92.0   \n",
       "219350               37.779323              -122.434250             NaN   \n",
       "258575               37.789625              -122.400811             NaN   \n",
       "195774               37.775225              -122.432718             NaN   \n",
       "222705               37.780575              -122.390381             NaN   \n",
       "51986                37.811351              -122.273422           200.0   \n",
       "75596                37.851376              -122.252523           171.0   \n",
       "175858               37.769500              -122.415318            37.0   \n",
       "47370                37.769218              -122.407646           133.0   \n",
       "\n",
       "                      end_station_name  end_station_latitude  \\\n",
       "79289   16th St Mission BART Station 2             37.764765   \n",
       "28213            Mission Bay Kids Park             37.772301   \n",
       "219350                             NaN             37.777805   \n",
       "258575                             NaN             37.786326   \n",
       "195774                             NaN             37.805374   \n",
       "222705                             NaN             37.764041   \n",
       "51986             2nd Ave at E 18th St             37.800214   \n",
       "75596           Rockridge BART Station             37.844279   \n",
       "175858             Folsom St at 2nd St             37.785377   \n",
       "47370           Valencia St at 22nd St             37.755213   \n",
       "\n",
       "        end_station_longitude  bike_id   user_type rental_access_method  \n",
       "79289             -122.420091    12249    Customer                  NaN  \n",
       "28213             -122.393028    12496    Customer                  NaN  \n",
       "219350            -122.438191   498210    Customer                  app  \n",
       "258575            -122.405026   230270  Subscriber                  app  \n",
       "195774            -122.432581   671549  Subscriber                  app  \n",
       "222705            -122.394172   856569  Subscriber                  app  \n",
       "51986             -122.253810    11807  Subscriber                  NaN  \n",
       "75596             -122.251900      221    Customer                  NaN  \n",
       "175858            -122.396906   953534  Subscriber                  app  \n",
       "47370             -122.420975    12390    Customer                  NaN  "
      ]
     },
     "execution_count": 9,
     "metadata": {},
     "output_type": "execute_result"
    }
   ],
   "source": [
    "df1.sample(10)"
   ]
  },
  {
   "cell_type": "code",
   "execution_count": 10,
   "id": "663f02f2",
   "metadata": {
    "slideshow": {
     "slide_type": "skip"
    }
   },
   "outputs": [
    {
     "name": "stdout",
     "output_type": "stream",
     "text": [
      "<class 'pandas.core.frame.DataFrame'>\n",
      "RangeIndex: 295854 entries, 0 to 295853\n",
      "Data columns (total 14 columns):\n",
      " #   Column                   Non-Null Count   Dtype  \n",
      "---  ------                   --------------   -----  \n",
      " 0   duration_sec             295854 non-null  int64  \n",
      " 1   start_time               295854 non-null  object \n",
      " 2   end_time                 295854 non-null  object \n",
      " 3   start_station_id         146286 non-null  float64\n",
      " 4   start_station_name       146866 non-null  object \n",
      " 5   start_station_latitude   295854 non-null  float64\n",
      " 6   start_station_longitude  295854 non-null  float64\n",
      " 7   end_station_id           145934 non-null  float64\n",
      " 8   end_station_name         146511 non-null  object \n",
      " 9   end_station_latitude     295854 non-null  float64\n",
      " 10  end_station_longitude    295854 non-null  float64\n",
      " 11  bike_id                  295854 non-null  int64  \n",
      " 12  user_type                295854 non-null  object \n",
      " 13  rental_access_method     185746 non-null  object \n",
      "dtypes: float64(6), int64(2), object(6)\n",
      "memory usage: 31.6+ MB\n"
     ]
    }
   ],
   "source": [
    "df1.info()"
   ]
  },
  {
   "cell_type": "code",
   "execution_count": 11,
   "id": "17535407",
   "metadata": {
    "slideshow": {
     "slide_type": "skip"
    }
   },
   "outputs": [
    {
     "data": {
      "text/html": [
       "<div>\n",
       "<style scoped>\n",
       "    .dataframe tbody tr th:only-of-type {\n",
       "        vertical-align: middle;\n",
       "    }\n",
       "\n",
       "    .dataframe tbody tr th {\n",
       "        vertical-align: top;\n",
       "    }\n",
       "\n",
       "    .dataframe thead th {\n",
       "        text-align: right;\n",
       "    }\n",
       "</style>\n",
       "<table border=\"1\" class=\"dataframe\">\n",
       "  <thead>\n",
       "    <tr style=\"text-align: right;\">\n",
       "      <th></th>\n",
       "      <th>duration_sec</th>\n",
       "      <th>start_station_id</th>\n",
       "      <th>start_station_latitude</th>\n",
       "      <th>start_station_longitude</th>\n",
       "      <th>end_station_id</th>\n",
       "      <th>end_station_latitude</th>\n",
       "      <th>end_station_longitude</th>\n",
       "      <th>bike_id</th>\n",
       "    </tr>\n",
       "  </thead>\n",
       "  <tbody>\n",
       "    <tr>\n",
       "      <th>count</th>\n",
       "      <td>295854.000000</td>\n",
       "      <td>146286.000000</td>\n",
       "      <td>295854.000000</td>\n",
       "      <td>295854.000000</td>\n",
       "      <td>145934.000000</td>\n",
       "      <td>295854.000000</td>\n",
       "      <td>295854.000000</td>\n",
       "      <td>295854.00000</td>\n",
       "    </tr>\n",
       "    <tr>\n",
       "      <th>mean</th>\n",
       "      <td>780.473193</td>\n",
       "      <td>168.900879</td>\n",
       "      <td>37.751277</td>\n",
       "      <td>-122.357866</td>\n",
       "      <td>161.061788</td>\n",
       "      <td>37.751261</td>\n",
       "      <td>-122.356994</td>\n",
       "      <td>321533.84539</td>\n",
       "    </tr>\n",
       "    <tr>\n",
       "      <th>std</th>\n",
       "      <td>2037.786317</td>\n",
       "      <td>141.956388</td>\n",
       "      <td>0.228337</td>\n",
       "      <td>0.650796</td>\n",
       "      <td>140.766154</td>\n",
       "      <td>0.238642</td>\n",
       "      <td>0.688512</td>\n",
       "      <td>307015.31534</td>\n",
       "    </tr>\n",
       "    <tr>\n",
       "      <th>min</th>\n",
       "      <td>60.000000</td>\n",
       "      <td>3.000000</td>\n",
       "      <td>0.000000</td>\n",
       "      <td>-122.513871</td>\n",
       "      <td>3.000000</td>\n",
       "      <td>0.000000</td>\n",
       "      <td>-122.513846</td>\n",
       "      <td>12.00000</td>\n",
       "    </tr>\n",
       "    <tr>\n",
       "      <th>25%</th>\n",
       "      <td>369.000000</td>\n",
       "      <td>53.000000</td>\n",
       "      <td>37.766214</td>\n",
       "      <td>-122.419481</td>\n",
       "      <td>43.000000</td>\n",
       "      <td>37.766376</td>\n",
       "      <td>-122.418306</td>\n",
       "      <td>11328.00000</td>\n",
       "    </tr>\n",
       "    <tr>\n",
       "      <th>50%</th>\n",
       "      <td>588.000000</td>\n",
       "      <td>120.000000</td>\n",
       "      <td>37.777158</td>\n",
       "      <td>-122.403234</td>\n",
       "      <td>113.000000</td>\n",
       "      <td>37.777370</td>\n",
       "      <td>-122.402717</td>\n",
       "      <td>279974.00000</td>\n",
       "    </tr>\n",
       "    <tr>\n",
       "      <th>75%</th>\n",
       "      <td>912.000000</td>\n",
       "      <td>263.000000</td>\n",
       "      <td>37.790102</td>\n",
       "      <td>-122.392450</td>\n",
       "      <td>250.000000</td>\n",
       "      <td>37.790492</td>\n",
       "      <td>-122.392546</td>\n",
       "      <td>545607.00000</td>\n",
       "    </tr>\n",
       "    <tr>\n",
       "      <th>max</th>\n",
       "      <td>811077.000000</td>\n",
       "      <td>506.000000</td>\n",
       "      <td>37.880222</td>\n",
       "      <td>0.000000</td>\n",
       "      <td>506.000000</td>\n",
       "      <td>37.927622</td>\n",
       "      <td>0.000000</td>\n",
       "      <td>999952.00000</td>\n",
       "    </tr>\n",
       "  </tbody>\n",
       "</table>\n",
       "</div>"
      ],
      "text/plain": [
       "        duration_sec  start_station_id  start_station_latitude  \\\n",
       "count  295854.000000     146286.000000           295854.000000   \n",
       "mean      780.473193        168.900879               37.751277   \n",
       "std      2037.786317        141.956388                0.228337   \n",
       "min        60.000000          3.000000                0.000000   \n",
       "25%       369.000000         53.000000               37.766214   \n",
       "50%       588.000000        120.000000               37.777158   \n",
       "75%       912.000000        263.000000               37.790102   \n",
       "max    811077.000000        506.000000               37.880222   \n",
       "\n",
       "       start_station_longitude  end_station_id  end_station_latitude  \\\n",
       "count            295854.000000   145934.000000         295854.000000   \n",
       "mean               -122.357866      161.061788             37.751261   \n",
       "std                   0.650796      140.766154              0.238642   \n",
       "min                -122.513871        3.000000              0.000000   \n",
       "25%                -122.419481       43.000000             37.766376   \n",
       "50%                -122.403234      113.000000             37.777370   \n",
       "75%                -122.392450      250.000000             37.790492   \n",
       "max                   0.000000      506.000000             37.927622   \n",
       "\n",
       "       end_station_longitude       bike_id  \n",
       "count          295854.000000  295854.00000  \n",
       "mean             -122.356994  321533.84539  \n",
       "std                 0.688512  307015.31534  \n",
       "min              -122.513846      12.00000  \n",
       "25%              -122.418306   11328.00000  \n",
       "50%              -122.402717  279974.00000  \n",
       "75%              -122.392546  545607.00000  \n",
       "max                 0.000000  999952.00000  "
      ]
     },
     "execution_count": 11,
     "metadata": {},
     "output_type": "execute_result"
    }
   ],
   "source": [
    "df1.describe()"
   ]
  },
  {
   "cell_type": "code",
   "execution_count": 87,
   "id": "75d92018",
   "metadata": {
    "slideshow": {
     "slide_type": "skip"
    }
   },
   "outputs": [
    {
     "data": {
      "text/plain": [
       "duration_sec                 0\n",
       "duration_mins                0\n",
       "duration_hrs                 0\n",
       "duration_days                0\n",
       "start_day                    0\n",
       "start_time                   0\n",
       "end_day                      0\n",
       "end_time                     0\n",
       "start_station_id        480669\n",
       "start_station_name      479456\n",
       "end_station_id          479481\n",
       "end_station_name        478227\n",
       "bike_id                      0\n",
       "user_type                    0\n",
       "rental_access_method    282745\n",
       "month                        0\n",
       "dtype: int64"
      ]
     },
     "execution_count": 87,
     "metadata": {},
     "output_type": "execute_result"
    }
   ],
   "source": [
    "df1.isna().sum() #to find if there are any missing values"
   ]
  },
  {
   "cell_type": "code",
   "execution_count": 88,
   "id": "4d46396b",
   "metadata": {
    "slideshow": {
     "slide_type": "skip"
    }
   },
   "outputs": [
    {
     "data": {
      "text/plain": [
       "duration_sec              3541\n",
       "duration_mins             3541\n",
       "duration_hrs              3541\n",
       "duration_days             3541\n",
       "start_day                    7\n",
       "start_time              838973\n",
       "end_day                      7\n",
       "end_time                838784\n",
       "start_station_id           446\n",
       "start_station_name         453\n",
       "end_station_id             445\n",
       "end_station_name           452\n",
       "bike_id                  10204\n",
       "user_type                    2\n",
       "rental_access_method         2\n",
       "month                        3\n",
       "dtype: int64"
      ]
     },
     "execution_count": 88,
     "metadata": {},
     "output_type": "execute_result"
    }
   ],
   "source": [
    "df1.nunique() #number of unique values"
   ]
  },
  {
   "cell_type": "code",
   "execution_count": 14,
   "id": "5f0b5573",
   "metadata": {
    "slideshow": {
     "slide_type": "skip"
    }
   },
   "outputs": [
    {
     "name": "stdout",
     "output_type": "stream",
     "text": [
      "['Customer' 'Subscriber']\n"
     ]
    },
    {
     "data": {
      "text/plain": [
       "Subscriber    170988\n",
       "Customer      124866\n",
       "Name: user_type, dtype: int64"
      ]
     },
     "execution_count": 14,
     "metadata": {},
     "output_type": "execute_result"
    }
   ],
   "source": [
    "print(df1['user_type'].unique())\n",
    "df1['user_type'].value_counts()"
   ]
  },
  {
   "cell_type": "code",
   "execution_count": 15,
   "id": "f46783ab",
   "metadata": {
    "slideshow": {
     "slide_type": "skip"
    }
   },
   "outputs": [
    {
     "name": "stdout",
     "output_type": "stream",
     "text": [
      "[nan 'app' 'clipper']\n"
     ]
    },
    {
     "data": {
      "text/plain": [
       "app        171751\n",
       "clipper     13995\n",
       "Name: rental_access_method, dtype: int64"
      ]
     },
     "execution_count": 15,
     "metadata": {},
     "output_type": "execute_result"
    }
   ],
   "source": [
    "\n",
    "\n",
    "print(df1['rental_access_method'].unique())\n",
    "df1.rental_access_method.value_counts()"
   ]
  },
  {
   "cell_type": "code",
   "execution_count": 16,
   "id": "29235fb3",
   "metadata": {
    "slideshow": {
     "slide_type": "skip"
    }
   },
   "outputs": [
    {
     "data": {
      "text/plain": [
       "duration_sec               54\n",
       "start_time                 54\n",
       "end_time                   54\n",
       "start_station_id           12\n",
       "start_station_name         12\n",
       "start_station_latitude     54\n",
       "start_station_longitude    54\n",
       "end_station_id             10\n",
       "end_station_name           11\n",
       "end_station_latitude       54\n",
       "end_station_longitude      54\n",
       "bike_id                    54\n",
       "user_type                  54\n",
       "rental_access_method       54\n",
       "dtype: int64"
      ]
     },
     "execution_count": 16,
     "metadata": {},
     "output_type": "execute_result"
    }
   ],
   "source": [
    "df1[df1.duration_sec <= 60].count() # getting the minimum number of duration "
   ]
  },
  {
   "cell_type": "code",
   "execution_count": 17,
   "id": "f6b141bd",
   "metadata": {
    "slideshow": {
     "slide_type": "skip"
    }
   },
   "outputs": [
    {
     "data": {
      "text/html": [
       "<div>\n",
       "<style scoped>\n",
       "    .dataframe tbody tr th:only-of-type {\n",
       "        vertical-align: middle;\n",
       "    }\n",
       "\n",
       "    .dataframe tbody tr th {\n",
       "        vertical-align: top;\n",
       "    }\n",
       "\n",
       "    .dataframe thead th {\n",
       "        text-align: right;\n",
       "    }\n",
       "</style>\n",
       "<table border=\"1\" class=\"dataframe\">\n",
       "  <thead>\n",
       "    <tr style=\"text-align: right;\">\n",
       "      <th></th>\n",
       "      <th>duration_sec</th>\n",
       "      <th>start_time</th>\n",
       "      <th>end_time</th>\n",
       "      <th>start_station_id</th>\n",
       "      <th>start_station_name</th>\n",
       "      <th>start_station_latitude</th>\n",
       "      <th>start_station_longitude</th>\n",
       "      <th>end_station_id</th>\n",
       "      <th>end_station_name</th>\n",
       "      <th>end_station_latitude</th>\n",
       "      <th>end_station_longitude</th>\n",
       "      <th>bike_id</th>\n",
       "      <th>user_type</th>\n",
       "      <th>rental_access_method</th>\n",
       "    </tr>\n",
       "  </thead>\n",
       "  <tbody>\n",
       "    <tr>\n",
       "      <th>121168</th>\n",
       "      <td>811077</td>\n",
       "      <td>2020-01-09 16:23:21</td>\n",
       "      <td>2020-01-19 01:41:19</td>\n",
       "      <td>NaN</td>\n",
       "      <td>NaN</td>\n",
       "      <td>37.336035</td>\n",
       "      <td>-121.899836</td>\n",
       "      <td>NaN</td>\n",
       "      <td>NaN</td>\n",
       "      <td>37.336549</td>\n",
       "      <td>-121.900961</td>\n",
       "      <td>231296</td>\n",
       "      <td>Subscriber</td>\n",
       "      <td>clipper</td>\n",
       "    </tr>\n",
       "    <tr>\n",
       "      <th>49926</th>\n",
       "      <td>86221</td>\n",
       "      <td>2020-01-16 07:51:37.7090</td>\n",
       "      <td>2020-01-17 07:48:39.5150</td>\n",
       "      <td>417.0</td>\n",
       "      <td>Park Ave at Race St</td>\n",
       "      <td>37.326011</td>\n",
       "      <td>-121.912327</td>\n",
       "      <td>417.0</td>\n",
       "      <td>Park Ave at Race St</td>\n",
       "      <td>37.326011</td>\n",
       "      <td>-121.912327</td>\n",
       "      <td>10424</td>\n",
       "      <td>Customer</td>\n",
       "      <td>NaN</td>\n",
       "    </tr>\n",
       "    <tr>\n",
       "      <th>63677</th>\n",
       "      <td>85994</td>\n",
       "      <td>2020-01-12 17:08:54.1100</td>\n",
       "      <td>2020-01-13 17:02:08.5300</td>\n",
       "      <td>284.0</td>\n",
       "      <td>Yerba Buena Center for the Arts (Howard St at ...</td>\n",
       "      <td>37.784872</td>\n",
       "      <td>-122.400876</td>\n",
       "      <td>47.0</td>\n",
       "      <td>4th St at Harrison St</td>\n",
       "      <td>37.780955</td>\n",
       "      <td>-122.399749</td>\n",
       "      <td>11107</td>\n",
       "      <td>Customer</td>\n",
       "      <td>NaN</td>\n",
       "    </tr>\n",
       "    <tr>\n",
       "      <th>27024</th>\n",
       "      <td>85450</td>\n",
       "      <td>2020-01-23 14:29:54.6580</td>\n",
       "      <td>2020-01-24 14:14:05.0000</td>\n",
       "      <td>14.0</td>\n",
       "      <td>Clay St at Battery St</td>\n",
       "      <td>37.795001</td>\n",
       "      <td>-122.399970</td>\n",
       "      <td>11.0</td>\n",
       "      <td>Davis St at Jackson St</td>\n",
       "      <td>37.797280</td>\n",
       "      <td>-122.398436</td>\n",
       "      <td>13072</td>\n",
       "      <td>Subscriber</td>\n",
       "      <td>NaN</td>\n",
       "    </tr>\n",
       "    <tr>\n",
       "      <th>50984</th>\n",
       "      <td>85268</td>\n",
       "      <td>2020-01-15 18:13:47.2190</td>\n",
       "      <td>2020-01-16 17:54:55.2520</td>\n",
       "      <td>258.0</td>\n",
       "      <td>University Ave at Oxford St</td>\n",
       "      <td>37.872355</td>\n",
       "      <td>-122.266447</td>\n",
       "      <td>210.0</td>\n",
       "      <td>45th St at Manila</td>\n",
       "      <td>37.833294</td>\n",
       "      <td>-122.256224</td>\n",
       "      <td>1930</td>\n",
       "      <td>Customer</td>\n",
       "      <td>NaN</td>\n",
       "    </tr>\n",
       "  </tbody>\n",
       "</table>\n",
       "</div>"
      ],
      "text/plain": [
       "        duration_sec                start_time                  end_time  \\\n",
       "121168        811077       2020-01-09 16:23:21       2020-01-19 01:41:19   \n",
       "49926          86221  2020-01-16 07:51:37.7090  2020-01-17 07:48:39.5150   \n",
       "63677          85994  2020-01-12 17:08:54.1100  2020-01-13 17:02:08.5300   \n",
       "27024          85450  2020-01-23 14:29:54.6580  2020-01-24 14:14:05.0000   \n",
       "50984          85268  2020-01-15 18:13:47.2190  2020-01-16 17:54:55.2520   \n",
       "\n",
       "        start_station_id                                 start_station_name  \\\n",
       "121168               NaN                                                NaN   \n",
       "49926              417.0                                Park Ave at Race St   \n",
       "63677              284.0  Yerba Buena Center for the Arts (Howard St at ...   \n",
       "27024               14.0                              Clay St at Battery St   \n",
       "50984              258.0                        University Ave at Oxford St   \n",
       "\n",
       "        start_station_latitude  start_station_longitude  end_station_id  \\\n",
       "121168               37.336035              -121.899836             NaN   \n",
       "49926                37.326011              -121.912327           417.0   \n",
       "63677                37.784872              -122.400876            47.0   \n",
       "27024                37.795001              -122.399970            11.0   \n",
       "50984                37.872355              -122.266447           210.0   \n",
       "\n",
       "              end_station_name  end_station_latitude  end_station_longitude  \\\n",
       "121168                     NaN             37.336549            -121.900961   \n",
       "49926      Park Ave at Race St             37.326011            -121.912327   \n",
       "63677    4th St at Harrison St             37.780955            -122.399749   \n",
       "27024   Davis St at Jackson St             37.797280            -122.398436   \n",
       "50984        45th St at Manila             37.833294            -122.256224   \n",
       "\n",
       "        bike_id   user_type rental_access_method  \n",
       "121168   231296  Subscriber              clipper  \n",
       "49926     10424    Customer                  NaN  \n",
       "63677     11107    Customer                  NaN  \n",
       "27024     13072  Subscriber                  NaN  \n",
       "50984      1930    Customer                  NaN  "
      ]
     },
     "execution_count": 17,
     "metadata": {},
     "output_type": "execute_result"
    }
   ],
   "source": [
    "df1.nlargest(5, 'duration_sec') # extracting 5 largest values of the time duration\n",
    "# seems like there's one outlier"
   ]
  },
  {
   "cell_type": "markdown",
   "id": "dd274fe1",
   "metadata": {
    "slideshow": {
     "slide_type": "skip"
    }
   },
   "source": [
    "What is the structure of your dataset?\n",
    "There are 295854 observations and 14 variables(duration_sec, start_time & end_time, start_station_id, start_station_name,\tstart_station_latitude, start_station_longitude, end_station_id, end_station_name, end_station_latitude, end_station_longitude, bike_id, user_type and rental_access_method\n",
    "\n",
    "What is/are the main feature(s) of interest in your dataset?\n",
    "Most interest is in figuring out features that best determine least time taken for each trip in the dataset.\n",
    "\n",
    "What features in the dataset do you think will help support your investigation into your feature(s) of interest?\n",
    "\n",
    "I expect that duration will have strongest effect on in determining the time spent on each trip taken. Other features that influence time taken could be day of the week, month or user type. "
   ]
  },
  {
   "cell_type": "markdown",
   "id": "99fc248b",
   "metadata": {
    "slideshow": {
     "slide_type": "skip"
    }
   },
   "source": [
    "# Assesing the second dataframe"
   ]
  },
  {
   "cell_type": "code",
   "execution_count": 18,
   "id": "6b1e204d",
   "metadata": {
    "slideshow": {
     "slide_type": "skip"
    }
   },
   "outputs": [
    {
     "data": {
      "text/html": [
       "<div>\n",
       "<style scoped>\n",
       "    .dataframe tbody tr th:only-of-type {\n",
       "        vertical-align: middle;\n",
       "    }\n",
       "\n",
       "    .dataframe tbody tr th {\n",
       "        vertical-align: top;\n",
       "    }\n",
       "\n",
       "    .dataframe thead th {\n",
       "        text-align: right;\n",
       "    }\n",
       "</style>\n",
       "<table border=\"1\" class=\"dataframe\">\n",
       "  <thead>\n",
       "    <tr style=\"text-align: right;\">\n",
       "      <th></th>\n",
       "      <th>duration_sec</th>\n",
       "      <th>start_time</th>\n",
       "      <th>end_time</th>\n",
       "      <th>start_station_id</th>\n",
       "      <th>start_station_name</th>\n",
       "      <th>start_station_latitude</th>\n",
       "      <th>start_station_longitude</th>\n",
       "      <th>end_station_id</th>\n",
       "      <th>end_station_name</th>\n",
       "      <th>end_station_latitude</th>\n",
       "      <th>end_station_longitude</th>\n",
       "      <th>bike_id</th>\n",
       "      <th>user_type</th>\n",
       "      <th>rental_access_method</th>\n",
       "    </tr>\n",
       "  </thead>\n",
       "  <tbody>\n",
       "    <tr>\n",
       "      <th>0</th>\n",
       "      <td>62083</td>\n",
       "      <td>2020-02-29 18:32:30.5750</td>\n",
       "      <td>2020-03-01 11:47:14.0850</td>\n",
       "      <td>176.0</td>\n",
       "      <td>MacArthur BART Station</td>\n",
       "      <td>37.828410</td>\n",
       "      <td>-122.266315</td>\n",
       "      <td>267.0</td>\n",
       "      <td>Derby St at College Ave</td>\n",
       "      <td>37.861804</td>\n",
       "      <td>-122.253569</td>\n",
       "      <td>1993</td>\n",
       "      <td>Customer</td>\n",
       "      <td>NaN</td>\n",
       "    </tr>\n",
       "    <tr>\n",
       "      <th>1</th>\n",
       "      <td>1364</td>\n",
       "      <td>2020-02-29 23:53:53.7190</td>\n",
       "      <td>2020-03-01 00:16:37.9720</td>\n",
       "      <td>375.0</td>\n",
       "      <td>Grove St at Masonic Ave</td>\n",
       "      <td>37.774836</td>\n",
       "      <td>-122.446546</td>\n",
       "      <td>506.0</td>\n",
       "      <td>7th Ave at Clement St</td>\n",
       "      <td>37.782439</td>\n",
       "      <td>-122.465377</td>\n",
       "      <td>12402</td>\n",
       "      <td>Customer</td>\n",
       "      <td>NaN</td>\n",
       "    </tr>\n",
       "    <tr>\n",
       "      <th>2</th>\n",
       "      <td>836</td>\n",
       "      <td>2020-02-29 23:54:03.1970</td>\n",
       "      <td>2020-03-01 00:07:59.8490</td>\n",
       "      <td>375.0</td>\n",
       "      <td>Grove St at Masonic Ave</td>\n",
       "      <td>37.774836</td>\n",
       "      <td>-122.446546</td>\n",
       "      <td>454.0</td>\n",
       "      <td>7th Ave at Cabrillo St</td>\n",
       "      <td>37.775176</td>\n",
       "      <td>-122.465007</td>\n",
       "      <td>2302</td>\n",
       "      <td>Customer</td>\n",
       "      <td>NaN</td>\n",
       "    </tr>\n",
       "    <tr>\n",
       "      <th>3</th>\n",
       "      <td>1004</td>\n",
       "      <td>2020-02-29 23:48:34.6480</td>\n",
       "      <td>2020-03-01 00:05:19.2020</td>\n",
       "      <td>179.0</td>\n",
       "      <td>Telegraph Ave at 27th St</td>\n",
       "      <td>37.816073</td>\n",
       "      <td>-122.267886</td>\n",
       "      <td>200.0</td>\n",
       "      <td>2nd Ave at E 18th St</td>\n",
       "      <td>37.800214</td>\n",
       "      <td>-122.253810</td>\n",
       "      <td>902</td>\n",
       "      <td>Customer</td>\n",
       "      <td>NaN</td>\n",
       "    </tr>\n",
       "    <tr>\n",
       "      <th>4</th>\n",
       "      <td>1007</td>\n",
       "      <td>2020-02-29 23:48:25.9000</td>\n",
       "      <td>2020-03-01 00:05:13.4490</td>\n",
       "      <td>179.0</td>\n",
       "      <td>Telegraph Ave at 27th St</td>\n",
       "      <td>37.816073</td>\n",
       "      <td>-122.267886</td>\n",
       "      <td>200.0</td>\n",
       "      <td>2nd Ave at E 18th St</td>\n",
       "      <td>37.800214</td>\n",
       "      <td>-122.253810</td>\n",
       "      <td>11578</td>\n",
       "      <td>Customer</td>\n",
       "      <td>NaN</td>\n",
       "    </tr>\n",
       "    <tr>\n",
       "      <th>5</th>\n",
       "      <td>338</td>\n",
       "      <td>2020-02-29 23:57:43.5250</td>\n",
       "      <td>2020-03-01 00:03:22.4400</td>\n",
       "      <td>182.0</td>\n",
       "      <td>19th Street BART Station</td>\n",
       "      <td>37.809369</td>\n",
       "      <td>-122.267951</td>\n",
       "      <td>178.0</td>\n",
       "      <td>Broadway at 30th St</td>\n",
       "      <td>37.819381</td>\n",
       "      <td>-122.261928</td>\n",
       "      <td>3545</td>\n",
       "      <td>Customer</td>\n",
       "      <td>NaN</td>\n",
       "    </tr>\n",
       "    <tr>\n",
       "      <th>6</th>\n",
       "      <td>570</td>\n",
       "      <td>2020-02-29 23:52:37.7100</td>\n",
       "      <td>2020-03-01 00:02:08.3470</td>\n",
       "      <td>252.0</td>\n",
       "      <td>Channing Way at Shattuck Ave</td>\n",
       "      <td>37.865847</td>\n",
       "      <td>-122.267443</td>\n",
       "      <td>252.0</td>\n",
       "      <td>Channing Way at Shattuck Ave</td>\n",
       "      <td>37.865847</td>\n",
       "      <td>-122.267443</td>\n",
       "      <td>9577</td>\n",
       "      <td>Customer</td>\n",
       "      <td>NaN</td>\n",
       "    </tr>\n",
       "    <tr>\n",
       "      <th>7</th>\n",
       "      <td>1001</td>\n",
       "      <td>2020-02-29 23:36:02.9230</td>\n",
       "      <td>2020-02-29 23:52:44.6450</td>\n",
       "      <td>5.0</td>\n",
       "      <td>Powell St BART Station (Market St at 5th St)</td>\n",
       "      <td>37.783899</td>\n",
       "      <td>-122.408445</td>\n",
       "      <td>39.0</td>\n",
       "      <td>Scott St at Golden Gate Ave</td>\n",
       "      <td>37.778999</td>\n",
       "      <td>-122.436861</td>\n",
       "      <td>11867</td>\n",
       "      <td>Customer</td>\n",
       "      <td>NaN</td>\n",
       "    </tr>\n",
       "    <tr>\n",
       "      <th>8</th>\n",
       "      <td>3247</td>\n",
       "      <td>2020-02-29 22:58:00.6150</td>\n",
       "      <td>2020-02-29 23:52:08.3760</td>\n",
       "      <td>246.0</td>\n",
       "      <td>Berkeley Civic Center</td>\n",
       "      <td>37.869060</td>\n",
       "      <td>-122.270556</td>\n",
       "      <td>252.0</td>\n",
       "      <td>Channing Way at Shattuck Ave</td>\n",
       "      <td>37.865847</td>\n",
       "      <td>-122.267443</td>\n",
       "      <td>9577</td>\n",
       "      <td>Customer</td>\n",
       "      <td>NaN</td>\n",
       "    </tr>\n",
       "    <tr>\n",
       "      <th>9</th>\n",
       "      <td>898</td>\n",
       "      <td>2020-02-29 23:35:54.7540</td>\n",
       "      <td>2020-02-29 23:50:53.7240</td>\n",
       "      <td>95.0</td>\n",
       "      <td>Sanchez St at 15th St</td>\n",
       "      <td>37.766219</td>\n",
       "      <td>-122.431060</td>\n",
       "      <td>33.0</td>\n",
       "      <td>Golden Gate Ave at Hyde St</td>\n",
       "      <td>37.781650</td>\n",
       "      <td>-122.415408</td>\n",
       "      <td>11250</td>\n",
       "      <td>Customer</td>\n",
       "      <td>NaN</td>\n",
       "    </tr>\n",
       "  </tbody>\n",
       "</table>\n",
       "</div>"
      ],
      "text/plain": [
       "   duration_sec                start_time                  end_time  \\\n",
       "0         62083  2020-02-29 18:32:30.5750  2020-03-01 11:47:14.0850   \n",
       "1          1364  2020-02-29 23:53:53.7190  2020-03-01 00:16:37.9720   \n",
       "2           836  2020-02-29 23:54:03.1970  2020-03-01 00:07:59.8490   \n",
       "3          1004  2020-02-29 23:48:34.6480  2020-03-01 00:05:19.2020   \n",
       "4          1007  2020-02-29 23:48:25.9000  2020-03-01 00:05:13.4490   \n",
       "5           338  2020-02-29 23:57:43.5250  2020-03-01 00:03:22.4400   \n",
       "6           570  2020-02-29 23:52:37.7100  2020-03-01 00:02:08.3470   \n",
       "7          1001  2020-02-29 23:36:02.9230  2020-02-29 23:52:44.6450   \n",
       "8          3247  2020-02-29 22:58:00.6150  2020-02-29 23:52:08.3760   \n",
       "9           898  2020-02-29 23:35:54.7540  2020-02-29 23:50:53.7240   \n",
       "\n",
       "   start_station_id                            start_station_name  \\\n",
       "0             176.0                        MacArthur BART Station   \n",
       "1             375.0                       Grove St at Masonic Ave   \n",
       "2             375.0                       Grove St at Masonic Ave   \n",
       "3             179.0                      Telegraph Ave at 27th St   \n",
       "4             179.0                      Telegraph Ave at 27th St   \n",
       "5             182.0                      19th Street BART Station   \n",
       "6             252.0                  Channing Way at Shattuck Ave   \n",
       "7               5.0  Powell St BART Station (Market St at 5th St)   \n",
       "8             246.0                         Berkeley Civic Center   \n",
       "9              95.0                         Sanchez St at 15th St   \n",
       "\n",
       "   start_station_latitude  start_station_longitude  end_station_id  \\\n",
       "0               37.828410              -122.266315           267.0   \n",
       "1               37.774836              -122.446546           506.0   \n",
       "2               37.774836              -122.446546           454.0   \n",
       "3               37.816073              -122.267886           200.0   \n",
       "4               37.816073              -122.267886           200.0   \n",
       "5               37.809369              -122.267951           178.0   \n",
       "6               37.865847              -122.267443           252.0   \n",
       "7               37.783899              -122.408445            39.0   \n",
       "8               37.869060              -122.270556           252.0   \n",
       "9               37.766219              -122.431060            33.0   \n",
       "\n",
       "               end_station_name  end_station_latitude  end_station_longitude  \\\n",
       "0       Derby St at College Ave             37.861804            -122.253569   \n",
       "1         7th Ave at Clement St             37.782439            -122.465377   \n",
       "2        7th Ave at Cabrillo St             37.775176            -122.465007   \n",
       "3          2nd Ave at E 18th St             37.800214            -122.253810   \n",
       "4          2nd Ave at E 18th St             37.800214            -122.253810   \n",
       "5           Broadway at 30th St             37.819381            -122.261928   \n",
       "6  Channing Way at Shattuck Ave             37.865847            -122.267443   \n",
       "7   Scott St at Golden Gate Ave             37.778999            -122.436861   \n",
       "8  Channing Way at Shattuck Ave             37.865847            -122.267443   \n",
       "9    Golden Gate Ave at Hyde St             37.781650            -122.415408   \n",
       "\n",
       "   bike_id user_type rental_access_method  \n",
       "0     1993  Customer                  NaN  \n",
       "1    12402  Customer                  NaN  \n",
       "2     2302  Customer                  NaN  \n",
       "3      902  Customer                  NaN  \n",
       "4    11578  Customer                  NaN  \n",
       "5     3545  Customer                  NaN  \n",
       "6     9577  Customer                  NaN  \n",
       "7    11867  Customer                  NaN  \n",
       "8     9577  Customer                  NaN  \n",
       "9    11250  Customer                  NaN  "
      ]
     },
     "execution_count": 18,
     "metadata": {},
     "output_type": "execute_result"
    }
   ],
   "source": [
    "df2.head(10)"
   ]
  },
  {
   "cell_type": "code",
   "execution_count": 19,
   "id": "a6fd9a09",
   "metadata": {
    "slideshow": {
     "slide_type": "skip"
    }
   },
   "outputs": [
    {
     "data": {
      "text/plain": [
       "(432354, 14)"
      ]
     },
     "execution_count": 19,
     "metadata": {},
     "output_type": "execute_result"
    }
   ],
   "source": [
    "df2.shape"
   ]
  },
  {
   "cell_type": "code",
   "execution_count": 20,
   "id": "c170c248",
   "metadata": {
    "slideshow": {
     "slide_type": "skip"
    }
   },
   "outputs": [
    {
     "data": {
      "text/html": [
       "<div>\n",
       "<style scoped>\n",
       "    .dataframe tbody tr th:only-of-type {\n",
       "        vertical-align: middle;\n",
       "    }\n",
       "\n",
       "    .dataframe tbody tr th {\n",
       "        vertical-align: top;\n",
       "    }\n",
       "\n",
       "    .dataframe thead th {\n",
       "        text-align: right;\n",
       "    }\n",
       "</style>\n",
       "<table border=\"1\" class=\"dataframe\">\n",
       "  <thead>\n",
       "    <tr style=\"text-align: right;\">\n",
       "      <th></th>\n",
       "      <th>duration_sec</th>\n",
       "      <th>start_time</th>\n",
       "      <th>end_time</th>\n",
       "      <th>start_station_id</th>\n",
       "      <th>start_station_name</th>\n",
       "      <th>start_station_latitude</th>\n",
       "      <th>start_station_longitude</th>\n",
       "      <th>end_station_id</th>\n",
       "      <th>end_station_name</th>\n",
       "      <th>end_station_latitude</th>\n",
       "      <th>end_station_longitude</th>\n",
       "      <th>bike_id</th>\n",
       "      <th>user_type</th>\n",
       "      <th>rental_access_method</th>\n",
       "    </tr>\n",
       "  </thead>\n",
       "  <tbody>\n",
       "    <tr>\n",
       "      <th>74027</th>\n",
       "      <td>672</td>\n",
       "      <td>2020-01-10 12:56:43.0580</td>\n",
       "      <td>2020-01-10 13:07:55.9720</td>\n",
       "      <td>239.0</td>\n",
       "      <td>Bancroft Way at Telegraph Ave</td>\n",
       "      <td>37.868813</td>\n",
       "      <td>-122.258764</td>\n",
       "      <td>166.0</td>\n",
       "      <td>College Ave at Alcatraz Ave</td>\n",
       "      <td>37.851376</td>\n",
       "      <td>-122.252523</td>\n",
       "      <td>13025</td>\n",
       "      <td>Customer</td>\n",
       "      <td>NaN</td>\n",
       "    </tr>\n",
       "    <tr>\n",
       "      <th>216554</th>\n",
       "      <td>655</td>\n",
       "      <td>2020-01-18 19:32:38</td>\n",
       "      <td>2020-01-18 19:43:33</td>\n",
       "      <td>NaN</td>\n",
       "      <td>NaN</td>\n",
       "      <td>37.778437</td>\n",
       "      <td>-122.391593</td>\n",
       "      <td>NaN</td>\n",
       "      <td>NaN</td>\n",
       "      <td>37.784702</td>\n",
       "      <td>-122.407218</td>\n",
       "      <td>766123</td>\n",
       "      <td>Subscriber</td>\n",
       "      <td>app</td>\n",
       "    </tr>\n",
       "    <tr>\n",
       "      <th>139605</th>\n",
       "      <td>1215</td>\n",
       "      <td>2020-01-20 19:44:20</td>\n",
       "      <td>2020-01-20 20:04:36</td>\n",
       "      <td>355.0</td>\n",
       "      <td>23rd St at Tennessee St</td>\n",
       "      <td>37.755367</td>\n",
       "      <td>-122.388795</td>\n",
       "      <td>73.0</td>\n",
       "      <td>Pierce St at Haight St</td>\n",
       "      <td>37.771793</td>\n",
       "      <td>-122.433708</td>\n",
       "      <td>419033</td>\n",
       "      <td>Subscriber</td>\n",
       "      <td>app</td>\n",
       "    </tr>\n",
       "    <tr>\n",
       "      <th>45437</th>\n",
       "      <td>6116</td>\n",
       "      <td>2020-01-18 12:17:28.0530</td>\n",
       "      <td>2020-01-18 13:59:24.4520</td>\n",
       "      <td>478.0</td>\n",
       "      <td>Greenwich St at Franklin St</td>\n",
       "      <td>37.800254</td>\n",
       "      <td>-122.425919</td>\n",
       "      <td>399.0</td>\n",
       "      <td>Bay St at Fillmore St</td>\n",
       "      <td>37.802636</td>\n",
       "      <td>-122.436289</td>\n",
       "      <td>10309</td>\n",
       "      <td>Customer</td>\n",
       "      <td>NaN</td>\n",
       "    </tr>\n",
       "    <tr>\n",
       "      <th>247456</th>\n",
       "      <td>580</td>\n",
       "      <td>2020-01-31 17:57:14</td>\n",
       "      <td>2020-01-31 18:06:55</td>\n",
       "      <td>26.0</td>\n",
       "      <td>1st St at Folsom St</td>\n",
       "      <td>37.787290</td>\n",
       "      <td>-122.394380</td>\n",
       "      <td>NaN</td>\n",
       "      <td>NaN</td>\n",
       "      <td>37.777529</td>\n",
       "      <td>-122.394337</td>\n",
       "      <td>505444</td>\n",
       "      <td>Subscriber</td>\n",
       "      <td>app</td>\n",
       "    </tr>\n",
       "    <tr>\n",
       "      <th>36780</th>\n",
       "      <td>1251</td>\n",
       "      <td>2020-01-22 08:12:17.8310</td>\n",
       "      <td>2020-01-22 08:33:09.6830</td>\n",
       "      <td>71.0</td>\n",
       "      <td>Broderick St at Oak St</td>\n",
       "      <td>37.773063</td>\n",
       "      <td>-122.439078</td>\n",
       "      <td>363.0</td>\n",
       "      <td>Salesforce Transit Center (Natoma St at 2nd St)</td>\n",
       "      <td>37.787492</td>\n",
       "      <td>-122.398285</td>\n",
       "      <td>10647</td>\n",
       "      <td>Customer</td>\n",
       "      <td>NaN</td>\n",
       "    </tr>\n",
       "    <tr>\n",
       "      <th>244519</th>\n",
       "      <td>1209</td>\n",
       "      <td>2020-01-29 19:18:16</td>\n",
       "      <td>2020-01-29 19:38:25</td>\n",
       "      <td>NaN</td>\n",
       "      <td>NaN</td>\n",
       "      <td>37.786607</td>\n",
       "      <td>-122.399446</td>\n",
       "      <td>NaN</td>\n",
       "      <td>NaN</td>\n",
       "      <td>37.786583</td>\n",
       "      <td>-122.408463</td>\n",
       "      <td>884745</td>\n",
       "      <td>Customer</td>\n",
       "      <td>app</td>\n",
       "    </tr>\n",
       "    <tr>\n",
       "      <th>209462</th>\n",
       "      <td>251</td>\n",
       "      <td>2020-01-22 18:00:51</td>\n",
       "      <td>2020-01-22 18:05:03</td>\n",
       "      <td>NaN</td>\n",
       "      <td>NaN</td>\n",
       "      <td>37.776824</td>\n",
       "      <td>-122.395307</td>\n",
       "      <td>NaN</td>\n",
       "      <td>NaN</td>\n",
       "      <td>37.774647</td>\n",
       "      <td>-122.405078</td>\n",
       "      <td>415436</td>\n",
       "      <td>Subscriber</td>\n",
       "      <td>app</td>\n",
       "    </tr>\n",
       "    <tr>\n",
       "      <th>195805</th>\n",
       "      <td>273</td>\n",
       "      <td>2020-01-10 10:46:17</td>\n",
       "      <td>2020-01-10 10:50:51</td>\n",
       "      <td>80.0</td>\n",
       "      <td>Townsend St at 5th St</td>\n",
       "      <td>37.775235</td>\n",
       "      <td>-122.397437</td>\n",
       "      <td>NaN</td>\n",
       "      <td>NaN</td>\n",
       "      <td>37.766568</td>\n",
       "      <td>-122.406722</td>\n",
       "      <td>715819</td>\n",
       "      <td>Subscriber</td>\n",
       "      <td>app</td>\n",
       "    </tr>\n",
       "    <tr>\n",
       "      <th>30408</th>\n",
       "      <td>115</td>\n",
       "      <td>2020-01-23 16:54:45.0160</td>\n",
       "      <td>2020-01-23 16:56:40.8390</td>\n",
       "      <td>59.0</td>\n",
       "      <td>S Van Ness Ave at Market St</td>\n",
       "      <td>37.774814</td>\n",
       "      <td>-122.418954</td>\n",
       "      <td>77.0</td>\n",
       "      <td>11th St at Natoma St</td>\n",
       "      <td>37.773507</td>\n",
       "      <td>-122.416040</td>\n",
       "      <td>10597</td>\n",
       "      <td>Customer</td>\n",
       "      <td>NaN</td>\n",
       "    </tr>\n",
       "  </tbody>\n",
       "</table>\n",
       "</div>"
      ],
      "text/plain": [
       "        duration_sec                start_time                  end_time  \\\n",
       "74027            672  2020-01-10 12:56:43.0580  2020-01-10 13:07:55.9720   \n",
       "216554           655       2020-01-18 19:32:38       2020-01-18 19:43:33   \n",
       "139605          1215       2020-01-20 19:44:20       2020-01-20 20:04:36   \n",
       "45437           6116  2020-01-18 12:17:28.0530  2020-01-18 13:59:24.4520   \n",
       "247456           580       2020-01-31 17:57:14       2020-01-31 18:06:55   \n",
       "36780           1251  2020-01-22 08:12:17.8310  2020-01-22 08:33:09.6830   \n",
       "244519          1209       2020-01-29 19:18:16       2020-01-29 19:38:25   \n",
       "209462           251       2020-01-22 18:00:51       2020-01-22 18:05:03   \n",
       "195805           273       2020-01-10 10:46:17       2020-01-10 10:50:51   \n",
       "30408            115  2020-01-23 16:54:45.0160  2020-01-23 16:56:40.8390   \n",
       "\n",
       "        start_station_id             start_station_name  \\\n",
       "74027              239.0  Bancroft Way at Telegraph Ave   \n",
       "216554               NaN                            NaN   \n",
       "139605             355.0        23rd St at Tennessee St   \n",
       "45437              478.0    Greenwich St at Franklin St   \n",
       "247456              26.0            1st St at Folsom St   \n",
       "36780               71.0         Broderick St at Oak St   \n",
       "244519               NaN                            NaN   \n",
       "209462               NaN                            NaN   \n",
       "195805              80.0          Townsend St at 5th St   \n",
       "30408               59.0    S Van Ness Ave at Market St   \n",
       "\n",
       "        start_station_latitude  start_station_longitude  end_station_id  \\\n",
       "74027                37.868813              -122.258764           166.0   \n",
       "216554               37.778437              -122.391593             NaN   \n",
       "139605               37.755367              -122.388795            73.0   \n",
       "45437                37.800254              -122.425919           399.0   \n",
       "247456               37.787290              -122.394380             NaN   \n",
       "36780                37.773063              -122.439078           363.0   \n",
       "244519               37.786607              -122.399446             NaN   \n",
       "209462               37.776824              -122.395307             NaN   \n",
       "195805               37.775235              -122.397437             NaN   \n",
       "30408                37.774814              -122.418954            77.0   \n",
       "\n",
       "                                       end_station_name  end_station_latitude  \\\n",
       "74027                       College Ave at Alcatraz Ave             37.851376   \n",
       "216554                                              NaN             37.784702   \n",
       "139605                           Pierce St at Haight St             37.771793   \n",
       "45437                             Bay St at Fillmore St             37.802636   \n",
       "247456                                              NaN             37.777529   \n",
       "36780   Salesforce Transit Center (Natoma St at 2nd St)             37.787492   \n",
       "244519                                              NaN             37.786583   \n",
       "209462                                              NaN             37.774647   \n",
       "195805                                              NaN             37.766568   \n",
       "30408                              11th St at Natoma St             37.773507   \n",
       "\n",
       "        end_station_longitude  bike_id   user_type rental_access_method  \n",
       "74027             -122.252523    13025    Customer                  NaN  \n",
       "216554            -122.407218   766123  Subscriber                  app  \n",
       "139605            -122.433708   419033  Subscriber                  app  \n",
       "45437             -122.436289    10309    Customer                  NaN  \n",
       "247456            -122.394337   505444  Subscriber                  app  \n",
       "36780             -122.398285    10647    Customer                  NaN  \n",
       "244519            -122.408463   884745    Customer                  app  \n",
       "209462            -122.405078   415436  Subscriber                  app  \n",
       "195805            -122.406722   715819  Subscriber                  app  \n",
       "30408             -122.416040    10597    Customer                  NaN  "
      ]
     },
     "execution_count": 20,
     "metadata": {},
     "output_type": "execute_result"
    }
   ],
   "source": [
    "df1.sample(10)"
   ]
  },
  {
   "cell_type": "code",
   "execution_count": 21,
   "id": "2a7d374e",
   "metadata": {
    "slideshow": {
     "slide_type": "skip"
    }
   },
   "outputs": [
    {
     "name": "stdout",
     "output_type": "stream",
     "text": [
      "<class 'pandas.core.frame.DataFrame'>\n",
      "RangeIndex: 432354 entries, 0 to 432353\n",
      "Data columns (total 14 columns):\n",
      " #   Column                   Non-Null Count   Dtype  \n",
      "---  ------                   --------------   -----  \n",
      " 0   duration_sec             432354 non-null  int64  \n",
      " 1   start_time               432354 non-null  object \n",
      " 2   end_time                 432354 non-null  object \n",
      " 3   start_station_id         161723 non-null  float64\n",
      " 4   start_station_name       161723 non-null  object \n",
      " 5   start_station_latitude   432354 non-null  float64\n",
      " 6   start_station_longitude  432354 non-null  float64\n",
      " 7   end_station_id           162194 non-null  float64\n",
      " 8   end_station_name         162194 non-null  object \n",
      " 9   end_station_latitude     432354 non-null  float64\n",
      " 10  end_station_longitude    432354 non-null  float64\n",
      " 11  bike_id                  432354 non-null  int64  \n",
      " 12  user_type                432354 non-null  object \n",
      " 13  rental_access_method     317843 non-null  object \n",
      "dtypes: float64(6), int64(2), object(6)\n",
      "memory usage: 46.2+ MB\n"
     ]
    }
   ],
   "source": [
    "df2.info()"
   ]
  },
  {
   "cell_type": "code",
   "execution_count": 22,
   "id": "dd7cb82e",
   "metadata": {
    "slideshow": {
     "slide_type": "skip"
    }
   },
   "outputs": [
    {
     "data": {
      "text/html": [
       "<div>\n",
       "<style scoped>\n",
       "    .dataframe tbody tr th:only-of-type {\n",
       "        vertical-align: middle;\n",
       "    }\n",
       "\n",
       "    .dataframe tbody tr th {\n",
       "        vertical-align: top;\n",
       "    }\n",
       "\n",
       "    .dataframe thead th {\n",
       "        text-align: right;\n",
       "    }\n",
       "</style>\n",
       "<table border=\"1\" class=\"dataframe\">\n",
       "  <thead>\n",
       "    <tr style=\"text-align: right;\">\n",
       "      <th></th>\n",
       "      <th>duration_sec</th>\n",
       "      <th>start_station_id</th>\n",
       "      <th>start_station_latitude</th>\n",
       "      <th>start_station_longitude</th>\n",
       "      <th>end_station_id</th>\n",
       "      <th>end_station_latitude</th>\n",
       "      <th>end_station_longitude</th>\n",
       "      <th>bike_id</th>\n",
       "    </tr>\n",
       "  </thead>\n",
       "  <tbody>\n",
       "    <tr>\n",
       "      <th>count</th>\n",
       "      <td>432354.000000</td>\n",
       "      <td>161723.000000</td>\n",
       "      <td>432354.000000</td>\n",
       "      <td>432354.000000</td>\n",
       "      <td>162194.000000</td>\n",
       "      <td>432354.000000</td>\n",
       "      <td>432354.000000</td>\n",
       "      <td>432354.000000</td>\n",
       "    </tr>\n",
       "    <tr>\n",
       "      <th>mean</th>\n",
       "      <td>802.375502</td>\n",
       "      <td>174.885601</td>\n",
       "      <td>37.752000</td>\n",
       "      <td>-122.363239</td>\n",
       "      <td>167.831301</td>\n",
       "      <td>37.751563</td>\n",
       "      <td>-122.361263</td>\n",
       "      <td>366898.004772</td>\n",
       "    </tr>\n",
       "    <tr>\n",
       "      <th>std</th>\n",
       "      <td>1383.128099</td>\n",
       "      <td>144.087616</td>\n",
       "      <td>0.249644</td>\n",
       "      <td>0.733128</td>\n",
       "      <td>143.653096</td>\n",
       "      <td>0.286521</td>\n",
       "      <td>0.863248</td>\n",
       "      <td>300819.897178</td>\n",
       "    </tr>\n",
       "    <tr>\n",
       "      <th>min</th>\n",
       "      <td>60.000000</td>\n",
       "      <td>3.000000</td>\n",
       "      <td>0.000000</td>\n",
       "      <td>-122.514230</td>\n",
       "      <td>3.000000</td>\n",
       "      <td>0.000000</td>\n",
       "      <td>-122.575763</td>\n",
       "      <td>12.000000</td>\n",
       "    </tr>\n",
       "    <tr>\n",
       "      <th>25%</th>\n",
       "      <td>369.000000</td>\n",
       "      <td>56.000000</td>\n",
       "      <td>37.765910</td>\n",
       "      <td>-122.421264</td>\n",
       "      <td>44.000000</td>\n",
       "      <td>37.766130</td>\n",
       "      <td>-122.420628</td>\n",
       "      <td>12842.000000</td>\n",
       "    </tr>\n",
       "    <tr>\n",
       "      <th>50%</th>\n",
       "      <td>596.000000</td>\n",
       "      <td>126.000000</td>\n",
       "      <td>37.777288</td>\n",
       "      <td>-122.405528</td>\n",
       "      <td>120.000000</td>\n",
       "      <td>37.777429</td>\n",
       "      <td>-122.404904</td>\n",
       "      <td>355212.000000</td>\n",
       "    </tr>\n",
       "    <tr>\n",
       "      <th>75%</th>\n",
       "      <td>934.750000</td>\n",
       "      <td>268.000000</td>\n",
       "      <td>37.790102</td>\n",
       "      <td>-122.393572</td>\n",
       "      <td>258.000000</td>\n",
       "      <td>37.790352</td>\n",
       "      <td>-122.393547</td>\n",
       "      <td>567705.000000</td>\n",
       "    </tr>\n",
       "    <tr>\n",
       "      <th>max</th>\n",
       "      <td>86317.000000</td>\n",
       "      <td>512.000000</td>\n",
       "      <td>37.880222</td>\n",
       "      <td>0.000000</td>\n",
       "      <td>512.000000</td>\n",
       "      <td>37.880222</td>\n",
       "      <td>0.000000</td>\n",
       "      <td>999960.000000</td>\n",
       "    </tr>\n",
       "  </tbody>\n",
       "</table>\n",
       "</div>"
      ],
      "text/plain": [
       "        duration_sec  start_station_id  start_station_latitude  \\\n",
       "count  432354.000000     161723.000000           432354.000000   \n",
       "mean      802.375502        174.885601               37.752000   \n",
       "std      1383.128099        144.087616                0.249644   \n",
       "min        60.000000          3.000000                0.000000   \n",
       "25%       369.000000         56.000000               37.765910   \n",
       "50%       596.000000        126.000000               37.777288   \n",
       "75%       934.750000        268.000000               37.790102   \n",
       "max     86317.000000        512.000000               37.880222   \n",
       "\n",
       "       start_station_longitude  end_station_id  end_station_latitude  \\\n",
       "count            432354.000000   162194.000000         432354.000000   \n",
       "mean               -122.363239      167.831301             37.751563   \n",
       "std                   0.733128      143.653096              0.286521   \n",
       "min                -122.514230        3.000000              0.000000   \n",
       "25%                -122.421264       44.000000             37.766130   \n",
       "50%                -122.405528      120.000000             37.777429   \n",
       "75%                -122.393572      258.000000             37.790352   \n",
       "max                   0.000000      512.000000             37.880222   \n",
       "\n",
       "       end_station_longitude        bike_id  \n",
       "count          432354.000000  432354.000000  \n",
       "mean             -122.361263  366898.004772  \n",
       "std                 0.863248  300819.897178  \n",
       "min              -122.575763      12.000000  \n",
       "25%              -122.420628   12842.000000  \n",
       "50%              -122.404904  355212.000000  \n",
       "75%              -122.393547  567705.000000  \n",
       "max                 0.000000  999960.000000  "
      ]
     },
     "execution_count": 22,
     "metadata": {},
     "output_type": "execute_result"
    }
   ],
   "source": [
    "df2.describe()"
   ]
  },
  {
   "cell_type": "code",
   "execution_count": 23,
   "id": "24fa4a0d",
   "metadata": {
    "slideshow": {
     "slide_type": "skip"
    }
   },
   "outputs": [
    {
     "data": {
      "text/plain": [
       "duration_sec               100\n",
       "start_time                 100\n",
       "end_time                   100\n",
       "start_station_id            16\n",
       "start_station_name          16\n",
       "start_station_latitude     100\n",
       "start_station_longitude    100\n",
       "end_station_id              14\n",
       "end_station_name            14\n",
       "end_station_latitude       100\n",
       "end_station_longitude      100\n",
       "bike_id                    100\n",
       "user_type                  100\n",
       "rental_access_method       100\n",
       "dtype: int64"
      ]
     },
     "execution_count": 23,
     "metadata": {},
     "output_type": "execute_result"
    }
   ],
   "source": [
    "df2[df2.duration_sec <= 60].count()"
   ]
  },
  {
   "cell_type": "code",
   "execution_count": 24,
   "id": "bcb2721b",
   "metadata": {
    "slideshow": {
     "slide_type": "skip"
    }
   },
   "outputs": [
    {
     "data": {
      "text/html": [
       "<div>\n",
       "<style scoped>\n",
       "    .dataframe tbody tr th:only-of-type {\n",
       "        vertical-align: middle;\n",
       "    }\n",
       "\n",
       "    .dataframe tbody tr th {\n",
       "        vertical-align: top;\n",
       "    }\n",
       "\n",
       "    .dataframe thead th {\n",
       "        text-align: right;\n",
       "    }\n",
       "</style>\n",
       "<table border=\"1\" class=\"dataframe\">\n",
       "  <thead>\n",
       "    <tr style=\"text-align: right;\">\n",
       "      <th></th>\n",
       "      <th>duration_sec</th>\n",
       "      <th>start_time</th>\n",
       "      <th>end_time</th>\n",
       "      <th>start_station_id</th>\n",
       "      <th>start_station_name</th>\n",
       "      <th>start_station_latitude</th>\n",
       "      <th>start_station_longitude</th>\n",
       "      <th>end_station_id</th>\n",
       "      <th>end_station_name</th>\n",
       "      <th>end_station_latitude</th>\n",
       "      <th>end_station_longitude</th>\n",
       "      <th>bike_id</th>\n",
       "      <th>user_type</th>\n",
       "      <th>rental_access_method</th>\n",
       "    </tr>\n",
       "  </thead>\n",
       "  <tbody>\n",
       "    <tr>\n",
       "      <th>119217</th>\n",
       "      <td>60</td>\n",
       "      <td>2020-02-26 11:12:31</td>\n",
       "      <td>2020-02-26 11:13:31</td>\n",
       "      <td>296.0</td>\n",
       "      <td>5th St at Virginia St</td>\n",
       "      <td>37.325998</td>\n",
       "      <td>-121.877120</td>\n",
       "      <td>296.0</td>\n",
       "      <td>5th St at Virginia St</td>\n",
       "      <td>37.325998</td>\n",
       "      <td>-121.877120</td>\n",
       "      <td>299042</td>\n",
       "      <td>Subscriber</td>\n",
       "      <td>app</td>\n",
       "    </tr>\n",
       "    <tr>\n",
       "      <th>122497</th>\n",
       "      <td>60</td>\n",
       "      <td>2020-02-07 15:19:12</td>\n",
       "      <td>2020-02-07 15:20:13</td>\n",
       "      <td>NaN</td>\n",
       "      <td>NaN</td>\n",
       "      <td>37.331160</td>\n",
       "      <td>-121.868612</td>\n",
       "      <td>NaN</td>\n",
       "      <td>NaN</td>\n",
       "      <td>37.331156</td>\n",
       "      <td>-121.868626</td>\n",
       "      <td>518079</td>\n",
       "      <td>Subscriber</td>\n",
       "      <td>clipper</td>\n",
       "    </tr>\n",
       "    <tr>\n",
       "      <th>124418</th>\n",
       "      <td>60</td>\n",
       "      <td>2020-02-09 18:03:10</td>\n",
       "      <td>2020-02-09 18:04:11</td>\n",
       "      <td>NaN</td>\n",
       "      <td>NaN</td>\n",
       "      <td>37.332897</td>\n",
       "      <td>-121.913422</td>\n",
       "      <td>NaN</td>\n",
       "      <td>NaN</td>\n",
       "      <td>37.332381</td>\n",
       "      <td>-121.912854</td>\n",
       "      <td>642326</td>\n",
       "      <td>Subscriber</td>\n",
       "      <td>app</td>\n",
       "    </tr>\n",
       "    <tr>\n",
       "      <th>124746</th>\n",
       "      <td>60</td>\n",
       "      <td>2020-02-29 17:21:04</td>\n",
       "      <td>2020-02-29 17:22:05</td>\n",
       "      <td>NaN</td>\n",
       "      <td>NaN</td>\n",
       "      <td>37.333003</td>\n",
       "      <td>-121.879480</td>\n",
       "      <td>NaN</td>\n",
       "      <td>NaN</td>\n",
       "      <td>37.333025</td>\n",
       "      <td>-121.879476</td>\n",
       "      <td>575025</td>\n",
       "      <td>Subscriber</td>\n",
       "      <td>app</td>\n",
       "    </tr>\n",
       "    <tr>\n",
       "      <th>124857</th>\n",
       "      <td>60</td>\n",
       "      <td>2020-02-18 20:59:04</td>\n",
       "      <td>2020-02-18 21:00:04</td>\n",
       "      <td>NaN</td>\n",
       "      <td>NaN</td>\n",
       "      <td>37.333054</td>\n",
       "      <td>-121.879789</td>\n",
       "      <td>NaN</td>\n",
       "      <td>NaN</td>\n",
       "      <td>37.332821</td>\n",
       "      <td>-121.879581</td>\n",
       "      <td>715819</td>\n",
       "      <td>Subscriber</td>\n",
       "      <td>app</td>\n",
       "    </tr>\n",
       "  </tbody>\n",
       "</table>\n",
       "</div>"
      ],
      "text/plain": [
       "        duration_sec           start_time             end_time  \\\n",
       "119217            60  2020-02-26 11:12:31  2020-02-26 11:13:31   \n",
       "122497            60  2020-02-07 15:19:12  2020-02-07 15:20:13   \n",
       "124418            60  2020-02-09 18:03:10  2020-02-09 18:04:11   \n",
       "124746            60  2020-02-29 17:21:04  2020-02-29 17:22:05   \n",
       "124857            60  2020-02-18 20:59:04  2020-02-18 21:00:04   \n",
       "\n",
       "        start_station_id     start_station_name  start_station_latitude  \\\n",
       "119217             296.0  5th St at Virginia St               37.325998   \n",
       "122497               NaN                    NaN               37.331160   \n",
       "124418               NaN                    NaN               37.332897   \n",
       "124746               NaN                    NaN               37.333003   \n",
       "124857               NaN                    NaN               37.333054   \n",
       "\n",
       "        start_station_longitude  end_station_id       end_station_name  \\\n",
       "119217              -121.877120           296.0  5th St at Virginia St   \n",
       "122497              -121.868612             NaN                    NaN   \n",
       "124418              -121.913422             NaN                    NaN   \n",
       "124746              -121.879480             NaN                    NaN   \n",
       "124857              -121.879789             NaN                    NaN   \n",
       "\n",
       "        end_station_latitude  end_station_longitude  bike_id   user_type  \\\n",
       "119217             37.325998            -121.877120   299042  Subscriber   \n",
       "122497             37.331156            -121.868626   518079  Subscriber   \n",
       "124418             37.332381            -121.912854   642326  Subscriber   \n",
       "124746             37.333025            -121.879476   575025  Subscriber   \n",
       "124857             37.332821            -121.879581   715819  Subscriber   \n",
       "\n",
       "       rental_access_method  \n",
       "119217                  app  \n",
       "122497              clipper  \n",
       "124418                  app  \n",
       "124746                  app  \n",
       "124857                  app  "
      ]
     },
     "execution_count": 24,
     "metadata": {},
     "output_type": "execute_result"
    }
   ],
   "source": [
    "df2.nsmallest(5, 'duration_sec') #extracting smallest duration number to find if there are any outliers"
   ]
  },
  {
   "cell_type": "code",
   "execution_count": 25,
   "id": "f75279c5",
   "metadata": {
    "slideshow": {
     "slide_type": "skip"
    }
   },
   "outputs": [
    {
     "data": {
      "text/html": [
       "<div>\n",
       "<style scoped>\n",
       "    .dataframe tbody tr th:only-of-type {\n",
       "        vertical-align: middle;\n",
       "    }\n",
       "\n",
       "    .dataframe tbody tr th {\n",
       "        vertical-align: top;\n",
       "    }\n",
       "\n",
       "    .dataframe thead th {\n",
       "        text-align: right;\n",
       "    }\n",
       "</style>\n",
       "<table border=\"1\" class=\"dataframe\">\n",
       "  <thead>\n",
       "    <tr style=\"text-align: right;\">\n",
       "      <th></th>\n",
       "      <th>duration_sec</th>\n",
       "      <th>start_time</th>\n",
       "      <th>end_time</th>\n",
       "      <th>start_station_id</th>\n",
       "      <th>start_station_name</th>\n",
       "      <th>start_station_latitude</th>\n",
       "      <th>start_station_longitude</th>\n",
       "      <th>end_station_id</th>\n",
       "      <th>end_station_name</th>\n",
       "      <th>end_station_latitude</th>\n",
       "      <th>end_station_longitude</th>\n",
       "      <th>bike_id</th>\n",
       "      <th>user_type</th>\n",
       "      <th>rental_access_method</th>\n",
       "    </tr>\n",
       "  </thead>\n",
       "  <tbody>\n",
       "    <tr>\n",
       "      <th>51618</th>\n",
       "      <td>86317</td>\n",
       "      <td>2020-02-17 11:42:26.0590</td>\n",
       "      <td>2020-02-18 11:41:03.7410</td>\n",
       "      <td>295.0</td>\n",
       "      <td>William St at 10th St</td>\n",
       "      <td>37.332794</td>\n",
       "      <td>-121.875926</td>\n",
       "      <td>294.0</td>\n",
       "      <td>Pierce Ave at Market St</td>\n",
       "      <td>37.327581</td>\n",
       "      <td>-121.884559</td>\n",
       "      <td>10643</td>\n",
       "      <td>Customer</td>\n",
       "      <td>NaN</td>\n",
       "    </tr>\n",
       "    <tr>\n",
       "      <th>91130</th>\n",
       "      <td>86239</td>\n",
       "      <td>2020-02-06 17:03:46.4380</td>\n",
       "      <td>2020-02-07 17:01:05.7030</td>\n",
       "      <td>486.0</td>\n",
       "      <td>Arguello Blvd at Edward St</td>\n",
       "      <td>37.778487</td>\n",
       "      <td>-122.458645</td>\n",
       "      <td>440.0</td>\n",
       "      <td>Carl St at Cole St</td>\n",
       "      <td>37.765910</td>\n",
       "      <td>-122.449257</td>\n",
       "      <td>3643</td>\n",
       "      <td>Customer</td>\n",
       "      <td>NaN</td>\n",
       "    </tr>\n",
       "    <tr>\n",
       "      <th>82154</th>\n",
       "      <td>84805</td>\n",
       "      <td>2020-02-09 16:37:18.0310</td>\n",
       "      <td>2020-02-10 16:10:43.9410</td>\n",
       "      <td>115.0</td>\n",
       "      <td>Jackson Playground</td>\n",
       "      <td>37.765026</td>\n",
       "      <td>-122.398773</td>\n",
       "      <td>126.0</td>\n",
       "      <td>Esprit Park</td>\n",
       "      <td>37.761634</td>\n",
       "      <td>-122.390648</td>\n",
       "      <td>9540</td>\n",
       "      <td>Customer</td>\n",
       "      <td>NaN</td>\n",
       "    </tr>\n",
       "    <tr>\n",
       "      <th>38157</th>\n",
       "      <td>84627</td>\n",
       "      <td>2020-02-20 10:40:59.1810</td>\n",
       "      <td>2020-02-21 10:11:26.2040</td>\n",
       "      <td>87.0</td>\n",
       "      <td>Folsom St at 13th St</td>\n",
       "      <td>37.769757</td>\n",
       "      <td>-122.415674</td>\n",
       "      <td>80.0</td>\n",
       "      <td>Townsend St at 5th St</td>\n",
       "      <td>37.775235</td>\n",
       "      <td>-122.397437</td>\n",
       "      <td>10887</td>\n",
       "      <td>Customer</td>\n",
       "      <td>NaN</td>\n",
       "    </tr>\n",
       "    <tr>\n",
       "      <th>66401</th>\n",
       "      <td>84252</td>\n",
       "      <td>2020-02-12 18:50:07.3260</td>\n",
       "      <td>2020-02-13 18:14:19.5050</td>\n",
       "      <td>8.0</td>\n",
       "      <td>The Embarcadero at Vallejo St</td>\n",
       "      <td>37.799953</td>\n",
       "      <td>-122.398525</td>\n",
       "      <td>38.0</td>\n",
       "      <td>The Embarcadero at Pier 38</td>\n",
       "      <td>37.782926</td>\n",
       "      <td>-122.387921</td>\n",
       "      <td>3104</td>\n",
       "      <td>Customer</td>\n",
       "      <td>NaN</td>\n",
       "    </tr>\n",
       "    <tr>\n",
       "      <th>57284</th>\n",
       "      <td>84008</td>\n",
       "      <td>2020-02-15 15:39:15.3380</td>\n",
       "      <td>2020-02-16 14:59:24.1610</td>\n",
       "      <td>246.0</td>\n",
       "      <td>Berkeley Civic Center</td>\n",
       "      <td>37.869060</td>\n",
       "      <td>-122.270556</td>\n",
       "      <td>7.0</td>\n",
       "      <td>Frank H Ogawa Plaza</td>\n",
       "      <td>37.804562</td>\n",
       "      <td>-122.271738</td>\n",
       "      <td>1383</td>\n",
       "      <td>Customer</td>\n",
       "      <td>NaN</td>\n",
       "    </tr>\n",
       "    <tr>\n",
       "      <th>67124</th>\n",
       "      <td>83889</td>\n",
       "      <td>2020-02-12 17:34:09.6320</td>\n",
       "      <td>2020-02-13 16:52:19.3130</td>\n",
       "      <td>467.0</td>\n",
       "      <td>Brannan St at Colin P Kelly Jr St</td>\n",
       "      <td>37.782386</td>\n",
       "      <td>-122.391343</td>\n",
       "      <td>467.0</td>\n",
       "      <td>Brannan St at Colin P Kelly Jr St</td>\n",
       "      <td>37.782386</td>\n",
       "      <td>-122.391343</td>\n",
       "      <td>10437</td>\n",
       "      <td>Customer</td>\n",
       "      <td>NaN</td>\n",
       "    </tr>\n",
       "    <tr>\n",
       "      <th>99658</th>\n",
       "      <td>83845</td>\n",
       "      <td>2020-02-04 17:41:24.5800</td>\n",
       "      <td>2020-02-05 16:58:50.3570</td>\n",
       "      <td>58.0</td>\n",
       "      <td>Market St at 10th St</td>\n",
       "      <td>37.776619</td>\n",
       "      <td>-122.417385</td>\n",
       "      <td>76.0</td>\n",
       "      <td>McCoppin St at Valencia St</td>\n",
       "      <td>37.771662</td>\n",
       "      <td>-122.422423</td>\n",
       "      <td>10084</td>\n",
       "      <td>Subscriber</td>\n",
       "      <td>NaN</td>\n",
       "    </tr>\n",
       "    <tr>\n",
       "      <th>45960</th>\n",
       "      <td>83318</td>\n",
       "      <td>2020-02-18 18:07:42.7780</td>\n",
       "      <td>2020-02-19 17:16:21.2950</td>\n",
       "      <td>284.0</td>\n",
       "      <td>Yerba Buena Center for the Arts (Howard St at ...</td>\n",
       "      <td>37.784872</td>\n",
       "      <td>-122.400876</td>\n",
       "      <td>47.0</td>\n",
       "      <td>4th St at Harrison St</td>\n",
       "      <td>37.780955</td>\n",
       "      <td>-122.399749</td>\n",
       "      <td>151</td>\n",
       "      <td>Customer</td>\n",
       "      <td>NaN</td>\n",
       "    </tr>\n",
       "    <tr>\n",
       "      <th>77832</th>\n",
       "      <td>83101</td>\n",
       "      <td>2020-02-10 13:08:06.4540</td>\n",
       "      <td>2020-02-11 12:13:08.1690</td>\n",
       "      <td>263.0</td>\n",
       "      <td>Channing Way at San Pablo Ave</td>\n",
       "      <td>37.862827</td>\n",
       "      <td>-122.290231</td>\n",
       "      <td>242.0</td>\n",
       "      <td>Milvia St at Derby St</td>\n",
       "      <td>37.860125</td>\n",
       "      <td>-122.269384</td>\n",
       "      <td>3134</td>\n",
       "      <td>Customer</td>\n",
       "      <td>NaN</td>\n",
       "    </tr>\n",
       "  </tbody>\n",
       "</table>\n",
       "</div>"
      ],
      "text/plain": [
       "       duration_sec                start_time                  end_time  \\\n",
       "51618         86317  2020-02-17 11:42:26.0590  2020-02-18 11:41:03.7410   \n",
       "91130         86239  2020-02-06 17:03:46.4380  2020-02-07 17:01:05.7030   \n",
       "82154         84805  2020-02-09 16:37:18.0310  2020-02-10 16:10:43.9410   \n",
       "38157         84627  2020-02-20 10:40:59.1810  2020-02-21 10:11:26.2040   \n",
       "66401         84252  2020-02-12 18:50:07.3260  2020-02-13 18:14:19.5050   \n",
       "57284         84008  2020-02-15 15:39:15.3380  2020-02-16 14:59:24.1610   \n",
       "67124         83889  2020-02-12 17:34:09.6320  2020-02-13 16:52:19.3130   \n",
       "99658         83845  2020-02-04 17:41:24.5800  2020-02-05 16:58:50.3570   \n",
       "45960         83318  2020-02-18 18:07:42.7780  2020-02-19 17:16:21.2950   \n",
       "77832         83101  2020-02-10 13:08:06.4540  2020-02-11 12:13:08.1690   \n",
       "\n",
       "       start_station_id                                 start_station_name  \\\n",
       "51618             295.0                              William St at 10th St   \n",
       "91130             486.0                         Arguello Blvd at Edward St   \n",
       "82154             115.0                                 Jackson Playground   \n",
       "38157              87.0                               Folsom St at 13th St   \n",
       "66401               8.0                      The Embarcadero at Vallejo St   \n",
       "57284             246.0                              Berkeley Civic Center   \n",
       "67124             467.0                  Brannan St at Colin P Kelly Jr St   \n",
       "99658              58.0                               Market St at 10th St   \n",
       "45960             284.0  Yerba Buena Center for the Arts (Howard St at ...   \n",
       "77832             263.0                      Channing Way at San Pablo Ave   \n",
       "\n",
       "       start_station_latitude  start_station_longitude  end_station_id  \\\n",
       "51618               37.332794              -121.875926           294.0   \n",
       "91130               37.778487              -122.458645           440.0   \n",
       "82154               37.765026              -122.398773           126.0   \n",
       "38157               37.769757              -122.415674            80.0   \n",
       "66401               37.799953              -122.398525            38.0   \n",
       "57284               37.869060              -122.270556             7.0   \n",
       "67124               37.782386              -122.391343           467.0   \n",
       "99658               37.776619              -122.417385            76.0   \n",
       "45960               37.784872              -122.400876            47.0   \n",
       "77832               37.862827              -122.290231           242.0   \n",
       "\n",
       "                        end_station_name  end_station_latitude  \\\n",
       "51618            Pierce Ave at Market St             37.327581   \n",
       "91130                 Carl St at Cole St             37.765910   \n",
       "82154                        Esprit Park             37.761634   \n",
       "38157              Townsend St at 5th St             37.775235   \n",
       "66401         The Embarcadero at Pier 38             37.782926   \n",
       "57284                Frank H Ogawa Plaza             37.804562   \n",
       "67124  Brannan St at Colin P Kelly Jr St             37.782386   \n",
       "99658         McCoppin St at Valencia St             37.771662   \n",
       "45960              4th St at Harrison St             37.780955   \n",
       "77832              Milvia St at Derby St             37.860125   \n",
       "\n",
       "       end_station_longitude  bike_id   user_type rental_access_method  \n",
       "51618            -121.884559    10643    Customer                  NaN  \n",
       "91130            -122.449257     3643    Customer                  NaN  \n",
       "82154            -122.390648     9540    Customer                  NaN  \n",
       "38157            -122.397437    10887    Customer                  NaN  \n",
       "66401            -122.387921     3104    Customer                  NaN  \n",
       "57284            -122.271738     1383    Customer                  NaN  \n",
       "67124            -122.391343    10437    Customer                  NaN  \n",
       "99658            -122.422423    10084  Subscriber                  NaN  \n",
       "45960            -122.399749      151    Customer                  NaN  \n",
       "77832            -122.269384     3134    Customer                  NaN  "
      ]
     },
     "execution_count": 25,
     "metadata": {},
     "output_type": "execute_result"
    }
   ],
   "source": [
    "df2.nlargest(10, 'duration_sec') #finding if there're any outliers"
   ]
  },
  {
   "cell_type": "code",
   "execution_count": 26,
   "id": "4d4054a1",
   "metadata": {
    "slideshow": {
     "slide_type": "skip"
    }
   },
   "outputs": [
    {
     "name": "stdout",
     "output_type": "stream",
     "text": [
      "['Customer' 'Subscriber']\n"
     ]
    },
    {
     "data": {
      "text/plain": [
       "Subscriber    277446\n",
       "Customer      154908\n",
       "Name: user_type, dtype: int64"
      ]
     },
     "execution_count": 26,
     "metadata": {},
     "output_type": "execute_result"
    }
   ],
   "source": [
    "print(df2.user_type.unique())\n",
    "df2.user_type.value_counts()\n"
   ]
  },
  {
   "cell_type": "code",
   "execution_count": 27,
   "id": "ac9e0aca",
   "metadata": {
    "slideshow": {
     "slide_type": "skip"
    }
   },
   "outputs": [
    {
     "name": "stdout",
     "output_type": "stream",
     "text": [
      "[nan 'app' 'clipper']\n"
     ]
    },
    {
     "data": {
      "text/plain": [
       "app        293205\n",
       "clipper     24638\n",
       "Name: rental_access_method, dtype: int64"
      ]
     },
     "execution_count": 27,
     "metadata": {},
     "output_type": "execute_result"
    }
   ],
   "source": [
    "print(df2.rental_access_method.unique())\n",
    "\n",
    "df2.rental_access_method.value_counts()"
   ]
  },
  {
   "cell_type": "markdown",
   "id": "1d3d5be7",
   "metadata": {
    "slideshow": {
     "slide_type": "skip"
    }
   },
   "source": [
    "What is the structure of your dataset? There are 432354 observations and 14 variables(duration_sec, start_time & end_time, start_station_id, start_station_name, start_station_latitude, start_station_longitude, end_station_id, end_station_name, end_station_latitude, end_station_longitude, bike_id, user_type and rental_access_method\n",
    "\n",
    "What is/are the main feature(s) of interest in your dataset? Most interest is in figuring out features that best determine least time taken for each trip in the dataset.\n",
    "\n",
    "What features in the dataset do you think will help support your investigation into your feature(s) of interest?\n",
    "\n",
    "I expect that duration will have strongest effect  in determining the time spent on each trip taken. Other features that influence time taken could be day of the week, month or user type."
   ]
  },
  {
   "cell_type": "markdown",
   "id": "5d3f5bc0",
   "metadata": {
    "slideshow": {
     "slide_type": "skip"
    }
   },
   "source": [
    "# (iii) Assessing the third dataset"
   ]
  },
  {
   "cell_type": "code",
   "execution_count": 28,
   "id": "68ad7a3a",
   "metadata": {
    "slideshow": {
     "slide_type": "skip"
    }
   },
   "outputs": [
    {
     "data": {
      "text/plain": [
       "(176799, 14)"
      ]
     },
     "execution_count": 28,
     "metadata": {},
     "output_type": "execute_result"
    }
   ],
   "source": [
    "df3.shape"
   ]
  },
  {
   "cell_type": "code",
   "execution_count": 29,
   "id": "7dafdb3b",
   "metadata": {
    "slideshow": {
     "slide_type": "skip"
    }
   },
   "outputs": [
    {
     "data": {
      "text/html": [
       "<div>\n",
       "<style scoped>\n",
       "    .dataframe tbody tr th:only-of-type {\n",
       "        vertical-align: middle;\n",
       "    }\n",
       "\n",
       "    .dataframe tbody tr th {\n",
       "        vertical-align: top;\n",
       "    }\n",
       "\n",
       "    .dataframe thead th {\n",
       "        text-align: right;\n",
       "    }\n",
       "</style>\n",
       "<table border=\"1\" class=\"dataframe\">\n",
       "  <thead>\n",
       "    <tr style=\"text-align: right;\">\n",
       "      <th></th>\n",
       "      <th>duration_sec</th>\n",
       "      <th>start_time</th>\n",
       "      <th>end_time</th>\n",
       "      <th>start_station_id</th>\n",
       "      <th>start_station_name</th>\n",
       "      <th>start_station_latitude</th>\n",
       "      <th>start_station_longitude</th>\n",
       "      <th>end_station_id</th>\n",
       "      <th>end_station_name</th>\n",
       "      <th>end_station_latitude</th>\n",
       "      <th>end_station_longitude</th>\n",
       "      <th>bike_id</th>\n",
       "      <th>user_type</th>\n",
       "      <th>rental_access_method</th>\n",
       "    </tr>\n",
       "  </thead>\n",
       "  <tbody>\n",
       "    <tr>\n",
       "      <th>0</th>\n",
       "      <td>35187</td>\n",
       "      <td>2020-03-31 20:42:10.0790</td>\n",
       "      <td>2020-04-01 06:28:37.8440</td>\n",
       "      <td>462.0</td>\n",
       "      <td>Cruise Terminal at Pier 27</td>\n",
       "      <td>37.804648</td>\n",
       "      <td>-122.402087</td>\n",
       "      <td>24.0</td>\n",
       "      <td>Spear St at Folsom St</td>\n",
       "      <td>37.789677</td>\n",
       "      <td>-122.390428</td>\n",
       "      <td>10982</td>\n",
       "      <td>Customer</td>\n",
       "      <td>NaN</td>\n",
       "    </tr>\n",
       "    <tr>\n",
       "      <th>1</th>\n",
       "      <td>14568</td>\n",
       "      <td>2020-03-31 22:45:25.5010</td>\n",
       "      <td>2020-04-01 02:48:13.7730</td>\n",
       "      <td>42.0</td>\n",
       "      <td>San Francisco City Hall (Polk St at Grove St)</td>\n",
       "      <td>37.778650</td>\n",
       "      <td>-122.418230</td>\n",
       "      <td>370.0</td>\n",
       "      <td>Jones St at Post St</td>\n",
       "      <td>37.787327</td>\n",
       "      <td>-122.413278</td>\n",
       "      <td>12617</td>\n",
       "      <td>Customer</td>\n",
       "      <td>NaN</td>\n",
       "    </tr>\n",
       "    <tr>\n",
       "      <th>2</th>\n",
       "      <td>35990</td>\n",
       "      <td>2020-03-31 15:08:22.3310</td>\n",
       "      <td>2020-04-01 01:08:12.9900</td>\n",
       "      <td>391.0</td>\n",
       "      <td>1st St at Younger Ave</td>\n",
       "      <td>37.355030</td>\n",
       "      <td>-121.904436</td>\n",
       "      <td>397.0</td>\n",
       "      <td>Gish Rd at 1st St</td>\n",
       "      <td>37.361867</td>\n",
       "      <td>-121.909315</td>\n",
       "      <td>12812</td>\n",
       "      <td>Customer</td>\n",
       "      <td>NaN</td>\n",
       "    </tr>\n",
       "    <tr>\n",
       "      <th>3</th>\n",
       "      <td>1068</td>\n",
       "      <td>2020-03-31 23:55:00.4260</td>\n",
       "      <td>2020-04-01 00:12:49.0200</td>\n",
       "      <td>456.0</td>\n",
       "      <td>Arguello Blvd at Geary Blvd</td>\n",
       "      <td>37.781468</td>\n",
       "      <td>-122.458806</td>\n",
       "      <td>107.0</td>\n",
       "      <td>17th St at Dolores St</td>\n",
       "      <td>37.763015</td>\n",
       "      <td>-122.426497</td>\n",
       "      <td>12955</td>\n",
       "      <td>Customer</td>\n",
       "      <td>NaN</td>\n",
       "    </tr>\n",
       "    <tr>\n",
       "      <th>4</th>\n",
       "      <td>3300</td>\n",
       "      <td>2020-03-31 23:00:55.6410</td>\n",
       "      <td>2020-03-31 23:55:56.6110</td>\n",
       "      <td>6.0</td>\n",
       "      <td>The Embarcadero at Sansome St</td>\n",
       "      <td>37.804770</td>\n",
       "      <td>-122.403234</td>\n",
       "      <td>24.0</td>\n",
       "      <td>Spear St at Folsom St</td>\n",
       "      <td>37.789677</td>\n",
       "      <td>-122.390428</td>\n",
       "      <td>13050</td>\n",
       "      <td>Customer</td>\n",
       "      <td>NaN</td>\n",
       "    </tr>\n",
       "  </tbody>\n",
       "</table>\n",
       "</div>"
      ],
      "text/plain": [
       "   duration_sec                start_time                  end_time  \\\n",
       "0         35187  2020-03-31 20:42:10.0790  2020-04-01 06:28:37.8440   \n",
       "1         14568  2020-03-31 22:45:25.5010  2020-04-01 02:48:13.7730   \n",
       "2         35990  2020-03-31 15:08:22.3310  2020-04-01 01:08:12.9900   \n",
       "3          1068  2020-03-31 23:55:00.4260  2020-04-01 00:12:49.0200   \n",
       "4          3300  2020-03-31 23:00:55.6410  2020-03-31 23:55:56.6110   \n",
       "\n",
       "   start_station_id                             start_station_name  \\\n",
       "0             462.0                     Cruise Terminal at Pier 27   \n",
       "1              42.0  San Francisco City Hall (Polk St at Grove St)   \n",
       "2             391.0                          1st St at Younger Ave   \n",
       "3             456.0                    Arguello Blvd at Geary Blvd   \n",
       "4               6.0                  The Embarcadero at Sansome St   \n",
       "\n",
       "   start_station_latitude  start_station_longitude  end_station_id  \\\n",
       "0               37.804648              -122.402087            24.0   \n",
       "1               37.778650              -122.418230           370.0   \n",
       "2               37.355030              -121.904436           397.0   \n",
       "3               37.781468              -122.458806           107.0   \n",
       "4               37.804770              -122.403234            24.0   \n",
       "\n",
       "        end_station_name  end_station_latitude  end_station_longitude  \\\n",
       "0  Spear St at Folsom St             37.789677            -122.390428   \n",
       "1    Jones St at Post St             37.787327            -122.413278   \n",
       "2      Gish Rd at 1st St             37.361867            -121.909315   \n",
       "3  17th St at Dolores St             37.763015            -122.426497   \n",
       "4  Spear St at Folsom St             37.789677            -122.390428   \n",
       "\n",
       "   bike_id user_type rental_access_method  \n",
       "0    10982  Customer                  NaN  \n",
       "1    12617  Customer                  NaN  \n",
       "2    12812  Customer                  NaN  \n",
       "3    12955  Customer                  NaN  \n",
       "4    13050  Customer                  NaN  "
      ]
     },
     "execution_count": 29,
     "metadata": {},
     "output_type": "execute_result"
    }
   ],
   "source": [
    "df3.head()"
   ]
  },
  {
   "cell_type": "code",
   "execution_count": 30,
   "id": "0a274f12",
   "metadata": {
    "slideshow": {
     "slide_type": "skip"
    }
   },
   "outputs": [
    {
     "data": {
      "text/html": [
       "<div>\n",
       "<style scoped>\n",
       "    .dataframe tbody tr th:only-of-type {\n",
       "        vertical-align: middle;\n",
       "    }\n",
       "\n",
       "    .dataframe tbody tr th {\n",
       "        vertical-align: top;\n",
       "    }\n",
       "\n",
       "    .dataframe thead th {\n",
       "        text-align: right;\n",
       "    }\n",
       "</style>\n",
       "<table border=\"1\" class=\"dataframe\">\n",
       "  <thead>\n",
       "    <tr style=\"text-align: right;\">\n",
       "      <th></th>\n",
       "      <th>duration_sec</th>\n",
       "      <th>start_time</th>\n",
       "      <th>end_time</th>\n",
       "      <th>start_station_id</th>\n",
       "      <th>start_station_name</th>\n",
       "      <th>start_station_latitude</th>\n",
       "      <th>start_station_longitude</th>\n",
       "      <th>end_station_id</th>\n",
       "      <th>end_station_name</th>\n",
       "      <th>end_station_latitude</th>\n",
       "      <th>end_station_longitude</th>\n",
       "      <th>bike_id</th>\n",
       "      <th>user_type</th>\n",
       "      <th>rental_access_method</th>\n",
       "    </tr>\n",
       "  </thead>\n",
       "  <tbody>\n",
       "    <tr>\n",
       "      <th>74151</th>\n",
       "      <td>1268</td>\n",
       "      <td>2020-03-05 09:45:00</td>\n",
       "      <td>2020-03-05 10:06:09</td>\n",
       "      <td>NaN</td>\n",
       "      <td>NaN</td>\n",
       "      <td>37.336705</td>\n",
       "      <td>-121.885486</td>\n",
       "      <td>NaN</td>\n",
       "      <td>NaN</td>\n",
       "      <td>37.301457</td>\n",
       "      <td>-121.858747</td>\n",
       "      <td>166152</td>\n",
       "      <td>Subscriber</td>\n",
       "      <td>app</td>\n",
       "    </tr>\n",
       "    <tr>\n",
       "      <th>110121</th>\n",
       "      <td>577</td>\n",
       "      <td>2020-03-04 20:13:14</td>\n",
       "      <td>2020-03-04 20:22:52</td>\n",
       "      <td>NaN</td>\n",
       "      <td>NaN</td>\n",
       "      <td>37.770014</td>\n",
       "      <td>-122.422093</td>\n",
       "      <td>369.0</td>\n",
       "      <td>Hyde St at Post St</td>\n",
       "      <td>37.787349</td>\n",
       "      <td>-122.416651</td>\n",
       "      <td>826308</td>\n",
       "      <td>Subscriber</td>\n",
       "      <td>app</td>\n",
       "    </tr>\n",
       "    <tr>\n",
       "      <th>159569</th>\n",
       "      <td>484</td>\n",
       "      <td>2020-03-12 12:03:13</td>\n",
       "      <td>2020-03-12 12:11:17</td>\n",
       "      <td>20.0</td>\n",
       "      <td>Mechanics Monument Plaza (Market St at Bush St)</td>\n",
       "      <td>37.791300</td>\n",
       "      <td>-122.399051</td>\n",
       "      <td>NaN</td>\n",
       "      <td>NaN</td>\n",
       "      <td>37.807271</td>\n",
       "      <td>-122.406498</td>\n",
       "      <td>703609</td>\n",
       "      <td>Subscriber</td>\n",
       "      <td>app</td>\n",
       "    </tr>\n",
       "    <tr>\n",
       "      <th>89254</th>\n",
       "      <td>1014</td>\n",
       "      <td>2020-03-06 09:18:51</td>\n",
       "      <td>2020-03-06 09:35:45</td>\n",
       "      <td>NaN</td>\n",
       "      <td>NaN</td>\n",
       "      <td>37.756967</td>\n",
       "      <td>-122.419107</td>\n",
       "      <td>380.0</td>\n",
       "      <td>Masonic Ave at Turk St</td>\n",
       "      <td>37.779047</td>\n",
       "      <td>-122.447291</td>\n",
       "      <td>148350</td>\n",
       "      <td>Subscriber</td>\n",
       "      <td>app</td>\n",
       "    </tr>\n",
       "    <tr>\n",
       "      <th>26722</th>\n",
       "      <td>601</td>\n",
       "      <td>2020-03-09 18:12:08.3460</td>\n",
       "      <td>2020-03-09 18:22:09.6740</td>\n",
       "      <td>110.0</td>\n",
       "      <td>17th &amp; Folsom Street Park (17th St at Folsom St)</td>\n",
       "      <td>37.763708</td>\n",
       "      <td>-122.415204</td>\n",
       "      <td>147.0</td>\n",
       "      <td>29th St at Tiffany Ave</td>\n",
       "      <td>37.744067</td>\n",
       "      <td>-122.421472</td>\n",
       "      <td>3221</td>\n",
       "      <td>Customer</td>\n",
       "      <td>NaN</td>\n",
       "    </tr>\n",
       "  </tbody>\n",
       "</table>\n",
       "</div>"
      ],
      "text/plain": [
       "        duration_sec                start_time                  end_time  \\\n",
       "74151           1268       2020-03-05 09:45:00       2020-03-05 10:06:09   \n",
       "110121           577       2020-03-04 20:13:14       2020-03-04 20:22:52   \n",
       "159569           484       2020-03-12 12:03:13       2020-03-12 12:11:17   \n",
       "89254           1014       2020-03-06 09:18:51       2020-03-06 09:35:45   \n",
       "26722            601  2020-03-09 18:12:08.3460  2020-03-09 18:22:09.6740   \n",
       "\n",
       "        start_station_id                                start_station_name  \\\n",
       "74151                NaN                                               NaN   \n",
       "110121               NaN                                               NaN   \n",
       "159569              20.0   Mechanics Monument Plaza (Market St at Bush St)   \n",
       "89254                NaN                                               NaN   \n",
       "26722              110.0  17th & Folsom Street Park (17th St at Folsom St)   \n",
       "\n",
       "        start_station_latitude  start_station_longitude  end_station_id  \\\n",
       "74151                37.336705              -121.885486             NaN   \n",
       "110121               37.770014              -122.422093           369.0   \n",
       "159569               37.791300              -122.399051             NaN   \n",
       "89254                37.756967              -122.419107           380.0   \n",
       "26722                37.763708              -122.415204           147.0   \n",
       "\n",
       "              end_station_name  end_station_latitude  end_station_longitude  \\\n",
       "74151                      NaN             37.301457            -121.858747   \n",
       "110121      Hyde St at Post St             37.787349            -122.416651   \n",
       "159569                     NaN             37.807271            -122.406498   \n",
       "89254   Masonic Ave at Turk St             37.779047            -122.447291   \n",
       "26722   29th St at Tiffany Ave             37.744067            -122.421472   \n",
       "\n",
       "        bike_id   user_type rental_access_method  \n",
       "74151    166152  Subscriber                  app  \n",
       "110121   826308  Subscriber                  app  \n",
       "159569   703609  Subscriber                  app  \n",
       "89254    148350  Subscriber                  app  \n",
       "26722      3221    Customer                  NaN  "
      ]
     },
     "execution_count": 30,
     "metadata": {},
     "output_type": "execute_result"
    }
   ],
   "source": [
    "df3.sample(5)"
   ]
  },
  {
   "cell_type": "code",
   "execution_count": 31,
   "id": "6ab1ddc0",
   "metadata": {
    "slideshow": {
     "slide_type": "skip"
    }
   },
   "outputs": [
    {
     "name": "stdout",
     "output_type": "stream",
     "text": [
      "<class 'pandas.core.frame.DataFrame'>\n",
      "RangeIndex: 176799 entries, 0 to 176798\n",
      "Data columns (total 14 columns):\n",
      " #   Column                   Non-Null Count   Dtype  \n",
      "---  ------                   --------------   -----  \n",
      " 0   duration_sec             176799 non-null  int64  \n",
      " 1   start_time               176799 non-null  object \n",
      " 2   end_time                 176799 non-null  object \n",
      " 3   start_station_id         110696 non-null  float64\n",
      " 4   start_station_name       111349 non-null  object \n",
      " 5   start_station_latitude   176799 non-null  float64\n",
      " 6   start_station_longitude  176799 non-null  float64\n",
      " 7   end_station_id           111097 non-null  float64\n",
      " 8   end_station_name         111794 non-null  object \n",
      " 9   end_station_latitude     176799 non-null  float64\n",
      " 10  end_station_longitude    176799 non-null  float64\n",
      " 11  bike_id                  176799 non-null  int64  \n",
      " 12  user_type                176799 non-null  object \n",
      " 13  rental_access_method     114269 non-null  object \n",
      "dtypes: float64(6), int64(2), object(6)\n",
      "memory usage: 18.9+ MB\n"
     ]
    }
   ],
   "source": [
    "df3.info()"
   ]
  },
  {
   "cell_type": "code",
   "execution_count": 32,
   "id": "0c7d78e6",
   "metadata": {
    "slideshow": {
     "slide_type": "skip"
    }
   },
   "outputs": [
    {
     "data": {
      "text/plain": [
       "duration_sec                   0\n",
       "start_time                     0\n",
       "end_time                       0\n",
       "start_station_id           66103\n",
       "start_station_name         65450\n",
       "start_station_latitude         0\n",
       "start_station_longitude        0\n",
       "end_station_id             65702\n",
       "end_station_name           65005\n",
       "end_station_latitude           0\n",
       "end_station_longitude          0\n",
       "bike_id                        0\n",
       "user_type                      0\n",
       "rental_access_method       62530\n",
       "dtype: int64"
      ]
     },
     "execution_count": 32,
     "metadata": {},
     "output_type": "execute_result"
    }
   ],
   "source": [
    "df3.isna().sum()"
   ]
  },
  {
   "cell_type": "code",
   "execution_count": 33,
   "id": "5100fec5",
   "metadata": {
    "slideshow": {
     "slide_type": "skip"
    }
   },
   "outputs": [
    {
     "data": {
      "text/html": [
       "<div>\n",
       "<style scoped>\n",
       "    .dataframe tbody tr th:only-of-type {\n",
       "        vertical-align: middle;\n",
       "    }\n",
       "\n",
       "    .dataframe tbody tr th {\n",
       "        vertical-align: top;\n",
       "    }\n",
       "\n",
       "    .dataframe thead th {\n",
       "        text-align: right;\n",
       "    }\n",
       "</style>\n",
       "<table border=\"1\" class=\"dataframe\">\n",
       "  <thead>\n",
       "    <tr style=\"text-align: right;\">\n",
       "      <th></th>\n",
       "      <th>duration_sec</th>\n",
       "      <th>start_station_id</th>\n",
       "      <th>start_station_latitude</th>\n",
       "      <th>start_station_longitude</th>\n",
       "      <th>end_station_id</th>\n",
       "      <th>end_station_latitude</th>\n",
       "      <th>end_station_longitude</th>\n",
       "      <th>bike_id</th>\n",
       "    </tr>\n",
       "  </thead>\n",
       "  <tbody>\n",
       "    <tr>\n",
       "      <th>count</th>\n",
       "      <td>176799.000000</td>\n",
       "      <td>110696.000000</td>\n",
       "      <td>176799.000000</td>\n",
       "      <td>176799.000000</td>\n",
       "      <td>111097.000000</td>\n",
       "      <td>176799.000000</td>\n",
       "      <td>176799.000000</td>\n",
       "      <td>176799.000000</td>\n",
       "    </tr>\n",
       "    <tr>\n",
       "      <th>mean</th>\n",
       "      <td>861.590156</td>\n",
       "      <td>185.082261</td>\n",
       "      <td>37.732506</td>\n",
       "      <td>-122.339595</td>\n",
       "      <td>179.244228</td>\n",
       "      <td>37.731290</td>\n",
       "      <td>-122.335029</td>\n",
       "      <td>332033.876114</td>\n",
       "    </tr>\n",
       "    <tr>\n",
       "      <th>std</th>\n",
       "      <td>1528.143090</td>\n",
       "      <td>154.647521</td>\n",
       "      <td>0.170476</td>\n",
       "      <td>0.336403</td>\n",
       "      <td>153.858017</td>\n",
       "      <td>0.278159</td>\n",
       "      <td>0.788013</td>\n",
       "      <td>310588.686471</td>\n",
       "    </tr>\n",
       "    <tr>\n",
       "      <th>min</th>\n",
       "      <td>60.000000</td>\n",
       "      <td>3.000000</td>\n",
       "      <td>0.000000</td>\n",
       "      <td>-122.513814</td>\n",
       "      <td>3.000000</td>\n",
       "      <td>0.000000</td>\n",
       "      <td>-122.529747</td>\n",
       "      <td>17.000000</td>\n",
       "    </tr>\n",
       "    <tr>\n",
       "      <th>25%</th>\n",
       "      <td>374.000000</td>\n",
       "      <td>58.000000</td>\n",
       "      <td>37.763708</td>\n",
       "      <td>-122.421339</td>\n",
       "      <td>53.000000</td>\n",
       "      <td>37.763848</td>\n",
       "      <td>-122.420377</td>\n",
       "      <td>11695.000000</td>\n",
       "    </tr>\n",
       "    <tr>\n",
       "      <th>50%</th>\n",
       "      <td>602.000000</td>\n",
       "      <td>125.000000</td>\n",
       "      <td>37.776598</td>\n",
       "      <td>-122.403969</td>\n",
       "      <td>121.000000</td>\n",
       "      <td>37.776598</td>\n",
       "      <td>-122.403234</td>\n",
       "      <td>299042.000000</td>\n",
       "    </tr>\n",
       "    <tr>\n",
       "      <th>75%</th>\n",
       "      <td>963.000000</td>\n",
       "      <td>321.000000</td>\n",
       "      <td>37.789677</td>\n",
       "      <td>-122.390648</td>\n",
       "      <td>309.000000</td>\n",
       "      <td>37.789747</td>\n",
       "      <td>-122.390648</td>\n",
       "      <td>551560.000000</td>\n",
       "    </tr>\n",
       "    <tr>\n",
       "      <th>max</th>\n",
       "      <td>84450.000000</td>\n",
       "      <td>521.000000</td>\n",
       "      <td>37.880222</td>\n",
       "      <td>0.000000</td>\n",
       "      <td>521.000000</td>\n",
       "      <td>37.995942</td>\n",
       "      <td>0.000000</td>\n",
       "      <td>999960.000000</td>\n",
       "    </tr>\n",
       "  </tbody>\n",
       "</table>\n",
       "</div>"
      ],
      "text/plain": [
       "        duration_sec  start_station_id  start_station_latitude  \\\n",
       "count  176799.000000     110696.000000           176799.000000   \n",
       "mean      861.590156        185.082261               37.732506   \n",
       "std      1528.143090        154.647521                0.170476   \n",
       "min        60.000000          3.000000                0.000000   \n",
       "25%       374.000000         58.000000               37.763708   \n",
       "50%       602.000000        125.000000               37.776598   \n",
       "75%       963.000000        321.000000               37.789677   \n",
       "max     84450.000000        521.000000               37.880222   \n",
       "\n",
       "       start_station_longitude  end_station_id  end_station_latitude  \\\n",
       "count            176799.000000   111097.000000         176799.000000   \n",
       "mean               -122.339595      179.244228             37.731290   \n",
       "std                   0.336403      153.858017              0.278159   \n",
       "min                -122.513814        3.000000              0.000000   \n",
       "25%                -122.421339       53.000000             37.763848   \n",
       "50%                -122.403969      121.000000             37.776598   \n",
       "75%                -122.390648      309.000000             37.789747   \n",
       "max                   0.000000      521.000000             37.995942   \n",
       "\n",
       "       end_station_longitude        bike_id  \n",
       "count          176799.000000  176799.000000  \n",
       "mean             -122.335029  332033.876114  \n",
       "std                 0.788013  310588.686471  \n",
       "min              -122.529747      17.000000  \n",
       "25%              -122.420377   11695.000000  \n",
       "50%              -122.403234  299042.000000  \n",
       "75%              -122.390648  551560.000000  \n",
       "max                 0.000000  999960.000000  "
      ]
     },
     "execution_count": 33,
     "metadata": {},
     "output_type": "execute_result"
    }
   ],
   "source": [
    "df3.describe()"
   ]
  },
  {
   "cell_type": "code",
   "execution_count": 34,
   "id": "d795abed",
   "metadata": {
    "slideshow": {
     "slide_type": "skip"
    }
   },
   "outputs": [
    {
     "data": {
      "text/plain": [
       "duration_sec               29\n",
       "start_time                 29\n",
       "end_time                   29\n",
       "start_station_id           10\n",
       "start_station_name         10\n",
       "start_station_latitude     29\n",
       "start_station_longitude    29\n",
       "end_station_id              6\n",
       "end_station_name            6\n",
       "end_station_latitude       29\n",
       "end_station_longitude      29\n",
       "bike_id                    29\n",
       "user_type                  29\n",
       "rental_access_method       29\n",
       "dtype: int64"
      ]
     },
     "execution_count": 34,
     "metadata": {},
     "output_type": "execute_result"
    }
   ],
   "source": [
    "df3[df3.duration_sec <= 60].count()"
   ]
  },
  {
   "cell_type": "code",
   "execution_count": 35,
   "id": "5c6e914b",
   "metadata": {
    "slideshow": {
     "slide_type": "skip"
    }
   },
   "outputs": [
    {
     "data": {
      "text/html": [
       "<div>\n",
       "<style scoped>\n",
       "    .dataframe tbody tr th:only-of-type {\n",
       "        vertical-align: middle;\n",
       "    }\n",
       "\n",
       "    .dataframe tbody tr th {\n",
       "        vertical-align: top;\n",
       "    }\n",
       "\n",
       "    .dataframe thead th {\n",
       "        text-align: right;\n",
       "    }\n",
       "</style>\n",
       "<table border=\"1\" class=\"dataframe\">\n",
       "  <thead>\n",
       "    <tr style=\"text-align: right;\">\n",
       "      <th></th>\n",
       "      <th>duration_sec</th>\n",
       "      <th>start_time</th>\n",
       "      <th>end_time</th>\n",
       "      <th>start_station_id</th>\n",
       "      <th>start_station_name</th>\n",
       "      <th>start_station_latitude</th>\n",
       "      <th>start_station_longitude</th>\n",
       "      <th>end_station_id</th>\n",
       "      <th>end_station_name</th>\n",
       "      <th>end_station_latitude</th>\n",
       "      <th>end_station_longitude</th>\n",
       "      <th>bike_id</th>\n",
       "      <th>user_type</th>\n",
       "      <th>rental_access_method</th>\n",
       "    </tr>\n",
       "  </thead>\n",
       "  <tbody>\n",
       "    <tr>\n",
       "      <th>7463</th>\n",
       "      <td>84450</td>\n",
       "      <td>2020-03-20 10:07:18.0910</td>\n",
       "      <td>2020-03-21 09:34:48.1470</td>\n",
       "      <td>84.0</td>\n",
       "      <td>Duboce Park</td>\n",
       "      <td>37.769200</td>\n",
       "      <td>-122.433812</td>\n",
       "      <td>12.0</td>\n",
       "      <td>Pier 1/2 at The Embarcadero</td>\n",
       "      <td>37.796389</td>\n",
       "      <td>-122.394586</td>\n",
       "      <td>2947</td>\n",
       "      <td>Customer</td>\n",
       "      <td>NaN</td>\n",
       "    </tr>\n",
       "    <tr>\n",
       "      <th>11311</th>\n",
       "      <td>82608</td>\n",
       "      <td>2020-03-15 13:14:31.1470</td>\n",
       "      <td>2020-03-16 12:11:19.8850</td>\n",
       "      <td>3.0</td>\n",
       "      <td>Powell St BART Station (Market St at 4th St)</td>\n",
       "      <td>37.786375</td>\n",
       "      <td>-122.404904</td>\n",
       "      <td>74.0</td>\n",
       "      <td>Laguna St at Hayes St</td>\n",
       "      <td>37.776435</td>\n",
       "      <td>-122.426244</td>\n",
       "      <td>2589</td>\n",
       "      <td>Customer</td>\n",
       "      <td>NaN</td>\n",
       "    </tr>\n",
       "    <tr>\n",
       "      <th>43844</th>\n",
       "      <td>82449</td>\n",
       "      <td>2020-03-03 19:53:05.7190</td>\n",
       "      <td>2020-03-04 18:47:15.4680</td>\n",
       "      <td>508.0</td>\n",
       "      <td>St. Joseph's Ave at Geary Blvd</td>\n",
       "      <td>37.782476</td>\n",
       "      <td>-122.442534</td>\n",
       "      <td>455.0</td>\n",
       "      <td>McAllister St at Arguello Blvd</td>\n",
       "      <td>37.775214</td>\n",
       "      <td>-122.458334</td>\n",
       "      <td>11396</td>\n",
       "      <td>Customer</td>\n",
       "      <td>NaN</td>\n",
       "    </tr>\n",
       "    <tr>\n",
       "      <th>4392</th>\n",
       "      <td>81351</td>\n",
       "      <td>2020-03-24 11:45:56.7950</td>\n",
       "      <td>2020-03-25 10:21:47.8420</td>\n",
       "      <td>178.0</td>\n",
       "      <td>Broadway at 30th St</td>\n",
       "      <td>37.819381</td>\n",
       "      <td>-122.261928</td>\n",
       "      <td>178.0</td>\n",
       "      <td>Broadway at 30th St</td>\n",
       "      <td>37.819381</td>\n",
       "      <td>-122.261928</td>\n",
       "      <td>12660</td>\n",
       "      <td>Subscriber</td>\n",
       "      <td>NaN</td>\n",
       "    </tr>\n",
       "    <tr>\n",
       "      <th>23142</th>\n",
       "      <td>80980</td>\n",
       "      <td>2020-03-09 19:19:48.0250</td>\n",
       "      <td>2020-03-10 17:49:28.1160</td>\n",
       "      <td>246.0</td>\n",
       "      <td>Berkeley Civic Center</td>\n",
       "      <td>37.869060</td>\n",
       "      <td>-122.270556</td>\n",
       "      <td>167.0</td>\n",
       "      <td>College Ave at Harwood Ave</td>\n",
       "      <td>37.848152</td>\n",
       "      <td>-122.252160</td>\n",
       "      <td>154</td>\n",
       "      <td>Customer</td>\n",
       "      <td>NaN</td>\n",
       "    </tr>\n",
       "  </tbody>\n",
       "</table>\n",
       "</div>"
      ],
      "text/plain": [
       "       duration_sec                start_time                  end_time  \\\n",
       "7463          84450  2020-03-20 10:07:18.0910  2020-03-21 09:34:48.1470   \n",
       "11311         82608  2020-03-15 13:14:31.1470  2020-03-16 12:11:19.8850   \n",
       "43844         82449  2020-03-03 19:53:05.7190  2020-03-04 18:47:15.4680   \n",
       "4392          81351  2020-03-24 11:45:56.7950  2020-03-25 10:21:47.8420   \n",
       "23142         80980  2020-03-09 19:19:48.0250  2020-03-10 17:49:28.1160   \n",
       "\n",
       "       start_station_id                            start_station_name  \\\n",
       "7463               84.0                                   Duboce Park   \n",
       "11311               3.0  Powell St BART Station (Market St at 4th St)   \n",
       "43844             508.0                St. Joseph's Ave at Geary Blvd   \n",
       "4392              178.0                           Broadway at 30th St   \n",
       "23142             246.0                         Berkeley Civic Center   \n",
       "\n",
       "       start_station_latitude  start_station_longitude  end_station_id  \\\n",
       "7463                37.769200              -122.433812            12.0   \n",
       "11311               37.786375              -122.404904            74.0   \n",
       "43844               37.782476              -122.442534           455.0   \n",
       "4392                37.819381              -122.261928           178.0   \n",
       "23142               37.869060              -122.270556           167.0   \n",
       "\n",
       "                     end_station_name  end_station_latitude  \\\n",
       "7463      Pier 1/2 at The Embarcadero             37.796389   \n",
       "11311           Laguna St at Hayes St             37.776435   \n",
       "43844  McAllister St at Arguello Blvd             37.775214   \n",
       "4392              Broadway at 30th St             37.819381   \n",
       "23142      College Ave at Harwood Ave             37.848152   \n",
       "\n",
       "       end_station_longitude  bike_id   user_type rental_access_method  \n",
       "7463             -122.394586     2947    Customer                  NaN  \n",
       "11311            -122.426244     2589    Customer                  NaN  \n",
       "43844            -122.458334    11396    Customer                  NaN  \n",
       "4392             -122.261928    12660  Subscriber                  NaN  \n",
       "23142            -122.252160      154    Customer                  NaN  "
      ]
     },
     "execution_count": 35,
     "metadata": {},
     "output_type": "execute_result"
    }
   ],
   "source": [
    "df3.nlargest(5, 'duration_sec') # extracting maximum durations"
   ]
  },
  {
   "cell_type": "code",
   "execution_count": 36,
   "id": "ad83172b",
   "metadata": {
    "slideshow": {
     "slide_type": "skip"
    }
   },
   "outputs": [
    {
     "name": "stdout",
     "output_type": "stream",
     "text": [
      "['Customer' 'Subscriber']\n"
     ]
    },
    {
     "data": {
      "text/plain": [
       "Subscriber    96262\n",
       "Customer      80537\n",
       "Name: user_type, dtype: int64"
      ]
     },
     "execution_count": 36,
     "metadata": {},
     "output_type": "execute_result"
    }
   ],
   "source": [
    "print(df3.user_type.unique())\n",
    "df3.user_type.value_counts()"
   ]
  },
  {
   "cell_type": "code",
   "execution_count": 37,
   "id": "92f9ab3b",
   "metadata": {
    "slideshow": {
     "slide_type": "skip"
    }
   },
   "outputs": [
    {
     "name": "stdout",
     "output_type": "stream",
     "text": [
      "[nan 'app' 'clipper']\n"
     ]
    },
    {
     "data": {
      "text/plain": [
       "app        105515\n",
       "clipper      8754\n",
       "Name: rental_access_method, dtype: int64"
      ]
     },
     "execution_count": 37,
     "metadata": {},
     "output_type": "execute_result"
    }
   ],
   "source": [
    "print(df3.rental_access_method.unique())\n",
    "df3.rental_access_method.value_counts()"
   ]
  },
  {
   "cell_type": "markdown",
   "id": "12ca53ed",
   "metadata": {
    "slideshow": {
     "slide_type": "skip"
    }
   },
   "source": [
    "What is the structure of your dataset? There are 176799 observations and 14 variables(duration_sec, start_time & end_time, start_station_id, start_station_name, start_station_latitude, start_station_longitude, end_station_id, end_station_name, end_station_latitude, end_station_longitude, bike_id, user_type and rental_access_method\n",
    "\n",
    "What is/are the main feature(s) of interest in your dataset? Most interest is in figuring out features that best determine least time taken for each trip in the dataset.\n",
    "\n",
    "What features in the dataset do you think will help support your investigation into your feature(s) of interest?\n",
    "\n",
    "I expect that duration will have strongest effect  in determining the time spent on each trip taken. Other features that influence time taken could be day of the week, month or user type."
   ]
  },
  {
   "cell_type": "markdown",
   "id": "481d1c10",
   "metadata": {
    "slideshow": {
     "slide_type": "skip"
    }
   },
   "source": [
    "# Findings"
   ]
  },
  {
   "cell_type": "markdown",
   "id": "b8b22e9a",
   "metadata": {
    "slideshow": {
     "slide_type": "skip"
    }
   },
   "source": [
    "(i) Tidiness Issues"
   ]
  },
  {
   "cell_type": "markdown",
   "id": "db7a5c6c",
   "metadata": {
    "slideshow": {
     "slide_type": "skip"
    }
   },
   "source": [
    "1. Data is divided into 3 datasets.\n",
    "\n",
    "2. 'Day' column is missing from the datasets\n",
    "\n",
    "3. Time is displayed in term of seconds, instead of minutes or hours.\n",
    "\n",
    "4. Unnecessary columns for analysis.\n",
    "\n",
    "5. Month column is missing.\n"
   ]
  },
  {
   "cell_type": "markdown",
   "id": "de0e6b4d",
   "metadata": {
    "slideshow": {
     "slide_type": "skip"
    }
   },
   "source": [
    "# Quality"
   ]
  },
  {
   "cell_type": "markdown",
   "id": "0bc86e25",
   "metadata": {
    "slideshow": {
     "slide_type": "skip"
    }
   },
   "source": [
    "1. Wrong data types (start_time, end_time)\n",
    "\n",
    "2. Null records present\n",
    "\n",
    "3. Jan dataset has one outlier"
   ]
  },
  {
   "cell_type": "markdown",
   "id": "8fb8e02e",
   "metadata": {},
   "source": [
    "# Cleaning Data"
   ]
  },
  {
   "cell_type": "code",
   "execution_count": 38,
   "id": "1a38ab14",
   "metadata": {
    "slideshow": {
     "slide_type": "skip"
    }
   },
   "outputs": [],
   "source": [
    "# Creating dataframe copies\n",
    "\n",
    "df1_clean = df1.copy()\n",
    "df2_clean = df2.copy()\n",
    "df3_clean = df3.copy()"
   ]
  },
  {
   "cell_type": "markdown",
   "id": "776c5a49",
   "metadata": {
    "slideshow": {
     "slide_type": "skip"
    }
   },
   "source": [
    "## T5. Month column is missing"
   ]
  },
  {
   "cell_type": "markdown",
   "id": "6b6bb303",
   "metadata": {
    "slideshow": {
     "slide_type": "skip"
    }
   },
   "source": [
    "### Define: \n"
   ]
  },
  {
   "cell_type": "markdown",
   "id": "2b4d15b2",
   "metadata": {
    "slideshow": {
     "slide_type": "skip"
    }
   },
   "source": [
    "\n",
    "Add month column. In each dataset add the month column, with the name of the month, to tell apart each dataset for ease of analysis."
   ]
  },
  {
   "cell_type": "markdown",
   "id": "770b7b98",
   "metadata": {
    "slideshow": {
     "slide_type": "skip"
    }
   },
   "source": [
    "### Code:"
   ]
  },
  {
   "cell_type": "code",
   "execution_count": 39,
   "id": "f46cdb43",
   "metadata": {
    "slideshow": {
     "slide_type": "skip"
    }
   },
   "outputs": [],
   "source": [
    "df1_clean['month'] = 'Jan'\n",
    "df2_clean['month'] = 'Feb'\n",
    "df3_clean['month'] = 'Mar'"
   ]
  },
  {
   "cell_type": "markdown",
   "id": "e556be16",
   "metadata": {
    "slideshow": {
     "slide_type": "skip"
    }
   },
   "source": [
    "### Test:"
   ]
  },
  {
   "cell_type": "code",
   "execution_count": 40,
   "id": "36a41119",
   "metadata": {
    "slideshow": {
     "slide_type": "skip"
    }
   },
   "outputs": [
    {
     "name": "stdout",
     "output_type": "stream",
     "text": [
      "(295854, 15)\n"
     ]
    },
    {
     "data": {
      "text/html": [
       "<div>\n",
       "<style scoped>\n",
       "    .dataframe tbody tr th:only-of-type {\n",
       "        vertical-align: middle;\n",
       "    }\n",
       "\n",
       "    .dataframe tbody tr th {\n",
       "        vertical-align: top;\n",
       "    }\n",
       "\n",
       "    .dataframe thead th {\n",
       "        text-align: right;\n",
       "    }\n",
       "</style>\n",
       "<table border=\"1\" class=\"dataframe\">\n",
       "  <thead>\n",
       "    <tr style=\"text-align: right;\">\n",
       "      <th></th>\n",
       "      <th>duration_sec</th>\n",
       "      <th>start_time</th>\n",
       "      <th>end_time</th>\n",
       "      <th>start_station_id</th>\n",
       "      <th>start_station_name</th>\n",
       "      <th>start_station_latitude</th>\n",
       "      <th>start_station_longitude</th>\n",
       "      <th>end_station_id</th>\n",
       "      <th>end_station_name</th>\n",
       "      <th>end_station_latitude</th>\n",
       "      <th>end_station_longitude</th>\n",
       "      <th>bike_id</th>\n",
       "      <th>user_type</th>\n",
       "      <th>rental_access_method</th>\n",
       "      <th>month</th>\n",
       "    </tr>\n",
       "  </thead>\n",
       "  <tbody>\n",
       "    <tr>\n",
       "      <th>0</th>\n",
       "      <td>83118</td>\n",
       "      <td>2020-01-31 15:23:47.7330</td>\n",
       "      <td>2020-02-01 14:29:06.2630</td>\n",
       "      <td>400.0</td>\n",
       "      <td>Buchanan St at North Point St</td>\n",
       "      <td>37.804272</td>\n",
       "      <td>-122.433537</td>\n",
       "      <td>400.0</td>\n",
       "      <td>Buchanan St at North Point St</td>\n",
       "      <td>37.804272</td>\n",
       "      <td>-122.433537</td>\n",
       "      <td>13052</td>\n",
       "      <td>Customer</td>\n",
       "      <td>NaN</td>\n",
       "      <td>Jan</td>\n",
       "    </tr>\n",
       "    <tr>\n",
       "      <th>1</th>\n",
       "      <td>68239</td>\n",
       "      <td>2020-01-31 15:40:31.6160</td>\n",
       "      <td>2020-02-01 10:37:51.0000</td>\n",
       "      <td>99.0</td>\n",
       "      <td>Folsom St at 15th St</td>\n",
       "      <td>37.767037</td>\n",
       "      <td>-122.415442</td>\n",
       "      <td>99.0</td>\n",
       "      <td>Folsom St at 15th St</td>\n",
       "      <td>37.767037</td>\n",
       "      <td>-122.415442</td>\n",
       "      <td>12235</td>\n",
       "      <td>Subscriber</td>\n",
       "      <td>NaN</td>\n",
       "      <td>Jan</td>\n",
       "    </tr>\n",
       "    <tr>\n",
       "      <th>2</th>\n",
       "      <td>55407</td>\n",
       "      <td>2020-01-31 17:48:16.6350</td>\n",
       "      <td>2020-02-01 09:11:44.3170</td>\n",
       "      <td>197.0</td>\n",
       "      <td>El Embarcadero at Grand Ave</td>\n",
       "      <td>37.808848</td>\n",
       "      <td>-122.249680</td>\n",
       "      <td>197.0</td>\n",
       "      <td>El Embarcadero at Grand Ave</td>\n",
       "      <td>37.808848</td>\n",
       "      <td>-122.249680</td>\n",
       "      <td>12822</td>\n",
       "      <td>Customer</td>\n",
       "      <td>NaN</td>\n",
       "      <td>Jan</td>\n",
       "    </tr>\n",
       "    <tr>\n",
       "      <th>3</th>\n",
       "      <td>54929</td>\n",
       "      <td>2020-01-31 17:53:03.4130</td>\n",
       "      <td>2020-02-01 09:08:32.6340</td>\n",
       "      <td>197.0</td>\n",
       "      <td>El Embarcadero at Grand Ave</td>\n",
       "      <td>37.808848</td>\n",
       "      <td>-122.249680</td>\n",
       "      <td>197.0</td>\n",
       "      <td>El Embarcadero at Grand Ave</td>\n",
       "      <td>37.808848</td>\n",
       "      <td>-122.249680</td>\n",
       "      <td>11705</td>\n",
       "      <td>Customer</td>\n",
       "      <td>NaN</td>\n",
       "      <td>Jan</td>\n",
       "    </tr>\n",
       "    <tr>\n",
       "      <th>4</th>\n",
       "      <td>55700</td>\n",
       "      <td>2020-01-31 17:12:33.4600</td>\n",
       "      <td>2020-02-01 08:40:53.6460</td>\n",
       "      <td>12.0</td>\n",
       "      <td>Pier 1/2 at The Embarcadero</td>\n",
       "      <td>37.796389</td>\n",
       "      <td>-122.394586</td>\n",
       "      <td>371.0</td>\n",
       "      <td>Lombard St at Columbus Ave</td>\n",
       "      <td>37.802746</td>\n",
       "      <td>-122.413579</td>\n",
       "      <td>3673</td>\n",
       "      <td>Customer</td>\n",
       "      <td>NaN</td>\n",
       "      <td>Jan</td>\n",
       "    </tr>\n",
       "  </tbody>\n",
       "</table>\n",
       "</div>"
      ],
      "text/plain": [
       "   duration_sec                start_time                  end_time  \\\n",
       "0         83118  2020-01-31 15:23:47.7330  2020-02-01 14:29:06.2630   \n",
       "1         68239  2020-01-31 15:40:31.6160  2020-02-01 10:37:51.0000   \n",
       "2         55407  2020-01-31 17:48:16.6350  2020-02-01 09:11:44.3170   \n",
       "3         54929  2020-01-31 17:53:03.4130  2020-02-01 09:08:32.6340   \n",
       "4         55700  2020-01-31 17:12:33.4600  2020-02-01 08:40:53.6460   \n",
       "\n",
       "   start_station_id             start_station_name  start_station_latitude  \\\n",
       "0             400.0  Buchanan St at North Point St               37.804272   \n",
       "1              99.0           Folsom St at 15th St               37.767037   \n",
       "2             197.0    El Embarcadero at Grand Ave               37.808848   \n",
       "3             197.0    El Embarcadero at Grand Ave               37.808848   \n",
       "4              12.0    Pier 1/2 at The Embarcadero               37.796389   \n",
       "\n",
       "   start_station_longitude  end_station_id               end_station_name  \\\n",
       "0              -122.433537           400.0  Buchanan St at North Point St   \n",
       "1              -122.415442            99.0           Folsom St at 15th St   \n",
       "2              -122.249680           197.0    El Embarcadero at Grand Ave   \n",
       "3              -122.249680           197.0    El Embarcadero at Grand Ave   \n",
       "4              -122.394586           371.0     Lombard St at Columbus Ave   \n",
       "\n",
       "   end_station_latitude  end_station_longitude  bike_id   user_type  \\\n",
       "0             37.804272            -122.433537    13052    Customer   \n",
       "1             37.767037            -122.415442    12235  Subscriber   \n",
       "2             37.808848            -122.249680    12822    Customer   \n",
       "3             37.808848            -122.249680    11705    Customer   \n",
       "4             37.802746            -122.413579     3673    Customer   \n",
       "\n",
       "  rental_access_method month  \n",
       "0                  NaN   Jan  \n",
       "1                  NaN   Jan  \n",
       "2                  NaN   Jan  \n",
       "3                  NaN   Jan  \n",
       "4                  NaN   Jan  "
      ]
     },
     "execution_count": 40,
     "metadata": {},
     "output_type": "execute_result"
    }
   ],
   "source": [
    "print(df1_clean.shape)\n",
    "df1_clean.head()"
   ]
  },
  {
   "cell_type": "code",
   "execution_count": 41,
   "id": "d695b200",
   "metadata": {
    "slideshow": {
     "slide_type": "skip"
    }
   },
   "outputs": [
    {
     "name": "stdout",
     "output_type": "stream",
     "text": [
      "(432354, 15)\n"
     ]
    },
    {
     "data": {
      "text/html": [
       "<div>\n",
       "<style scoped>\n",
       "    .dataframe tbody tr th:only-of-type {\n",
       "        vertical-align: middle;\n",
       "    }\n",
       "\n",
       "    .dataframe tbody tr th {\n",
       "        vertical-align: top;\n",
       "    }\n",
       "\n",
       "    .dataframe thead th {\n",
       "        text-align: right;\n",
       "    }\n",
       "</style>\n",
       "<table border=\"1\" class=\"dataframe\">\n",
       "  <thead>\n",
       "    <tr style=\"text-align: right;\">\n",
       "      <th></th>\n",
       "      <th>duration_sec</th>\n",
       "      <th>start_time</th>\n",
       "      <th>end_time</th>\n",
       "      <th>start_station_id</th>\n",
       "      <th>start_station_name</th>\n",
       "      <th>start_station_latitude</th>\n",
       "      <th>start_station_longitude</th>\n",
       "      <th>end_station_id</th>\n",
       "      <th>end_station_name</th>\n",
       "      <th>end_station_latitude</th>\n",
       "      <th>end_station_longitude</th>\n",
       "      <th>bike_id</th>\n",
       "      <th>user_type</th>\n",
       "      <th>rental_access_method</th>\n",
       "      <th>month</th>\n",
       "    </tr>\n",
       "  </thead>\n",
       "  <tbody>\n",
       "    <tr>\n",
       "      <th>0</th>\n",
       "      <td>62083</td>\n",
       "      <td>2020-02-29 18:32:30.5750</td>\n",
       "      <td>2020-03-01 11:47:14.0850</td>\n",
       "      <td>176.0</td>\n",
       "      <td>MacArthur BART Station</td>\n",
       "      <td>37.828410</td>\n",
       "      <td>-122.266315</td>\n",
       "      <td>267.0</td>\n",
       "      <td>Derby St at College Ave</td>\n",
       "      <td>37.861804</td>\n",
       "      <td>-122.253569</td>\n",
       "      <td>1993</td>\n",
       "      <td>Customer</td>\n",
       "      <td>NaN</td>\n",
       "      <td>Feb</td>\n",
       "    </tr>\n",
       "    <tr>\n",
       "      <th>1</th>\n",
       "      <td>1364</td>\n",
       "      <td>2020-02-29 23:53:53.7190</td>\n",
       "      <td>2020-03-01 00:16:37.9720</td>\n",
       "      <td>375.0</td>\n",
       "      <td>Grove St at Masonic Ave</td>\n",
       "      <td>37.774836</td>\n",
       "      <td>-122.446546</td>\n",
       "      <td>506.0</td>\n",
       "      <td>7th Ave at Clement St</td>\n",
       "      <td>37.782439</td>\n",
       "      <td>-122.465377</td>\n",
       "      <td>12402</td>\n",
       "      <td>Customer</td>\n",
       "      <td>NaN</td>\n",
       "      <td>Feb</td>\n",
       "    </tr>\n",
       "    <tr>\n",
       "      <th>2</th>\n",
       "      <td>836</td>\n",
       "      <td>2020-02-29 23:54:03.1970</td>\n",
       "      <td>2020-03-01 00:07:59.8490</td>\n",
       "      <td>375.0</td>\n",
       "      <td>Grove St at Masonic Ave</td>\n",
       "      <td>37.774836</td>\n",
       "      <td>-122.446546</td>\n",
       "      <td>454.0</td>\n",
       "      <td>7th Ave at Cabrillo St</td>\n",
       "      <td>37.775176</td>\n",
       "      <td>-122.465007</td>\n",
       "      <td>2302</td>\n",
       "      <td>Customer</td>\n",
       "      <td>NaN</td>\n",
       "      <td>Feb</td>\n",
       "    </tr>\n",
       "    <tr>\n",
       "      <th>3</th>\n",
       "      <td>1004</td>\n",
       "      <td>2020-02-29 23:48:34.6480</td>\n",
       "      <td>2020-03-01 00:05:19.2020</td>\n",
       "      <td>179.0</td>\n",
       "      <td>Telegraph Ave at 27th St</td>\n",
       "      <td>37.816073</td>\n",
       "      <td>-122.267886</td>\n",
       "      <td>200.0</td>\n",
       "      <td>2nd Ave at E 18th St</td>\n",
       "      <td>37.800214</td>\n",
       "      <td>-122.253810</td>\n",
       "      <td>902</td>\n",
       "      <td>Customer</td>\n",
       "      <td>NaN</td>\n",
       "      <td>Feb</td>\n",
       "    </tr>\n",
       "    <tr>\n",
       "      <th>4</th>\n",
       "      <td>1007</td>\n",
       "      <td>2020-02-29 23:48:25.9000</td>\n",
       "      <td>2020-03-01 00:05:13.4490</td>\n",
       "      <td>179.0</td>\n",
       "      <td>Telegraph Ave at 27th St</td>\n",
       "      <td>37.816073</td>\n",
       "      <td>-122.267886</td>\n",
       "      <td>200.0</td>\n",
       "      <td>2nd Ave at E 18th St</td>\n",
       "      <td>37.800214</td>\n",
       "      <td>-122.253810</td>\n",
       "      <td>11578</td>\n",
       "      <td>Customer</td>\n",
       "      <td>NaN</td>\n",
       "      <td>Feb</td>\n",
       "    </tr>\n",
       "  </tbody>\n",
       "</table>\n",
       "</div>"
      ],
      "text/plain": [
       "   duration_sec                start_time                  end_time  \\\n",
       "0         62083  2020-02-29 18:32:30.5750  2020-03-01 11:47:14.0850   \n",
       "1          1364  2020-02-29 23:53:53.7190  2020-03-01 00:16:37.9720   \n",
       "2           836  2020-02-29 23:54:03.1970  2020-03-01 00:07:59.8490   \n",
       "3          1004  2020-02-29 23:48:34.6480  2020-03-01 00:05:19.2020   \n",
       "4          1007  2020-02-29 23:48:25.9000  2020-03-01 00:05:13.4490   \n",
       "\n",
       "   start_station_id        start_station_name  start_station_latitude  \\\n",
       "0             176.0    MacArthur BART Station               37.828410   \n",
       "1             375.0   Grove St at Masonic Ave               37.774836   \n",
       "2             375.0   Grove St at Masonic Ave               37.774836   \n",
       "3             179.0  Telegraph Ave at 27th St               37.816073   \n",
       "4             179.0  Telegraph Ave at 27th St               37.816073   \n",
       "\n",
       "   start_station_longitude  end_station_id         end_station_name  \\\n",
       "0              -122.266315           267.0  Derby St at College Ave   \n",
       "1              -122.446546           506.0    7th Ave at Clement St   \n",
       "2              -122.446546           454.0   7th Ave at Cabrillo St   \n",
       "3              -122.267886           200.0     2nd Ave at E 18th St   \n",
       "4              -122.267886           200.0     2nd Ave at E 18th St   \n",
       "\n",
       "   end_station_latitude  end_station_longitude  bike_id user_type  \\\n",
       "0             37.861804            -122.253569     1993  Customer   \n",
       "1             37.782439            -122.465377    12402  Customer   \n",
       "2             37.775176            -122.465007     2302  Customer   \n",
       "3             37.800214            -122.253810      902  Customer   \n",
       "4             37.800214            -122.253810    11578  Customer   \n",
       "\n",
       "  rental_access_method month  \n",
       "0                  NaN   Feb  \n",
       "1                  NaN   Feb  \n",
       "2                  NaN   Feb  \n",
       "3                  NaN   Feb  \n",
       "4                  NaN   Feb  "
      ]
     },
     "execution_count": 41,
     "metadata": {},
     "output_type": "execute_result"
    }
   ],
   "source": [
    "print(df2_clean.shape)\n",
    "df2_clean.head()"
   ]
  },
  {
   "cell_type": "code",
   "execution_count": 42,
   "id": "45c424a8",
   "metadata": {
    "slideshow": {
     "slide_type": "skip"
    }
   },
   "outputs": [
    {
     "name": "stdout",
     "output_type": "stream",
     "text": [
      "(176799, 15)\n"
     ]
    },
    {
     "data": {
      "text/html": [
       "<div>\n",
       "<style scoped>\n",
       "    .dataframe tbody tr th:only-of-type {\n",
       "        vertical-align: middle;\n",
       "    }\n",
       "\n",
       "    .dataframe tbody tr th {\n",
       "        vertical-align: top;\n",
       "    }\n",
       "\n",
       "    .dataframe thead th {\n",
       "        text-align: right;\n",
       "    }\n",
       "</style>\n",
       "<table border=\"1\" class=\"dataframe\">\n",
       "  <thead>\n",
       "    <tr style=\"text-align: right;\">\n",
       "      <th></th>\n",
       "      <th>duration_sec</th>\n",
       "      <th>start_time</th>\n",
       "      <th>end_time</th>\n",
       "      <th>start_station_id</th>\n",
       "      <th>start_station_name</th>\n",
       "      <th>start_station_latitude</th>\n",
       "      <th>start_station_longitude</th>\n",
       "      <th>end_station_id</th>\n",
       "      <th>end_station_name</th>\n",
       "      <th>end_station_latitude</th>\n",
       "      <th>end_station_longitude</th>\n",
       "      <th>bike_id</th>\n",
       "      <th>user_type</th>\n",
       "      <th>rental_access_method</th>\n",
       "      <th>month</th>\n",
       "    </tr>\n",
       "  </thead>\n",
       "  <tbody>\n",
       "    <tr>\n",
       "      <th>0</th>\n",
       "      <td>35187</td>\n",
       "      <td>2020-03-31 20:42:10.0790</td>\n",
       "      <td>2020-04-01 06:28:37.8440</td>\n",
       "      <td>462.0</td>\n",
       "      <td>Cruise Terminal at Pier 27</td>\n",
       "      <td>37.804648</td>\n",
       "      <td>-122.402087</td>\n",
       "      <td>24.0</td>\n",
       "      <td>Spear St at Folsom St</td>\n",
       "      <td>37.789677</td>\n",
       "      <td>-122.390428</td>\n",
       "      <td>10982</td>\n",
       "      <td>Customer</td>\n",
       "      <td>NaN</td>\n",
       "      <td>Mar</td>\n",
       "    </tr>\n",
       "    <tr>\n",
       "      <th>1</th>\n",
       "      <td>14568</td>\n",
       "      <td>2020-03-31 22:45:25.5010</td>\n",
       "      <td>2020-04-01 02:48:13.7730</td>\n",
       "      <td>42.0</td>\n",
       "      <td>San Francisco City Hall (Polk St at Grove St)</td>\n",
       "      <td>37.778650</td>\n",
       "      <td>-122.418230</td>\n",
       "      <td>370.0</td>\n",
       "      <td>Jones St at Post St</td>\n",
       "      <td>37.787327</td>\n",
       "      <td>-122.413278</td>\n",
       "      <td>12617</td>\n",
       "      <td>Customer</td>\n",
       "      <td>NaN</td>\n",
       "      <td>Mar</td>\n",
       "    </tr>\n",
       "    <tr>\n",
       "      <th>2</th>\n",
       "      <td>35990</td>\n",
       "      <td>2020-03-31 15:08:22.3310</td>\n",
       "      <td>2020-04-01 01:08:12.9900</td>\n",
       "      <td>391.0</td>\n",
       "      <td>1st St at Younger Ave</td>\n",
       "      <td>37.355030</td>\n",
       "      <td>-121.904436</td>\n",
       "      <td>397.0</td>\n",
       "      <td>Gish Rd at 1st St</td>\n",
       "      <td>37.361867</td>\n",
       "      <td>-121.909315</td>\n",
       "      <td>12812</td>\n",
       "      <td>Customer</td>\n",
       "      <td>NaN</td>\n",
       "      <td>Mar</td>\n",
       "    </tr>\n",
       "    <tr>\n",
       "      <th>3</th>\n",
       "      <td>1068</td>\n",
       "      <td>2020-03-31 23:55:00.4260</td>\n",
       "      <td>2020-04-01 00:12:49.0200</td>\n",
       "      <td>456.0</td>\n",
       "      <td>Arguello Blvd at Geary Blvd</td>\n",
       "      <td>37.781468</td>\n",
       "      <td>-122.458806</td>\n",
       "      <td>107.0</td>\n",
       "      <td>17th St at Dolores St</td>\n",
       "      <td>37.763015</td>\n",
       "      <td>-122.426497</td>\n",
       "      <td>12955</td>\n",
       "      <td>Customer</td>\n",
       "      <td>NaN</td>\n",
       "      <td>Mar</td>\n",
       "    </tr>\n",
       "    <tr>\n",
       "      <th>4</th>\n",
       "      <td>3300</td>\n",
       "      <td>2020-03-31 23:00:55.6410</td>\n",
       "      <td>2020-03-31 23:55:56.6110</td>\n",
       "      <td>6.0</td>\n",
       "      <td>The Embarcadero at Sansome St</td>\n",
       "      <td>37.804770</td>\n",
       "      <td>-122.403234</td>\n",
       "      <td>24.0</td>\n",
       "      <td>Spear St at Folsom St</td>\n",
       "      <td>37.789677</td>\n",
       "      <td>-122.390428</td>\n",
       "      <td>13050</td>\n",
       "      <td>Customer</td>\n",
       "      <td>NaN</td>\n",
       "      <td>Mar</td>\n",
       "    </tr>\n",
       "  </tbody>\n",
       "</table>\n",
       "</div>"
      ],
      "text/plain": [
       "   duration_sec                start_time                  end_time  \\\n",
       "0         35187  2020-03-31 20:42:10.0790  2020-04-01 06:28:37.8440   \n",
       "1         14568  2020-03-31 22:45:25.5010  2020-04-01 02:48:13.7730   \n",
       "2         35990  2020-03-31 15:08:22.3310  2020-04-01 01:08:12.9900   \n",
       "3          1068  2020-03-31 23:55:00.4260  2020-04-01 00:12:49.0200   \n",
       "4          3300  2020-03-31 23:00:55.6410  2020-03-31 23:55:56.6110   \n",
       "\n",
       "   start_station_id                             start_station_name  \\\n",
       "0             462.0                     Cruise Terminal at Pier 27   \n",
       "1              42.0  San Francisco City Hall (Polk St at Grove St)   \n",
       "2             391.0                          1st St at Younger Ave   \n",
       "3             456.0                    Arguello Blvd at Geary Blvd   \n",
       "4               6.0                  The Embarcadero at Sansome St   \n",
       "\n",
       "   start_station_latitude  start_station_longitude  end_station_id  \\\n",
       "0               37.804648              -122.402087            24.0   \n",
       "1               37.778650              -122.418230           370.0   \n",
       "2               37.355030              -121.904436           397.0   \n",
       "3               37.781468              -122.458806           107.0   \n",
       "4               37.804770              -122.403234            24.0   \n",
       "\n",
       "        end_station_name  end_station_latitude  end_station_longitude  \\\n",
       "0  Spear St at Folsom St             37.789677            -122.390428   \n",
       "1    Jones St at Post St             37.787327            -122.413278   \n",
       "2      Gish Rd at 1st St             37.361867            -121.909315   \n",
       "3  17th St at Dolores St             37.763015            -122.426497   \n",
       "4  Spear St at Folsom St             37.789677            -122.390428   \n",
       "\n",
       "   bike_id user_type rental_access_method month  \n",
       "0    10982  Customer                  NaN   Mar  \n",
       "1    12617  Customer                  NaN   Mar  \n",
       "2    12812  Customer                  NaN   Mar  \n",
       "3    12955  Customer                  NaN   Mar  \n",
       "4    13050  Customer                  NaN   Mar  "
      ]
     },
     "execution_count": 42,
     "metadata": {},
     "output_type": "execute_result"
    }
   ],
   "source": [
    "print(df3_clean.shape) # checking if the new column has been added\n",
    "df3_clean.head()"
   ]
  },
  {
   "cell_type": "markdown",
   "id": "549b9a5d",
   "metadata": {
    "slideshow": {
     "slide_type": "skip"
    }
   },
   "source": [
    "### T2. Data is divided into 3 datasets."
   ]
  },
  {
   "cell_type": "markdown",
   "id": "ea86adc6",
   "metadata": {
    "slideshow": {
     "slide_type": "skip"
    }
   },
   "source": [
    "### Define"
   ]
  },
  {
   "cell_type": "markdown",
   "id": "1f3a9cf2",
   "metadata": {
    "slideshow": {
     "slide_type": "skip"
    }
   },
   "source": [
    "Append the clean datasets to form one dataset."
   ]
  },
  {
   "cell_type": "markdown",
   "id": "d2600254",
   "metadata": {
    "slideshow": {
     "slide_type": "skip"
    }
   },
   "source": [
    "### Code"
   ]
  },
  {
   "cell_type": "code",
   "execution_count": 43,
   "id": "6e65ee35",
   "metadata": {
    "slideshow": {
     "slide_type": "skip"
    }
   },
   "outputs": [
    {
     "name": "stderr",
     "output_type": "stream",
     "text": [
      "C:\\Users\\User\\AppData\\Local\\Temp\\ipykernel_10028\\3831234053.py:1: FutureWarning: The frame.append method is deprecated and will be removed from pandas in a future version. Use pandas.concat instead.\n",
      "  df = df1_clean.append(df2_clean, ignore_index = True)\n",
      "C:\\Users\\User\\AppData\\Local\\Temp\\ipykernel_10028\\3831234053.py:3: FutureWarning: The frame.append method is deprecated and will be removed from pandas in a future version. Use pandas.concat instead.\n",
      "  df= df.append(df3_clean, ignore_index = True)\n"
     ]
    }
   ],
   "source": [
    "df = df1_clean.append(df2_clean, ignore_index = True)\n",
    "\n",
    "df= df.append(df3_clean, ignore_index = True)"
   ]
  },
  {
   "cell_type": "markdown",
   "id": "f014a71e",
   "metadata": {
    "slideshow": {
     "slide_type": "skip"
    }
   },
   "source": [
    "### Test"
   ]
  },
  {
   "cell_type": "code",
   "execution_count": 44,
   "id": "a0a029ab",
   "metadata": {
    "slideshow": {
     "slide_type": "skip"
    }
   },
   "outputs": [
    {
     "data": {
      "text/plain": [
       "(905007, 15)"
      ]
     },
     "execution_count": 44,
     "metadata": {},
     "output_type": "execute_result"
    }
   ],
   "source": [
    "df.shape"
   ]
  },
  {
   "cell_type": "markdown",
   "id": "a98b4568",
   "metadata": {
    "slideshow": {
     "slide_type": "skip"
    }
   },
   "source": [
    "\n",
    "\n",
    "\n",
    "\n",
    "\n",
    "merged datadrame has the total number of rows from the indvidual datasets combined."
   ]
  },
  {
   "cell_type": "markdown",
   "id": "2579aa4f",
   "metadata": {
    "slideshow": {
     "slide_type": "skip"
    }
   },
   "source": [
    "\n",
    "# T3. Unnecessary columns"
   ]
  },
  {
   "cell_type": "markdown",
   "id": "8c0767a0",
   "metadata": {
    "slideshow": {
     "slide_type": "skip"
    }
   },
   "source": [
    "## Define"
   ]
  },
  {
   "cell_type": "markdown",
   "id": "b6aa8b0f",
   "metadata": {
    "slideshow": {
     "slide_type": "skip"
    }
   },
   "source": [
    "Delete the unrequired columns from the dataset"
   ]
  },
  {
   "cell_type": "markdown",
   "id": "57904c6f",
   "metadata": {
    "slideshow": {
     "slide_type": "skip"
    }
   },
   "source": [
    "### Code"
   ]
  },
  {
   "cell_type": "code",
   "execution_count": 45,
   "id": "a25ce90d",
   "metadata": {
    "slideshow": {
     "slide_type": "skip"
    }
   },
   "outputs": [
    {
     "data": {
      "text/html": [
       "<div>\n",
       "<style scoped>\n",
       "    .dataframe tbody tr th:only-of-type {\n",
       "        vertical-align: middle;\n",
       "    }\n",
       "\n",
       "    .dataframe tbody tr th {\n",
       "        vertical-align: top;\n",
       "    }\n",
       "\n",
       "    .dataframe thead th {\n",
       "        text-align: right;\n",
       "    }\n",
       "</style>\n",
       "<table border=\"1\" class=\"dataframe\">\n",
       "  <thead>\n",
       "    <tr style=\"text-align: right;\">\n",
       "      <th></th>\n",
       "      <th>duration_sec</th>\n",
       "      <th>start_time</th>\n",
       "      <th>end_time</th>\n",
       "      <th>start_station_id</th>\n",
       "      <th>start_station_name</th>\n",
       "      <th>start_station_latitude</th>\n",
       "      <th>start_station_longitude</th>\n",
       "      <th>end_station_id</th>\n",
       "      <th>end_station_name</th>\n",
       "      <th>end_station_latitude</th>\n",
       "      <th>end_station_longitude</th>\n",
       "      <th>bike_id</th>\n",
       "      <th>user_type</th>\n",
       "      <th>rental_access_method</th>\n",
       "      <th>month</th>\n",
       "    </tr>\n",
       "  </thead>\n",
       "  <tbody>\n",
       "    <tr>\n",
       "      <th>0</th>\n",
       "      <td>83118</td>\n",
       "      <td>2020-01-31 15:23:47.7330</td>\n",
       "      <td>2020-02-01 14:29:06.2630</td>\n",
       "      <td>400.0</td>\n",
       "      <td>Buchanan St at North Point St</td>\n",
       "      <td>37.804272</td>\n",
       "      <td>-122.433537</td>\n",
       "      <td>400.0</td>\n",
       "      <td>Buchanan St at North Point St</td>\n",
       "      <td>37.804272</td>\n",
       "      <td>-122.433537</td>\n",
       "      <td>13052</td>\n",
       "      <td>Customer</td>\n",
       "      <td>NaN</td>\n",
       "      <td>Jan</td>\n",
       "    </tr>\n",
       "    <tr>\n",
       "      <th>1</th>\n",
       "      <td>68239</td>\n",
       "      <td>2020-01-31 15:40:31.6160</td>\n",
       "      <td>2020-02-01 10:37:51.0000</td>\n",
       "      <td>99.0</td>\n",
       "      <td>Folsom St at 15th St</td>\n",
       "      <td>37.767037</td>\n",
       "      <td>-122.415442</td>\n",
       "      <td>99.0</td>\n",
       "      <td>Folsom St at 15th St</td>\n",
       "      <td>37.767037</td>\n",
       "      <td>-122.415442</td>\n",
       "      <td>12235</td>\n",
       "      <td>Subscriber</td>\n",
       "      <td>NaN</td>\n",
       "      <td>Jan</td>\n",
       "    </tr>\n",
       "    <tr>\n",
       "      <th>2</th>\n",
       "      <td>55407</td>\n",
       "      <td>2020-01-31 17:48:16.6350</td>\n",
       "      <td>2020-02-01 09:11:44.3170</td>\n",
       "      <td>197.0</td>\n",
       "      <td>El Embarcadero at Grand Ave</td>\n",
       "      <td>37.808848</td>\n",
       "      <td>-122.249680</td>\n",
       "      <td>197.0</td>\n",
       "      <td>El Embarcadero at Grand Ave</td>\n",
       "      <td>37.808848</td>\n",
       "      <td>-122.249680</td>\n",
       "      <td>12822</td>\n",
       "      <td>Customer</td>\n",
       "      <td>NaN</td>\n",
       "      <td>Jan</td>\n",
       "    </tr>\n",
       "    <tr>\n",
       "      <th>3</th>\n",
       "      <td>54929</td>\n",
       "      <td>2020-01-31 17:53:03.4130</td>\n",
       "      <td>2020-02-01 09:08:32.6340</td>\n",
       "      <td>197.0</td>\n",
       "      <td>El Embarcadero at Grand Ave</td>\n",
       "      <td>37.808848</td>\n",
       "      <td>-122.249680</td>\n",
       "      <td>197.0</td>\n",
       "      <td>El Embarcadero at Grand Ave</td>\n",
       "      <td>37.808848</td>\n",
       "      <td>-122.249680</td>\n",
       "      <td>11705</td>\n",
       "      <td>Customer</td>\n",
       "      <td>NaN</td>\n",
       "      <td>Jan</td>\n",
       "    </tr>\n",
       "    <tr>\n",
       "      <th>4</th>\n",
       "      <td>55700</td>\n",
       "      <td>2020-01-31 17:12:33.4600</td>\n",
       "      <td>2020-02-01 08:40:53.6460</td>\n",
       "      <td>12.0</td>\n",
       "      <td>Pier 1/2 at The Embarcadero</td>\n",
       "      <td>37.796389</td>\n",
       "      <td>-122.394586</td>\n",
       "      <td>371.0</td>\n",
       "      <td>Lombard St at Columbus Ave</td>\n",
       "      <td>37.802746</td>\n",
       "      <td>-122.413579</td>\n",
       "      <td>3673</td>\n",
       "      <td>Customer</td>\n",
       "      <td>NaN</td>\n",
       "      <td>Jan</td>\n",
       "    </tr>\n",
       "    <tr>\n",
       "      <th>5</th>\n",
       "      <td>11333</td>\n",
       "      <td>2020-01-31 22:48:22.6390</td>\n",
       "      <td>2020-02-01 01:57:15.7160</td>\n",
       "      <td>60.0</td>\n",
       "      <td>8th St at Ringold St</td>\n",
       "      <td>37.774520</td>\n",
       "      <td>-122.409449</td>\n",
       "      <td>75.0</td>\n",
       "      <td>Market St at Franklin St</td>\n",
       "      <td>37.773793</td>\n",
       "      <td>-122.421239</td>\n",
       "      <td>12137</td>\n",
       "      <td>Customer</td>\n",
       "      <td>NaN</td>\n",
       "      <td>Jan</td>\n",
       "    </tr>\n",
       "    <tr>\n",
       "      <th>6</th>\n",
       "      <td>11341</td>\n",
       "      <td>2020-01-31 22:48:12.9890</td>\n",
       "      <td>2020-02-01 01:57:14.1650</td>\n",
       "      <td>60.0</td>\n",
       "      <td>8th St at Ringold St</td>\n",
       "      <td>37.774520</td>\n",
       "      <td>-122.409449</td>\n",
       "      <td>75.0</td>\n",
       "      <td>Market St at Franklin St</td>\n",
       "      <td>37.773793</td>\n",
       "      <td>-122.421239</td>\n",
       "      <td>12321</td>\n",
       "      <td>Customer</td>\n",
       "      <td>NaN</td>\n",
       "      <td>Jan</td>\n",
       "    </tr>\n",
       "    <tr>\n",
       "      <th>7</th>\n",
       "      <td>4038</td>\n",
       "      <td>2020-01-31 23:32:03.9070</td>\n",
       "      <td>2020-02-01 00:39:22.0210</td>\n",
       "      <td>450.0</td>\n",
       "      <td>Funston Ave at Irving St</td>\n",
       "      <td>37.763934</td>\n",
       "      <td>-122.470651</td>\n",
       "      <td>450.0</td>\n",
       "      <td>Funston Ave at Irving St</td>\n",
       "      <td>37.763934</td>\n",
       "      <td>-122.470651</td>\n",
       "      <td>1589</td>\n",
       "      <td>Customer</td>\n",
       "      <td>NaN</td>\n",
       "      <td>Jan</td>\n",
       "    </tr>\n",
       "    <tr>\n",
       "      <th>8</th>\n",
       "      <td>4059</td>\n",
       "      <td>2020-01-31 23:31:01.1610</td>\n",
       "      <td>2020-02-01 00:38:40.8570</td>\n",
       "      <td>450.0</td>\n",
       "      <td>Funston Ave at Irving St</td>\n",
       "      <td>37.763934</td>\n",
       "      <td>-122.470651</td>\n",
       "      <td>450.0</td>\n",
       "      <td>Funston Ave at Irving St</td>\n",
       "      <td>37.763934</td>\n",
       "      <td>-122.470651</td>\n",
       "      <td>12884</td>\n",
       "      <td>Customer</td>\n",
       "      <td>NaN</td>\n",
       "      <td>Jan</td>\n",
       "    </tr>\n",
       "    <tr>\n",
       "      <th>9</th>\n",
       "      <td>1980</td>\n",
       "      <td>2020-01-31 23:49:09.2300</td>\n",
       "      <td>2020-02-01 00:22:09.7540</td>\n",
       "      <td>238.0</td>\n",
       "      <td>MLK Jr Way at University Ave</td>\n",
       "      <td>37.871719</td>\n",
       "      <td>-122.273068</td>\n",
       "      <td>198.0</td>\n",
       "      <td>Snow Park</td>\n",
       "      <td>37.807813</td>\n",
       "      <td>-122.264496</td>\n",
       "      <td>10464</td>\n",
       "      <td>Customer</td>\n",
       "      <td>NaN</td>\n",
       "      <td>Jan</td>\n",
       "    </tr>\n",
       "  </tbody>\n",
       "</table>\n",
       "</div>"
      ],
      "text/plain": [
       "   duration_sec                start_time                  end_time  \\\n",
       "0         83118  2020-01-31 15:23:47.7330  2020-02-01 14:29:06.2630   \n",
       "1         68239  2020-01-31 15:40:31.6160  2020-02-01 10:37:51.0000   \n",
       "2         55407  2020-01-31 17:48:16.6350  2020-02-01 09:11:44.3170   \n",
       "3         54929  2020-01-31 17:53:03.4130  2020-02-01 09:08:32.6340   \n",
       "4         55700  2020-01-31 17:12:33.4600  2020-02-01 08:40:53.6460   \n",
       "5         11333  2020-01-31 22:48:22.6390  2020-02-01 01:57:15.7160   \n",
       "6         11341  2020-01-31 22:48:12.9890  2020-02-01 01:57:14.1650   \n",
       "7          4038  2020-01-31 23:32:03.9070  2020-02-01 00:39:22.0210   \n",
       "8          4059  2020-01-31 23:31:01.1610  2020-02-01 00:38:40.8570   \n",
       "9          1980  2020-01-31 23:49:09.2300  2020-02-01 00:22:09.7540   \n",
       "\n",
       "   start_station_id             start_station_name  start_station_latitude  \\\n",
       "0             400.0  Buchanan St at North Point St               37.804272   \n",
       "1              99.0           Folsom St at 15th St               37.767037   \n",
       "2             197.0    El Embarcadero at Grand Ave               37.808848   \n",
       "3             197.0    El Embarcadero at Grand Ave               37.808848   \n",
       "4              12.0    Pier 1/2 at The Embarcadero               37.796389   \n",
       "5              60.0           8th St at Ringold St               37.774520   \n",
       "6              60.0           8th St at Ringold St               37.774520   \n",
       "7             450.0       Funston Ave at Irving St               37.763934   \n",
       "8             450.0       Funston Ave at Irving St               37.763934   \n",
       "9             238.0   MLK Jr Way at University Ave               37.871719   \n",
       "\n",
       "   start_station_longitude  end_station_id               end_station_name  \\\n",
       "0              -122.433537           400.0  Buchanan St at North Point St   \n",
       "1              -122.415442            99.0           Folsom St at 15th St   \n",
       "2              -122.249680           197.0    El Embarcadero at Grand Ave   \n",
       "3              -122.249680           197.0    El Embarcadero at Grand Ave   \n",
       "4              -122.394586           371.0     Lombard St at Columbus Ave   \n",
       "5              -122.409449            75.0       Market St at Franklin St   \n",
       "6              -122.409449            75.0       Market St at Franklin St   \n",
       "7              -122.470651           450.0       Funston Ave at Irving St   \n",
       "8              -122.470651           450.0       Funston Ave at Irving St   \n",
       "9              -122.273068           198.0                      Snow Park   \n",
       "\n",
       "   end_station_latitude  end_station_longitude  bike_id   user_type  \\\n",
       "0             37.804272            -122.433537    13052    Customer   \n",
       "1             37.767037            -122.415442    12235  Subscriber   \n",
       "2             37.808848            -122.249680    12822    Customer   \n",
       "3             37.808848            -122.249680    11705    Customer   \n",
       "4             37.802746            -122.413579     3673    Customer   \n",
       "5             37.773793            -122.421239    12137    Customer   \n",
       "6             37.773793            -122.421239    12321    Customer   \n",
       "7             37.763934            -122.470651     1589    Customer   \n",
       "8             37.763934            -122.470651    12884    Customer   \n",
       "9             37.807813            -122.264496    10464    Customer   \n",
       "\n",
       "  rental_access_method month  \n",
       "0                  NaN   Jan  \n",
       "1                  NaN   Jan  \n",
       "2                  NaN   Jan  \n",
       "3                  NaN   Jan  \n",
       "4                  NaN   Jan  \n",
       "5                  NaN   Jan  \n",
       "6                  NaN   Jan  \n",
       "7                  NaN   Jan  \n",
       "8                  NaN   Jan  \n",
       "9                  NaN   Jan  "
      ]
     },
     "execution_count": 45,
     "metadata": {},
     "output_type": "execute_result"
    }
   ],
   "source": [
    "df.head(10)"
   ]
  },
  {
   "cell_type": "code",
   "execution_count": 46,
   "id": "41ac3a66",
   "metadata": {
    "slideshow": {
     "slide_type": "skip"
    }
   },
   "outputs": [],
   "source": [
    "columns = [\"start_station_latitude\", \"start_station_longitude\", \"end_station_latitude\", \"end_station_longitude\" ]\n",
    "df.drop(columns, axis = 1, inplace = True)"
   ]
  },
  {
   "cell_type": "markdown",
   "id": "32b8de39",
   "metadata": {
    "slideshow": {
     "slide_type": "skip"
    }
   },
   "source": [
    "### Test"
   ]
  },
  {
   "cell_type": "code",
   "execution_count": 47,
   "id": "9faea42f",
   "metadata": {
    "slideshow": {
     "slide_type": "skip"
    }
   },
   "outputs": [
    {
     "data": {
      "text/plain": [
       "(905007, 11)"
      ]
     },
     "execution_count": 47,
     "metadata": {},
     "output_type": "execute_result"
    }
   ],
   "source": [
    "df.shape"
   ]
  },
  {
   "cell_type": "markdown",
   "id": "bc71cf52",
   "metadata": {
    "slideshow": {
     "slide_type": "skip"
    }
   },
   "source": [
    "# T4 Time is displayed in term of seconds, instead of minutes or hours."
   ]
  },
  {
   "cell_type": "markdown",
   "id": "95acbc09",
   "metadata": {
    "slideshow": {
     "slide_type": "skip"
    }
   },
   "source": [
    "### Define"
   ]
  },
  {
   "cell_type": "markdown",
   "id": "c3cf261a",
   "metadata": {
    "slideshow": {
     "slide_type": "skip"
    }
   },
   "source": [
    "Add two more columns to display time in minutes and hours spent on each ride"
   ]
  },
  {
   "cell_type": "markdown",
   "id": "0e121dc6",
   "metadata": {
    "slideshow": {
     "slide_type": "skip"
    }
   },
   "source": [
    "### Code"
   ]
  },
  {
   "cell_type": "code",
   "execution_count": 48,
   "id": "525887ad",
   "metadata": {
    "slideshow": {
     "slide_type": "skip"
    }
   },
   "outputs": [],
   "source": [
    "# converting seconds to minutes and hours\n",
    "\n",
    "minutes = df['duration_sec']/60\n",
    "hours =  df['duration_sec']/3600"
   ]
  },
  {
   "cell_type": "code",
   "execution_count": 49,
   "id": "0b03737a",
   "metadata": {
    "slideshow": {
     "slide_type": "skip"
    }
   },
   "outputs": [],
   "source": [
    "df.insert(1, 'duration_mins', minutes)\n",
    "df.insert(2, 'duration_hrs', hours)"
   ]
  },
  {
   "cell_type": "code",
   "execution_count": 50,
   "id": "273a607b",
   "metadata": {
    "slideshow": {
     "slide_type": "skip"
    }
   },
   "outputs": [],
   "source": [
    "days = df['duration_hrs']/24\n",
    "\n",
    "df.insert(3, 'duration_days', days)"
   ]
  },
  {
   "cell_type": "markdown",
   "id": "a9e0f474",
   "metadata": {
    "slideshow": {
     "slide_type": "skip"
    }
   },
   "source": [
    "### Test"
   ]
  },
  {
   "cell_type": "code",
   "execution_count": 51,
   "id": "b2308109",
   "metadata": {
    "slideshow": {
     "slide_type": "skip"
    }
   },
   "outputs": [
    {
     "data": {
      "text/html": [
       "<div>\n",
       "<style scoped>\n",
       "    .dataframe tbody tr th:only-of-type {\n",
       "        vertical-align: middle;\n",
       "    }\n",
       "\n",
       "    .dataframe tbody tr th {\n",
       "        vertical-align: top;\n",
       "    }\n",
       "\n",
       "    .dataframe thead th {\n",
       "        text-align: right;\n",
       "    }\n",
       "</style>\n",
       "<table border=\"1\" class=\"dataframe\">\n",
       "  <thead>\n",
       "    <tr style=\"text-align: right;\">\n",
       "      <th></th>\n",
       "      <th>duration_sec</th>\n",
       "      <th>duration_mins</th>\n",
       "      <th>duration_hrs</th>\n",
       "      <th>duration_days</th>\n",
       "      <th>start_time</th>\n",
       "      <th>end_time</th>\n",
       "      <th>start_station_id</th>\n",
       "      <th>start_station_name</th>\n",
       "      <th>end_station_id</th>\n",
       "      <th>end_station_name</th>\n",
       "      <th>bike_id</th>\n",
       "      <th>user_type</th>\n",
       "      <th>rental_access_method</th>\n",
       "      <th>month</th>\n",
       "    </tr>\n",
       "  </thead>\n",
       "  <tbody>\n",
       "    <tr>\n",
       "      <th>0</th>\n",
       "      <td>83118</td>\n",
       "      <td>1385.300000</td>\n",
       "      <td>23.088333</td>\n",
       "      <td>0.962014</td>\n",
       "      <td>2020-01-31 15:23:47.7330</td>\n",
       "      <td>2020-02-01 14:29:06.2630</td>\n",
       "      <td>400.0</td>\n",
       "      <td>Buchanan St at North Point St</td>\n",
       "      <td>400.0</td>\n",
       "      <td>Buchanan St at North Point St</td>\n",
       "      <td>13052</td>\n",
       "      <td>Customer</td>\n",
       "      <td>NaN</td>\n",
       "      <td>Jan</td>\n",
       "    </tr>\n",
       "    <tr>\n",
       "      <th>1</th>\n",
       "      <td>68239</td>\n",
       "      <td>1137.316667</td>\n",
       "      <td>18.955278</td>\n",
       "      <td>0.789803</td>\n",
       "      <td>2020-01-31 15:40:31.6160</td>\n",
       "      <td>2020-02-01 10:37:51.0000</td>\n",
       "      <td>99.0</td>\n",
       "      <td>Folsom St at 15th St</td>\n",
       "      <td>99.0</td>\n",
       "      <td>Folsom St at 15th St</td>\n",
       "      <td>12235</td>\n",
       "      <td>Subscriber</td>\n",
       "      <td>NaN</td>\n",
       "      <td>Jan</td>\n",
       "    </tr>\n",
       "    <tr>\n",
       "      <th>2</th>\n",
       "      <td>55407</td>\n",
       "      <td>923.450000</td>\n",
       "      <td>15.390833</td>\n",
       "      <td>0.641285</td>\n",
       "      <td>2020-01-31 17:48:16.6350</td>\n",
       "      <td>2020-02-01 09:11:44.3170</td>\n",
       "      <td>197.0</td>\n",
       "      <td>El Embarcadero at Grand Ave</td>\n",
       "      <td>197.0</td>\n",
       "      <td>El Embarcadero at Grand Ave</td>\n",
       "      <td>12822</td>\n",
       "      <td>Customer</td>\n",
       "      <td>NaN</td>\n",
       "      <td>Jan</td>\n",
       "    </tr>\n",
       "    <tr>\n",
       "      <th>3</th>\n",
       "      <td>54929</td>\n",
       "      <td>915.483333</td>\n",
       "      <td>15.258056</td>\n",
       "      <td>0.635752</td>\n",
       "      <td>2020-01-31 17:53:03.4130</td>\n",
       "      <td>2020-02-01 09:08:32.6340</td>\n",
       "      <td>197.0</td>\n",
       "      <td>El Embarcadero at Grand Ave</td>\n",
       "      <td>197.0</td>\n",
       "      <td>El Embarcadero at Grand Ave</td>\n",
       "      <td>11705</td>\n",
       "      <td>Customer</td>\n",
       "      <td>NaN</td>\n",
       "      <td>Jan</td>\n",
       "    </tr>\n",
       "    <tr>\n",
       "      <th>4</th>\n",
       "      <td>55700</td>\n",
       "      <td>928.333333</td>\n",
       "      <td>15.472222</td>\n",
       "      <td>0.644676</td>\n",
       "      <td>2020-01-31 17:12:33.4600</td>\n",
       "      <td>2020-02-01 08:40:53.6460</td>\n",
       "      <td>12.0</td>\n",
       "      <td>Pier 1/2 at The Embarcadero</td>\n",
       "      <td>371.0</td>\n",
       "      <td>Lombard St at Columbus Ave</td>\n",
       "      <td>3673</td>\n",
       "      <td>Customer</td>\n",
       "      <td>NaN</td>\n",
       "      <td>Jan</td>\n",
       "    </tr>\n",
       "  </tbody>\n",
       "</table>\n",
       "</div>"
      ],
      "text/plain": [
       "   duration_sec  duration_mins  duration_hrs  duration_days  \\\n",
       "0         83118    1385.300000     23.088333       0.962014   \n",
       "1         68239    1137.316667     18.955278       0.789803   \n",
       "2         55407     923.450000     15.390833       0.641285   \n",
       "3         54929     915.483333     15.258056       0.635752   \n",
       "4         55700     928.333333     15.472222       0.644676   \n",
       "\n",
       "                 start_time                  end_time  start_station_id  \\\n",
       "0  2020-01-31 15:23:47.7330  2020-02-01 14:29:06.2630             400.0   \n",
       "1  2020-01-31 15:40:31.6160  2020-02-01 10:37:51.0000              99.0   \n",
       "2  2020-01-31 17:48:16.6350  2020-02-01 09:11:44.3170             197.0   \n",
       "3  2020-01-31 17:53:03.4130  2020-02-01 09:08:32.6340             197.0   \n",
       "4  2020-01-31 17:12:33.4600  2020-02-01 08:40:53.6460              12.0   \n",
       "\n",
       "              start_station_name  end_station_id  \\\n",
       "0  Buchanan St at North Point St           400.0   \n",
       "1           Folsom St at 15th St            99.0   \n",
       "2    El Embarcadero at Grand Ave           197.0   \n",
       "3    El Embarcadero at Grand Ave           197.0   \n",
       "4    Pier 1/2 at The Embarcadero           371.0   \n",
       "\n",
       "                end_station_name  bike_id   user_type rental_access_method  \\\n",
       "0  Buchanan St at North Point St    13052    Customer                  NaN   \n",
       "1           Folsom St at 15th St    12235  Subscriber                  NaN   \n",
       "2    El Embarcadero at Grand Ave    12822    Customer                  NaN   \n",
       "3    El Embarcadero at Grand Ave    11705    Customer                  NaN   \n",
       "4     Lombard St at Columbus Ave     3673    Customer                  NaN   \n",
       "\n",
       "  month  \n",
       "0   Jan  \n",
       "1   Jan  \n",
       "2   Jan  \n",
       "3   Jan  \n",
       "4   Jan  "
      ]
     },
     "execution_count": 51,
     "metadata": {},
     "output_type": "execute_result"
    }
   ],
   "source": [
    "df.head()"
   ]
  },
  {
   "cell_type": "markdown",
   "id": "c02e7800",
   "metadata": {
    "slideshow": {
     "slide_type": "skip"
    }
   },
   "source": [
    "### T5. 'Day' column is missing from the datasets"
   ]
  },
  {
   "cell_type": "markdown",
   "id": "3c0930a0",
   "metadata": {
    "slideshow": {
     "slide_type": "skip"
    }
   },
   "source": [
    "Define"
   ]
  },
  {
   "cell_type": "markdown",
   "id": "2b4eca1e",
   "metadata": {
    "slideshow": {
     "slide_type": "skip"
    }
   },
   "source": [
    "Add 'day' column to the dataframe"
   ]
  },
  {
   "cell_type": "markdown",
   "id": "e6d634ef",
   "metadata": {
    "slideshow": {
     "slide_type": "skip"
    }
   },
   "source": [
    "### Code"
   ]
  },
  {
   "cell_type": "code",
   "execution_count": 52,
   "id": "41396b0a",
   "metadata": {
    "slideshow": {
     "slide_type": "skip"
    }
   },
   "outputs": [
    {
     "name": "stdout",
     "output_type": "stream",
     "text": [
      "<class 'pandas.core.frame.DataFrame'>\n",
      "RangeIndex: 905007 entries, 0 to 905006\n",
      "Data columns (total 2 columns):\n",
      " #   Column      Non-Null Count   Dtype \n",
      "---  ------      --------------   ----- \n",
      " 0   start_time  905007 non-null  object\n",
      " 1   end_time    905007 non-null  object\n",
      "dtypes: object(2)\n",
      "memory usage: 13.8+ MB\n"
     ]
    }
   ],
   "source": [
    "df[['start_time', 'end_time']].info() # finding the data type"
   ]
  },
  {
   "cell_type": "code",
   "execution_count": 53,
   "id": "91d0a78f",
   "metadata": {
    "slideshow": {
     "slide_type": "skip"
    }
   },
   "outputs": [],
   "source": [
    "# convert the two data types from string to datetime data type\n",
    "df[['start_time', 'end_time']] = df[['start_time', 'end_time']].apply(pd.to_datetime)\n",
    "\n",
    "# create two columns, 'start_day' and 'end_day'\n",
    "start_day = df['start_time'].dt.day_name()   #defining start_day and end_day\n",
    "end_day = df['end_time'].dt.day_name()\n",
    "\n",
    "df.insert(4, 'start_day', start_day)\n",
    "df.insert(6, 'end_day', end_day)"
   ]
  },
  {
   "cell_type": "code",
   "execution_count": 54,
   "id": "7600aa77",
   "metadata": {
    "slideshow": {
     "slide_type": "skip"
    }
   },
   "outputs": [
    {
     "data": {
      "text/html": [
       "<div>\n",
       "<style scoped>\n",
       "    .dataframe tbody tr th:only-of-type {\n",
       "        vertical-align: middle;\n",
       "    }\n",
       "\n",
       "    .dataframe tbody tr th {\n",
       "        vertical-align: top;\n",
       "    }\n",
       "\n",
       "    .dataframe thead th {\n",
       "        text-align: right;\n",
       "    }\n",
       "</style>\n",
       "<table border=\"1\" class=\"dataframe\">\n",
       "  <thead>\n",
       "    <tr style=\"text-align: right;\">\n",
       "      <th></th>\n",
       "      <th>duration_sec</th>\n",
       "      <th>duration_mins</th>\n",
       "      <th>duration_hrs</th>\n",
       "      <th>duration_days</th>\n",
       "      <th>start_day</th>\n",
       "      <th>start_time</th>\n",
       "      <th>end_day</th>\n",
       "      <th>end_time</th>\n",
       "      <th>start_station_id</th>\n",
       "      <th>start_station_name</th>\n",
       "      <th>end_station_id</th>\n",
       "      <th>end_station_name</th>\n",
       "      <th>bike_id</th>\n",
       "      <th>user_type</th>\n",
       "      <th>rental_access_method</th>\n",
       "      <th>month</th>\n",
       "    </tr>\n",
       "  </thead>\n",
       "  <tbody>\n",
       "    <tr>\n",
       "      <th>0</th>\n",
       "      <td>83118</td>\n",
       "      <td>1385.300000</td>\n",
       "      <td>23.088333</td>\n",
       "      <td>0.962014</td>\n",
       "      <td>Friday</td>\n",
       "      <td>2020-01-31 15:23:47.733</td>\n",
       "      <td>Saturday</td>\n",
       "      <td>2020-02-01 14:29:06.263</td>\n",
       "      <td>400.0</td>\n",
       "      <td>Buchanan St at North Point St</td>\n",
       "      <td>400.0</td>\n",
       "      <td>Buchanan St at North Point St</td>\n",
       "      <td>13052</td>\n",
       "      <td>Customer</td>\n",
       "      <td>NaN</td>\n",
       "      <td>Jan</td>\n",
       "    </tr>\n",
       "    <tr>\n",
       "      <th>1</th>\n",
       "      <td>68239</td>\n",
       "      <td>1137.316667</td>\n",
       "      <td>18.955278</td>\n",
       "      <td>0.789803</td>\n",
       "      <td>Friday</td>\n",
       "      <td>2020-01-31 15:40:31.616</td>\n",
       "      <td>Saturday</td>\n",
       "      <td>2020-02-01 10:37:51.000</td>\n",
       "      <td>99.0</td>\n",
       "      <td>Folsom St at 15th St</td>\n",
       "      <td>99.0</td>\n",
       "      <td>Folsom St at 15th St</td>\n",
       "      <td>12235</td>\n",
       "      <td>Subscriber</td>\n",
       "      <td>NaN</td>\n",
       "      <td>Jan</td>\n",
       "    </tr>\n",
       "    <tr>\n",
       "      <th>2</th>\n",
       "      <td>55407</td>\n",
       "      <td>923.450000</td>\n",
       "      <td>15.390833</td>\n",
       "      <td>0.641285</td>\n",
       "      <td>Friday</td>\n",
       "      <td>2020-01-31 17:48:16.635</td>\n",
       "      <td>Saturday</td>\n",
       "      <td>2020-02-01 09:11:44.317</td>\n",
       "      <td>197.0</td>\n",
       "      <td>El Embarcadero at Grand Ave</td>\n",
       "      <td>197.0</td>\n",
       "      <td>El Embarcadero at Grand Ave</td>\n",
       "      <td>12822</td>\n",
       "      <td>Customer</td>\n",
       "      <td>NaN</td>\n",
       "      <td>Jan</td>\n",
       "    </tr>\n",
       "    <tr>\n",
       "      <th>3</th>\n",
       "      <td>54929</td>\n",
       "      <td>915.483333</td>\n",
       "      <td>15.258056</td>\n",
       "      <td>0.635752</td>\n",
       "      <td>Friday</td>\n",
       "      <td>2020-01-31 17:53:03.413</td>\n",
       "      <td>Saturday</td>\n",
       "      <td>2020-02-01 09:08:32.634</td>\n",
       "      <td>197.0</td>\n",
       "      <td>El Embarcadero at Grand Ave</td>\n",
       "      <td>197.0</td>\n",
       "      <td>El Embarcadero at Grand Ave</td>\n",
       "      <td>11705</td>\n",
       "      <td>Customer</td>\n",
       "      <td>NaN</td>\n",
       "      <td>Jan</td>\n",
       "    </tr>\n",
       "    <tr>\n",
       "      <th>4</th>\n",
       "      <td>55700</td>\n",
       "      <td>928.333333</td>\n",
       "      <td>15.472222</td>\n",
       "      <td>0.644676</td>\n",
       "      <td>Friday</td>\n",
       "      <td>2020-01-31 17:12:33.460</td>\n",
       "      <td>Saturday</td>\n",
       "      <td>2020-02-01 08:40:53.646</td>\n",
       "      <td>12.0</td>\n",
       "      <td>Pier 1/2 at The Embarcadero</td>\n",
       "      <td>371.0</td>\n",
       "      <td>Lombard St at Columbus Ave</td>\n",
       "      <td>3673</td>\n",
       "      <td>Customer</td>\n",
       "      <td>NaN</td>\n",
       "      <td>Jan</td>\n",
       "    </tr>\n",
       "  </tbody>\n",
       "</table>\n",
       "</div>"
      ],
      "text/plain": [
       "   duration_sec  duration_mins  duration_hrs  duration_days start_day  \\\n",
       "0         83118    1385.300000     23.088333       0.962014    Friday   \n",
       "1         68239    1137.316667     18.955278       0.789803    Friday   \n",
       "2         55407     923.450000     15.390833       0.641285    Friday   \n",
       "3         54929     915.483333     15.258056       0.635752    Friday   \n",
       "4         55700     928.333333     15.472222       0.644676    Friday   \n",
       "\n",
       "               start_time   end_day                end_time  start_station_id  \\\n",
       "0 2020-01-31 15:23:47.733  Saturday 2020-02-01 14:29:06.263             400.0   \n",
       "1 2020-01-31 15:40:31.616  Saturday 2020-02-01 10:37:51.000              99.0   \n",
       "2 2020-01-31 17:48:16.635  Saturday 2020-02-01 09:11:44.317             197.0   \n",
       "3 2020-01-31 17:53:03.413  Saturday 2020-02-01 09:08:32.634             197.0   \n",
       "4 2020-01-31 17:12:33.460  Saturday 2020-02-01 08:40:53.646              12.0   \n",
       "\n",
       "              start_station_name  end_station_id  \\\n",
       "0  Buchanan St at North Point St           400.0   \n",
       "1           Folsom St at 15th St            99.0   \n",
       "2    El Embarcadero at Grand Ave           197.0   \n",
       "3    El Embarcadero at Grand Ave           197.0   \n",
       "4    Pier 1/2 at The Embarcadero           371.0   \n",
       "\n",
       "                end_station_name  bike_id   user_type rental_access_method  \\\n",
       "0  Buchanan St at North Point St    13052    Customer                  NaN   \n",
       "1           Folsom St at 15th St    12235  Subscriber                  NaN   \n",
       "2    El Embarcadero at Grand Ave    12822    Customer                  NaN   \n",
       "3    El Embarcadero at Grand Ave    11705    Customer                  NaN   \n",
       "4     Lombard St at Columbus Ave     3673    Customer                  NaN   \n",
       "\n",
       "  month  \n",
       "0   Jan  \n",
       "1   Jan  \n",
       "2   Jan  \n",
       "3   Jan  \n",
       "4   Jan  "
      ]
     },
     "execution_count": 54,
     "metadata": {},
     "output_type": "execute_result"
    }
   ],
   "source": [
    "df.head()"
   ]
  },
  {
   "cell_type": "code",
   "execution_count": 55,
   "id": "64fbe9c0",
   "metadata": {
    "slideshow": {
     "slide_type": "skip"
    }
   },
   "outputs": [
    {
     "data": {
      "text/plain": [
       "(905007, 16)"
      ]
     },
     "execution_count": 55,
     "metadata": {},
     "output_type": "execute_result"
    }
   ],
   "source": [
    "df.shape"
   ]
  },
  {
   "cell_type": "markdown",
   "id": "1c14dffe",
   "metadata": {
    "slideshow": {
     "slide_type": "skip"
    }
   },
   "source": [
    "# Cleaning: Quality Issues"
   ]
  },
  {
   "cell_type": "markdown",
   "id": "6864cbc1",
   "metadata": {
    "slideshow": {
     "slide_type": "skip"
    }
   },
   "source": [
    "## (i) Wrong Data types\n"
   ]
  },
  {
   "cell_type": "markdown",
   "id": "eb8c7aa8",
   "metadata": {
    "slideshow": {
     "slide_type": "skip"
    }
   },
   "source": [
    "### Define"
   ]
  },
  {
   "cell_type": "markdown",
   "id": "0d427b58",
   "metadata": {
    "slideshow": {
     "slide_type": "skip"
    }
   },
   "source": [
    "\n",
    "Correct the wrong data types, by converting 'start_station_id', and 'end_station_id' into strings since no analysis will be done on its values."
   ]
  },
  {
   "cell_type": "markdown",
   "id": "35ca6c51",
   "metadata": {
    "slideshow": {
     "slide_type": "skip"
    }
   },
   "source": [
    "### Code"
   ]
  },
  {
   "cell_type": "code",
   "execution_count": 56,
   "id": "b59450a2",
   "metadata": {
    "slideshow": {
     "slide_type": "skip"
    }
   },
   "outputs": [],
   "source": [
    "df[['start_station_id', 'end_station_id']] = df[['start_station_id', 'end_station_id']].astype(str)"
   ]
  },
  {
   "cell_type": "markdown",
   "id": "a7efc9fa",
   "metadata": {
    "slideshow": {
     "slide_type": "skip"
    }
   },
   "source": [
    "### Test"
   ]
  },
  {
   "cell_type": "code",
   "execution_count": 57,
   "id": "12230d0c",
   "metadata": {
    "slideshow": {
     "slide_type": "skip"
    }
   },
   "outputs": [
    {
     "name": "stdout",
     "output_type": "stream",
     "text": [
      "<class 'pandas.core.frame.DataFrame'>\n",
      "RangeIndex: 905007 entries, 0 to 905006\n",
      "Data columns (total 16 columns):\n",
      " #   Column                Non-Null Count   Dtype         \n",
      "---  ------                --------------   -----         \n",
      " 0   duration_sec          905007 non-null  int64         \n",
      " 1   duration_mins         905007 non-null  float64       \n",
      " 2   duration_hrs          905007 non-null  float64       \n",
      " 3   duration_days         905007 non-null  float64       \n",
      " 4   start_day             905007 non-null  object        \n",
      " 5   start_time            905007 non-null  datetime64[ns]\n",
      " 6   end_day               905007 non-null  object        \n",
      " 7   end_time              905007 non-null  datetime64[ns]\n",
      " 8   start_station_id      905007 non-null  object        \n",
      " 9   start_station_name    419938 non-null  object        \n",
      " 10  end_station_id        905007 non-null  object        \n",
      " 11  end_station_name      420499 non-null  object        \n",
      " 12  bike_id               905007 non-null  int64         \n",
      " 13  user_type             905007 non-null  object        \n",
      " 14  rental_access_method  617858 non-null  object        \n",
      " 15  month                 905007 non-null  object        \n",
      "dtypes: datetime64[ns](2), float64(3), int64(2), object(9)\n",
      "memory usage: 110.5+ MB\n"
     ]
    }
   ],
   "source": [
    "df.info()"
   ]
  },
  {
   "cell_type": "markdown",
   "id": "65317cca",
   "metadata": {
    "slideshow": {
     "slide_type": "skip"
    }
   },
   "source": [
    "## Q2. Outlier in Jan dataset"
   ]
  },
  {
   "cell_type": "markdown",
   "id": "67c7b4cf",
   "metadata": {
    "slideshow": {
     "slide_type": "skip"
    }
   },
   "source": [
    "### Define"
   ]
  },
  {
   "cell_type": "markdown",
   "id": "59a7bb65",
   "metadata": {
    "slideshow": {
     "slide_type": "skip"
    }
   },
   "source": [
    "Drop the row containing the outlier"
   ]
  },
  {
   "cell_type": "markdown",
   "id": "633b5961",
   "metadata": {
    "slideshow": {
     "slide_type": "skip"
    }
   },
   "source": [
    "### Code"
   ]
  },
  {
   "cell_type": "code",
   "execution_count": 58,
   "id": "323cf255",
   "metadata": {
    "slideshow": {
     "slide_type": "skip"
    }
   },
   "outputs": [
    {
     "data": {
      "text/html": [
       "<div>\n",
       "<style scoped>\n",
       "    .dataframe tbody tr th:only-of-type {\n",
       "        vertical-align: middle;\n",
       "    }\n",
       "\n",
       "    .dataframe tbody tr th {\n",
       "        vertical-align: top;\n",
       "    }\n",
       "\n",
       "    .dataframe thead th {\n",
       "        text-align: right;\n",
       "    }\n",
       "</style>\n",
       "<table border=\"1\" class=\"dataframe\">\n",
       "  <thead>\n",
       "    <tr style=\"text-align: right;\">\n",
       "      <th></th>\n",
       "      <th>duration_sec</th>\n",
       "      <th>duration_mins</th>\n",
       "      <th>duration_hrs</th>\n",
       "      <th>duration_days</th>\n",
       "      <th>start_day</th>\n",
       "      <th>start_time</th>\n",
       "      <th>end_day</th>\n",
       "      <th>end_time</th>\n",
       "      <th>start_station_id</th>\n",
       "      <th>start_station_name</th>\n",
       "      <th>end_station_id</th>\n",
       "      <th>end_station_name</th>\n",
       "      <th>bike_id</th>\n",
       "      <th>user_type</th>\n",
       "      <th>rental_access_method</th>\n",
       "      <th>month</th>\n",
       "    </tr>\n",
       "  </thead>\n",
       "  <tbody>\n",
       "    <tr>\n",
       "      <th>121168</th>\n",
       "      <td>811077</td>\n",
       "      <td>13517.950000</td>\n",
       "      <td>225.299167</td>\n",
       "      <td>9.387465</td>\n",
       "      <td>Thursday</td>\n",
       "      <td>2020-01-09 16:23:21.000</td>\n",
       "      <td>Sunday</td>\n",
       "      <td>2020-01-19 01:41:19.000</td>\n",
       "      <td>nan</td>\n",
       "      <td>NaN</td>\n",
       "      <td>nan</td>\n",
       "      <td>NaN</td>\n",
       "      <td>231296</td>\n",
       "      <td>Subscriber</td>\n",
       "      <td>clipper</td>\n",
       "      <td>Jan</td>\n",
       "    </tr>\n",
       "    <tr>\n",
       "      <th>347472</th>\n",
       "      <td>86317</td>\n",
       "      <td>1438.616667</td>\n",
       "      <td>23.976944</td>\n",
       "      <td>0.999039</td>\n",
       "      <td>Monday</td>\n",
       "      <td>2020-02-17 11:42:26.059</td>\n",
       "      <td>Tuesday</td>\n",
       "      <td>2020-02-18 11:41:03.741</td>\n",
       "      <td>295.0</td>\n",
       "      <td>William St at 10th St</td>\n",
       "      <td>294.0</td>\n",
       "      <td>Pierce Ave at Market St</td>\n",
       "      <td>10643</td>\n",
       "      <td>Customer</td>\n",
       "      <td>NaN</td>\n",
       "      <td>Feb</td>\n",
       "    </tr>\n",
       "    <tr>\n",
       "      <th>386984</th>\n",
       "      <td>86239</td>\n",
       "      <td>1437.316667</td>\n",
       "      <td>23.955278</td>\n",
       "      <td>0.998137</td>\n",
       "      <td>Thursday</td>\n",
       "      <td>2020-02-06 17:03:46.438</td>\n",
       "      <td>Friday</td>\n",
       "      <td>2020-02-07 17:01:05.703</td>\n",
       "      <td>486.0</td>\n",
       "      <td>Arguello Blvd at Edward St</td>\n",
       "      <td>440.0</td>\n",
       "      <td>Carl St at Cole St</td>\n",
       "      <td>3643</td>\n",
       "      <td>Customer</td>\n",
       "      <td>NaN</td>\n",
       "      <td>Feb</td>\n",
       "    </tr>\n",
       "    <tr>\n",
       "      <th>49926</th>\n",
       "      <td>86221</td>\n",
       "      <td>1437.016667</td>\n",
       "      <td>23.950278</td>\n",
       "      <td>0.997928</td>\n",
       "      <td>Thursday</td>\n",
       "      <td>2020-01-16 07:51:37.709</td>\n",
       "      <td>Friday</td>\n",
       "      <td>2020-01-17 07:48:39.515</td>\n",
       "      <td>417.0</td>\n",
       "      <td>Park Ave at Race St</td>\n",
       "      <td>417.0</td>\n",
       "      <td>Park Ave at Race St</td>\n",
       "      <td>10424</td>\n",
       "      <td>Customer</td>\n",
       "      <td>NaN</td>\n",
       "      <td>Jan</td>\n",
       "    </tr>\n",
       "    <tr>\n",
       "      <th>63677</th>\n",
       "      <td>85994</td>\n",
       "      <td>1433.233333</td>\n",
       "      <td>23.887222</td>\n",
       "      <td>0.995301</td>\n",
       "      <td>Sunday</td>\n",
       "      <td>2020-01-12 17:08:54.110</td>\n",
       "      <td>Monday</td>\n",
       "      <td>2020-01-13 17:02:08.530</td>\n",
       "      <td>284.0</td>\n",
       "      <td>Yerba Buena Center for the Arts (Howard St at ...</td>\n",
       "      <td>47.0</td>\n",
       "      <td>4th St at Harrison St</td>\n",
       "      <td>11107</td>\n",
       "      <td>Customer</td>\n",
       "      <td>NaN</td>\n",
       "      <td>Jan</td>\n",
       "    </tr>\n",
       "  </tbody>\n",
       "</table>\n",
       "</div>"
      ],
      "text/plain": [
       "        duration_sec  duration_mins  duration_hrs  duration_days start_day  \\\n",
       "121168        811077   13517.950000    225.299167       9.387465  Thursday   \n",
       "347472         86317    1438.616667     23.976944       0.999039    Monday   \n",
       "386984         86239    1437.316667     23.955278       0.998137  Thursday   \n",
       "49926          86221    1437.016667     23.950278       0.997928  Thursday   \n",
       "63677          85994    1433.233333     23.887222       0.995301    Sunday   \n",
       "\n",
       "                    start_time  end_day                end_time  \\\n",
       "121168 2020-01-09 16:23:21.000   Sunday 2020-01-19 01:41:19.000   \n",
       "347472 2020-02-17 11:42:26.059  Tuesday 2020-02-18 11:41:03.741   \n",
       "386984 2020-02-06 17:03:46.438   Friday 2020-02-07 17:01:05.703   \n",
       "49926  2020-01-16 07:51:37.709   Friday 2020-01-17 07:48:39.515   \n",
       "63677  2020-01-12 17:08:54.110   Monday 2020-01-13 17:02:08.530   \n",
       "\n",
       "       start_station_id                                 start_station_name  \\\n",
       "121168              nan                                                NaN   \n",
       "347472            295.0                              William St at 10th St   \n",
       "386984            486.0                         Arguello Blvd at Edward St   \n",
       "49926             417.0                                Park Ave at Race St   \n",
       "63677             284.0  Yerba Buena Center for the Arts (Howard St at ...   \n",
       "\n",
       "       end_station_id         end_station_name  bike_id   user_type  \\\n",
       "121168            nan                      NaN   231296  Subscriber   \n",
       "347472          294.0  Pierce Ave at Market St    10643    Customer   \n",
       "386984          440.0       Carl St at Cole St     3643    Customer   \n",
       "49926           417.0      Park Ave at Race St    10424    Customer   \n",
       "63677            47.0    4th St at Harrison St    11107    Customer   \n",
       "\n",
       "       rental_access_method month  \n",
       "121168              clipper   Jan  \n",
       "347472                  NaN   Feb  \n",
       "386984                  NaN   Feb  \n",
       "49926                   NaN   Jan  \n",
       "63677                   NaN   Jan  "
      ]
     },
     "execution_count": 58,
     "metadata": {},
     "output_type": "execute_result"
    }
   ],
   "source": [
    "df.nlargest(5, 'duration_sec')"
   ]
  },
  {
   "cell_type": "code",
   "execution_count": 59,
   "id": "0c586b14",
   "metadata": {
    "slideshow": {
     "slide_type": "skip"
    }
   },
   "outputs": [],
   "source": [
    "df.drop(index = 121168, inplace = True)"
   ]
  },
  {
   "cell_type": "markdown",
   "id": "c30bd9b4",
   "metadata": {
    "slideshow": {
     "slide_type": "skip"
    }
   },
   "source": [
    "### Test"
   ]
  },
  {
   "cell_type": "code",
   "execution_count": 60,
   "id": "6f30051b",
   "metadata": {
    "slideshow": {
     "slide_type": "skip"
    }
   },
   "outputs": [
    {
     "data": {
      "text/html": [
       "<div>\n",
       "<style scoped>\n",
       "    .dataframe tbody tr th:only-of-type {\n",
       "        vertical-align: middle;\n",
       "    }\n",
       "\n",
       "    .dataframe tbody tr th {\n",
       "        vertical-align: top;\n",
       "    }\n",
       "\n",
       "    .dataframe thead th {\n",
       "        text-align: right;\n",
       "    }\n",
       "</style>\n",
       "<table border=\"1\" class=\"dataframe\">\n",
       "  <thead>\n",
       "    <tr style=\"text-align: right;\">\n",
       "      <th></th>\n",
       "      <th>duration_sec</th>\n",
       "      <th>duration_mins</th>\n",
       "      <th>duration_hrs</th>\n",
       "      <th>duration_days</th>\n",
       "      <th>bike_id</th>\n",
       "    </tr>\n",
       "  </thead>\n",
       "  <tbody>\n",
       "    <tr>\n",
       "      <th>count</th>\n",
       "      <td>905006.000000</td>\n",
       "      <td>905006.000000</td>\n",
       "      <td>905006.000000</td>\n",
       "      <td>905006.000000</td>\n",
       "      <td>905006.000000</td>\n",
       "    </tr>\n",
       "    <tr>\n",
       "      <th>mean</th>\n",
       "      <td>805.888110</td>\n",
       "      <td>13.431469</td>\n",
       "      <td>0.223858</td>\n",
       "      <td>0.009327</td>\n",
       "      <td>345257.291351</td>\n",
       "    </tr>\n",
       "    <tr>\n",
       "      <th>std</th>\n",
       "      <td>1415.275537</td>\n",
       "      <td>23.587926</td>\n",
       "      <td>0.393132</td>\n",
       "      <td>0.016381</td>\n",
       "      <td>305503.268537</td>\n",
       "    </tr>\n",
       "    <tr>\n",
       "      <th>min</th>\n",
       "      <td>60.000000</td>\n",
       "      <td>1.000000</td>\n",
       "      <td>0.016667</td>\n",
       "      <td>0.000694</td>\n",
       "      <td>12.000000</td>\n",
       "    </tr>\n",
       "    <tr>\n",
       "      <th>25%</th>\n",
       "      <td>370.000000</td>\n",
       "      <td>6.166667</td>\n",
       "      <td>0.102778</td>\n",
       "      <td>0.004282</td>\n",
       "      <td>12114.000000</td>\n",
       "    </tr>\n",
       "    <tr>\n",
       "      <th>50%</th>\n",
       "      <td>595.000000</td>\n",
       "      <td>9.916667</td>\n",
       "      <td>0.165278</td>\n",
       "      <td>0.006887</td>\n",
       "      <td>326439.000000</td>\n",
       "    </tr>\n",
       "    <tr>\n",
       "      <th>75%</th>\n",
       "      <td>932.000000</td>\n",
       "      <td>15.533333</td>\n",
       "      <td>0.258889</td>\n",
       "      <td>0.010787</td>\n",
       "      <td>557460.000000</td>\n",
       "    </tr>\n",
       "    <tr>\n",
       "      <th>max</th>\n",
       "      <td>86317.000000</td>\n",
       "      <td>1438.616667</td>\n",
       "      <td>23.976944</td>\n",
       "      <td>0.999039</td>\n",
       "      <td>999960.000000</td>\n",
       "    </tr>\n",
       "  </tbody>\n",
       "</table>\n",
       "</div>"
      ],
      "text/plain": [
       "        duration_sec  duration_mins   duration_hrs  duration_days  \\\n",
       "count  905006.000000  905006.000000  905006.000000  905006.000000   \n",
       "mean      805.888110      13.431469       0.223858       0.009327   \n",
       "std      1415.275537      23.587926       0.393132       0.016381   \n",
       "min        60.000000       1.000000       0.016667       0.000694   \n",
       "25%       370.000000       6.166667       0.102778       0.004282   \n",
       "50%       595.000000       9.916667       0.165278       0.006887   \n",
       "75%       932.000000      15.533333       0.258889       0.010787   \n",
       "max     86317.000000    1438.616667      23.976944       0.999039   \n",
       "\n",
       "             bike_id  \n",
       "count  905006.000000  \n",
       "mean   345257.291351  \n",
       "std    305503.268537  \n",
       "min        12.000000  \n",
       "25%     12114.000000  \n",
       "50%    326439.000000  \n",
       "75%    557460.000000  \n",
       "max    999960.000000  "
      ]
     },
     "execution_count": 60,
     "metadata": {},
     "output_type": "execute_result"
    }
   ],
   "source": [
    "df.describe()"
   ]
  },
  {
   "cell_type": "code",
   "execution_count": 61,
   "id": "a2329ba2",
   "metadata": {
    "slideshow": {
     "slide_type": "skip"
    }
   },
   "outputs": [
    {
     "data": {
      "text/html": [
       "<div>\n",
       "<style scoped>\n",
       "    .dataframe tbody tr th:only-of-type {\n",
       "        vertical-align: middle;\n",
       "    }\n",
       "\n",
       "    .dataframe tbody tr th {\n",
       "        vertical-align: top;\n",
       "    }\n",
       "\n",
       "    .dataframe thead th {\n",
       "        text-align: right;\n",
       "    }\n",
       "</style>\n",
       "<table border=\"1\" class=\"dataframe\">\n",
       "  <thead>\n",
       "    <tr style=\"text-align: right;\">\n",
       "      <th></th>\n",
       "      <th>duration_sec</th>\n",
       "      <th>duration_mins</th>\n",
       "      <th>duration_hrs</th>\n",
       "      <th>duration_days</th>\n",
       "      <th>start_day</th>\n",
       "      <th>start_time</th>\n",
       "      <th>end_day</th>\n",
       "      <th>end_time</th>\n",
       "      <th>start_station_id</th>\n",
       "      <th>start_station_name</th>\n",
       "      <th>end_station_id</th>\n",
       "      <th>end_station_name</th>\n",
       "      <th>bike_id</th>\n",
       "      <th>user_type</th>\n",
       "      <th>rental_access_method</th>\n",
       "      <th>month</th>\n",
       "    </tr>\n",
       "  </thead>\n",
       "  <tbody>\n",
       "    <tr>\n",
       "      <th>347472</th>\n",
       "      <td>86317</td>\n",
       "      <td>1438.616667</td>\n",
       "      <td>23.976944</td>\n",
       "      <td>0.999039</td>\n",
       "      <td>Monday</td>\n",
       "      <td>2020-02-17 11:42:26.059</td>\n",
       "      <td>Tuesday</td>\n",
       "      <td>2020-02-18 11:41:03.741</td>\n",
       "      <td>295.0</td>\n",
       "      <td>William St at 10th St</td>\n",
       "      <td>294.0</td>\n",
       "      <td>Pierce Ave at Market St</td>\n",
       "      <td>10643</td>\n",
       "      <td>Customer</td>\n",
       "      <td>NaN</td>\n",
       "      <td>Feb</td>\n",
       "    </tr>\n",
       "    <tr>\n",
       "      <th>386984</th>\n",
       "      <td>86239</td>\n",
       "      <td>1437.316667</td>\n",
       "      <td>23.955278</td>\n",
       "      <td>0.998137</td>\n",
       "      <td>Thursday</td>\n",
       "      <td>2020-02-06 17:03:46.438</td>\n",
       "      <td>Friday</td>\n",
       "      <td>2020-02-07 17:01:05.703</td>\n",
       "      <td>486.0</td>\n",
       "      <td>Arguello Blvd at Edward St</td>\n",
       "      <td>440.0</td>\n",
       "      <td>Carl St at Cole St</td>\n",
       "      <td>3643</td>\n",
       "      <td>Customer</td>\n",
       "      <td>NaN</td>\n",
       "      <td>Feb</td>\n",
       "    </tr>\n",
       "    <tr>\n",
       "      <th>49926</th>\n",
       "      <td>86221</td>\n",
       "      <td>1437.016667</td>\n",
       "      <td>23.950278</td>\n",
       "      <td>0.997928</td>\n",
       "      <td>Thursday</td>\n",
       "      <td>2020-01-16 07:51:37.709</td>\n",
       "      <td>Friday</td>\n",
       "      <td>2020-01-17 07:48:39.515</td>\n",
       "      <td>417.0</td>\n",
       "      <td>Park Ave at Race St</td>\n",
       "      <td>417.0</td>\n",
       "      <td>Park Ave at Race St</td>\n",
       "      <td>10424</td>\n",
       "      <td>Customer</td>\n",
       "      <td>NaN</td>\n",
       "      <td>Jan</td>\n",
       "    </tr>\n",
       "    <tr>\n",
       "      <th>63677</th>\n",
       "      <td>85994</td>\n",
       "      <td>1433.233333</td>\n",
       "      <td>23.887222</td>\n",
       "      <td>0.995301</td>\n",
       "      <td>Sunday</td>\n",
       "      <td>2020-01-12 17:08:54.110</td>\n",
       "      <td>Monday</td>\n",
       "      <td>2020-01-13 17:02:08.530</td>\n",
       "      <td>284.0</td>\n",
       "      <td>Yerba Buena Center for the Arts (Howard St at ...</td>\n",
       "      <td>47.0</td>\n",
       "      <td>4th St at Harrison St</td>\n",
       "      <td>11107</td>\n",
       "      <td>Customer</td>\n",
       "      <td>NaN</td>\n",
       "      <td>Jan</td>\n",
       "    </tr>\n",
       "    <tr>\n",
       "      <th>27024</th>\n",
       "      <td>85450</td>\n",
       "      <td>1424.166667</td>\n",
       "      <td>23.736111</td>\n",
       "      <td>0.989005</td>\n",
       "      <td>Thursday</td>\n",
       "      <td>2020-01-23 14:29:54.658</td>\n",
       "      <td>Friday</td>\n",
       "      <td>2020-01-24 14:14:05.000</td>\n",
       "      <td>14.0</td>\n",
       "      <td>Clay St at Battery St</td>\n",
       "      <td>11.0</td>\n",
       "      <td>Davis St at Jackson St</td>\n",
       "      <td>13072</td>\n",
       "      <td>Subscriber</td>\n",
       "      <td>NaN</td>\n",
       "      <td>Jan</td>\n",
       "    </tr>\n",
       "  </tbody>\n",
       "</table>\n",
       "</div>"
      ],
      "text/plain": [
       "        duration_sec  duration_mins  duration_hrs  duration_days start_day  \\\n",
       "347472         86317    1438.616667     23.976944       0.999039    Monday   \n",
       "386984         86239    1437.316667     23.955278       0.998137  Thursday   \n",
       "49926          86221    1437.016667     23.950278       0.997928  Thursday   \n",
       "63677          85994    1433.233333     23.887222       0.995301    Sunday   \n",
       "27024          85450    1424.166667     23.736111       0.989005  Thursday   \n",
       "\n",
       "                    start_time  end_day                end_time  \\\n",
       "347472 2020-02-17 11:42:26.059  Tuesday 2020-02-18 11:41:03.741   \n",
       "386984 2020-02-06 17:03:46.438   Friday 2020-02-07 17:01:05.703   \n",
       "49926  2020-01-16 07:51:37.709   Friday 2020-01-17 07:48:39.515   \n",
       "63677  2020-01-12 17:08:54.110   Monday 2020-01-13 17:02:08.530   \n",
       "27024  2020-01-23 14:29:54.658   Friday 2020-01-24 14:14:05.000   \n",
       "\n",
       "       start_station_id                                 start_station_name  \\\n",
       "347472            295.0                              William St at 10th St   \n",
       "386984            486.0                         Arguello Blvd at Edward St   \n",
       "49926             417.0                                Park Ave at Race St   \n",
       "63677             284.0  Yerba Buena Center for the Arts (Howard St at ...   \n",
       "27024              14.0                              Clay St at Battery St   \n",
       "\n",
       "       end_station_id         end_station_name  bike_id   user_type  \\\n",
       "347472          294.0  Pierce Ave at Market St    10643    Customer   \n",
       "386984          440.0       Carl St at Cole St     3643    Customer   \n",
       "49926           417.0      Park Ave at Race St    10424    Customer   \n",
       "63677            47.0    4th St at Harrison St    11107    Customer   \n",
       "27024            11.0   Davis St at Jackson St    13072  Subscriber   \n",
       "\n",
       "       rental_access_method month  \n",
       "347472                  NaN   Feb  \n",
       "386984                  NaN   Feb  \n",
       "49926                   NaN   Jan  \n",
       "63677                   NaN   Jan  \n",
       "27024                   NaN   Jan  "
      ]
     },
     "execution_count": 61,
     "metadata": {},
     "output_type": "execute_result"
    }
   ],
   "source": [
    "df.nlargest(5, 'duration_sec')"
   ]
  },
  {
   "cell_type": "markdown",
   "id": "6bea9e95",
   "metadata": {
    "slideshow": {
     "slide_type": "skip"
    }
   },
   "source": [
    "Maximum number of duration in seconds is now 86317"
   ]
  },
  {
   "cell_type": "markdown",
   "id": "95e7a84c",
   "metadata": {
    "slideshow": {
     "slide_type": "skip"
    }
   },
   "source": [
    "## Storing clean data"
   ]
  },
  {
   "cell_type": "code",
   "execution_count": 62,
   "id": "b6e20e55",
   "metadata": {
    "slideshow": {
     "slide_type": "skip"
    }
   },
   "outputs": [],
   "source": [
    "df.to_csv('clean_df.csv', index = False)"
   ]
  },
  {
   "cell_type": "markdown",
   "id": "3bdfc716",
   "metadata": {
    "slideshow": {
     "slide_type": "slide"
    }
   },
   "source": [
    "# Exploratory Data Analysis"
   ]
  },
  {
   "cell_type": "markdown",
   "id": "f5a69680",
   "metadata": {
    "slideshow": {
     "slide_type": "slide"
    }
   },
   "source": [
    "## Visualization 1\n",
    "## (a) How long does an Average trip take/ Average duration?\n",
    "\n",
    "The average duration of a trip is between 3- 15 minutes."
   ]
  },
  {
   "cell_type": "code",
   "execution_count": 84,
   "id": "6cff1807",
   "metadata": {
    "slideshow": {
     "slide_type": "skip"
    }
   },
   "outputs": [],
   "source": [
    "df_2020 = pd.read_csv('clean_df.csv', dtype = {'rental_access_method' : 'object'}) #reading the clean data into pandas dataframe"
   ]
  },
  {
   "cell_type": "markdown",
   "id": "86c54a38",
   "metadata": {
    "slideshow": {
     "slide_type": "skip"
    }
   },
   "source": [
    "I'll begin by looking at the checking the distribution of the main variable of interest; duration in minutes"
   ]
  },
  {
   "cell_type": "code",
   "execution_count": 85,
   "id": "72833207",
   "metadata": {
    "slideshow": {
     "slide_type": "skip"
    }
   },
   "outputs": [
    {
     "data": {
      "text/plain": [
       "count    905006.000000\n",
       "mean         13.431469\n",
       "std          23.587926\n",
       "min           1.000000\n",
       "25%           6.166667\n",
       "50%           9.916667\n",
       "75%          15.533333\n",
       "max        1438.616667\n",
       "Name: duration_mins, dtype: float64"
      ]
     },
     "execution_count": 85,
     "metadata": {},
     "output_type": "execute_result"
    }
   ],
   "source": [
    "df_2020['duration_mins'].describe() # decriptive statitics of duration in minutes var"
   ]
  },
  {
   "cell_type": "code",
   "execution_count": 86,
   "id": "3b81f85e",
   "metadata": {},
   "outputs": [],
   "source": [
    "#defining a function to set x  and y labels and the title of plots\n",
    "def function(xL, yL, title):\n",
    "    plt.title(title)\n",
    "    plt.xlabel(xL)\n",
    "    plt.ylabel(yL)"
   ]
  },
  {
   "cell_type": "code",
   "execution_count": 66,
   "id": "62c14e78",
   "metadata": {
    "slideshow": {
     "slide_type": "subslide"
    }
   },
   "outputs": [
    {
     "data": {
      "image/png": "[encoded data removed]",
      "text/plain": [
       "<Figure size 1008x576 with 1 Axes>"
      ]
     },
     "metadata": {
      "needs_background": "light"
     },
     "output_type": "display_data"
    }
   ],
   "source": [
    "# Duration of trips in minutes\n",
    "\n",
    "# settings of the plot\n",
    "plt.figure(figsize = [14, 8])\n",
    "bin_edges = np.arange(1, 40, 1)\n",
    "ticks = [0, 5, 10, 15, 20, 25, 30, 35, 40]\n",
    "labels = ['{}'.format(val) for val in ticks]\n",
    "\n",
    "# creating a histogram\n",
    "plt.hist(data = df_2020, x = 'duration_mins', bins = bin_edges, rwidth = 0.8);\n",
    "plt.xticks(ticks, labels)\n",
    "function('Duration in minutes', 'No. of Bike trips', 'Bike trip in Minutes' )"
   ]
  },
  {
   "cell_type": "markdown",
   "id": "6b563cc1",
   "metadata": {
    "slideshow": {
     "slide_type": "slide"
    }
   },
   "source": [
    "## Visualization 2\n",
    "\n",
    "### (i) what are the proporions taken by each user type of the bike service?\n",
    "\n",
    "### (ii) what is the popular method employed by the users?\n",
    "\n",
    "This visualization is meant to view amount of proportions taken up by the user types and rental access methods.\n",
    "\n",
    "- Subscribers take up larger proportions of the bike rides taken as compared to the customers, who only take up about 40%.\n",
    "- Most riders rent the bikes using the app method, wich takes up to about 92%, while the dipper method only takes up 7.7%."
   ]
  },
  {
   "cell_type": "code",
   "execution_count": 67,
   "id": "7e431440",
   "metadata": {
    "slideshow": {
     "slide_type": "skip"
    }
   },
   "outputs": [
    {
     "data": {
      "text/plain": [
       "Subscriber    544695\n",
       "Customer      360311\n",
       "Name: user_type, dtype: int64"
      ]
     },
     "execution_count": 67,
     "metadata": {},
     "output_type": "execute_result"
    }
   ],
   "source": [
    "df_2020['user_type'].value_counts()"
   ]
  },
  {
   "cell_type": "code",
   "execution_count": 68,
   "id": "a55ba40d",
   "metadata": {
    "slideshow": {
     "slide_type": "subslide"
    }
   },
   "outputs": [
    {
     "data": {
      "image/png": "[encoded data removed]",
      "text/plain": [
       "<Figure size 1440x360 with 2 Axes>"
      ]
     },
     "metadata": {},
     "output_type": "display_data"
    }
   ],
   "source": [
    "plt.figure(figsize = [20, 5])\n",
    "\n",
    "counts = df_2020['user_type'].value_counts()\n",
    "sorted_counts= counts.index\n",
    "plt.subplot(1,2,1)\n",
    "plt.pie(counts, labels = sorted_counts, startangle = 90, autopct ='%1.1f%%', counterclock = False)\n",
    "plt.title('Percentage of User type')\n",
    "plt.axis('square');\n",
    "\n",
    "rental_counts = df_2020['rental_access_method'].value_counts()\n",
    "sorted_rental_counts = df_2020['rental_access_method'].value_counts().index\n",
    "plt.subplot(1,2,2)\n",
    "plt.pie(rental_counts, labels = sorted_rental_counts, startangle = 90, autopct ='%1.1f%%', counterclock = False)\n",
    "plt.title('Percentage of rental acess method')\n",
    "plt.axis('square');"
   ]
  },
  {
   "cell_type": "markdown",
   "id": "fc5da16a",
   "metadata": {
    "slideshow": {
     "slide_type": "slide"
    }
   },
   "source": [
    "## Visualization 3\n",
    "### Which month and day of the week most trips are taken?"
   ]
  },
  {
   "cell_type": "markdown",
   "id": "1c6b151f",
   "metadata": {
    "slideshow": {
     "slide_type": "slide"
    }
   },
   "source": [
    "### (i). Weekly trips\n",
    "\n",
    "- Most trips are taken on wednesday. Seems like less trips are taken during the weekend.\n",
    "\n",
    "- Most trips also end on wednesdays"
   ]
  },
  {
   "cell_type": "code",
   "execution_count": 69,
   "id": "35389acc",
   "metadata": {
    "slideshow": {
     "slide_type": "subslide"
    }
   },
   "outputs": [
    {
     "data": {
      "image/png": "[encoded data removed]",
      "text/plain": [
       "<Figure size 1440x360 with 2 Axes>"
      ]
     },
     "metadata": {
      "needs_background": "light"
     },
     "output_type": "display_data"
    }
   ],
   "source": [
    "plt.figure(figsize = [20, 5])\n",
    "plt.subplot(1,2,1) #setting subplot 1\n",
    "base_color = sb.color_palette()[0] #setting the color\n",
    "day_order = [\"Monday\", \"Tuesday\", \"Wednesday\", \"Thursday\", \"Friday\", \"Saturday\", \"Sunday\"] #setting the order in which the days should occur\n",
    "\n",
    "sb.countplot(data = df_2020, x = 'start_day', color = base_color, order = day_order); #creating the first barchart for start_day\n",
    "function('Day of the week', 'Number of Trips taken', 'Number of Trips Taken Daily')\n",
    "\n",
    "\n",
    "\n",
    "\n",
    "#plot for end_day\n",
    "plt.subplot(1,2,2) #setting subplot 2\n",
    "\n",
    "sb.countplot(data = df_2020, x = 'end_day', color = base_color,order = day_order)#creating the second barchart for end_day\n",
    "function('Day of the week','Number of Trips taken', 'Number of Trips Taken Daily');"
   ]
  },
  {
   "cell_type": "markdown",
   "id": "1d8ad454",
   "metadata": {
    "slideshow": {
     "slide_type": "slide"
    }
   },
   "source": [
    "## (ii) Monthly Trips\n",
    "\n",
    "- Most trips were taken in February, while least trips were taken in March"
   ]
  },
  {
   "cell_type": "code",
   "execution_count": 70,
   "id": "c7b8f057",
   "metadata": {
    "slideshow": {
     "slide_type": "skip"
    }
   },
   "outputs": [
    {
     "data": {
      "text/plain": [
       "Feb    432354\n",
       "Jan    295853\n",
       "Mar    176799\n",
       "Name: month, dtype: int64"
      ]
     },
     "execution_count": 70,
     "metadata": {},
     "output_type": "execute_result"
    }
   ],
   "source": [
    "df_2020['month'].value_counts()"
   ]
  },
  {
   "cell_type": "code",
   "execution_count": 79,
   "id": "d59080c2",
   "metadata": {
    "slideshow": {
     "slide_type": "subslide"
    }
   },
   "outputs": [
    {
     "data": {
      "image/png": "[encoded data removed]",
      "text/plain": [
       "<Figure size 1008x576 with 1 Axes>"
      ]
     },
     "metadata": {
      "needs_background": "light"
     },
     "output_type": "display_data"
    }
   ],
   "source": [
    "plt.figure(figsize = [14, 8]) #setting the figure size\n",
    "order = df_2020['month'].value_counts().index\n",
    "\n",
    "#creating a barchart \n",
    "sb.countplot(data = df_2020, x = 'month', color = base_color, order = order)\n",
    "function('Months', 'Number of Trips Taken', 'No. of Trips Taken monthly');\n"
   ]
  },
  {
   "cell_type": "markdown",
   "id": "5a76322b",
   "metadata": {
    "slideshow": {
     "slide_type": "slide"
    }
   },
   "source": [
    "## Visualization 4\n",
    "\n",
    "### (i) What is the trip duration according to the User type\n",
    "\n",
    "At duration less than or equal to 60 minutes, both user types(Casual) and subscribersget almost equal amount of time of using the bikes.\n"
   ]
  },
  {
   "cell_type": "code",
   "execution_count": 80,
   "id": "d66f2aad",
   "metadata": {
    "slideshow": {
     "slide_type": "skip"
    }
   },
   "outputs": [
    {
     "data": {
      "text/html": [
       "<div>\n",
       "<style scoped>\n",
       "    .dataframe tbody tr th:only-of-type {\n",
       "        vertical-align: middle;\n",
       "    }\n",
       "\n",
       "    .dataframe tbody tr th {\n",
       "        vertical-align: top;\n",
       "    }\n",
       "\n",
       "    .dataframe thead th {\n",
       "        text-align: right;\n",
       "    }\n",
       "</style>\n",
       "<table border=\"1\" class=\"dataframe\">\n",
       "  <thead>\n",
       "    <tr style=\"text-align: right;\">\n",
       "      <th></th>\n",
       "      <th>duration_sec</th>\n",
       "      <th>duration_mins</th>\n",
       "      <th>duration_hrs</th>\n",
       "      <th>duration_days</th>\n",
       "      <th>start_day</th>\n",
       "      <th>start_time</th>\n",
       "      <th>end_day</th>\n",
       "      <th>end_time</th>\n",
       "      <th>start_station_id</th>\n",
       "      <th>start_station_name</th>\n",
       "      <th>end_station_id</th>\n",
       "      <th>end_station_name</th>\n",
       "      <th>bike_id</th>\n",
       "      <th>user_type</th>\n",
       "      <th>rental_access_method</th>\n",
       "      <th>month</th>\n",
       "    </tr>\n",
       "  </thead>\n",
       "  <tbody>\n",
       "    <tr>\n",
       "      <th>9</th>\n",
       "      <td>1980</td>\n",
       "      <td>33.000000</td>\n",
       "      <td>0.550000</td>\n",
       "      <td>0.022917</td>\n",
       "      <td>Friday</td>\n",
       "      <td>2020-01-31 23:49:09.230</td>\n",
       "      <td>Saturday</td>\n",
       "      <td>2020-02-01 00:22:09.754</td>\n",
       "      <td>238.0</td>\n",
       "      <td>MLK Jr Way at University Ave</td>\n",
       "      <td>198.0</td>\n",
       "      <td>Snow Park</td>\n",
       "      <td>10464</td>\n",
       "      <td>Customer</td>\n",
       "      <td>NaN</td>\n",
       "      <td>Jan</td>\n",
       "    </tr>\n",
       "    <tr>\n",
       "      <th>10</th>\n",
       "      <td>1969</td>\n",
       "      <td>32.816667</td>\n",
       "      <td>0.546944</td>\n",
       "      <td>0.022789</td>\n",
       "      <td>Friday</td>\n",
       "      <td>2020-01-31 23:49:03.972</td>\n",
       "      <td>Saturday</td>\n",
       "      <td>2020-02-01 00:21:53.573</td>\n",
       "      <td>238.0</td>\n",
       "      <td>MLK Jr Way at University Ave</td>\n",
       "      <td>198.0</td>\n",
       "      <td>Snow Park</td>\n",
       "      <td>12120</td>\n",
       "      <td>Customer</td>\n",
       "      <td>NaN</td>\n",
       "      <td>Jan</td>\n",
       "    </tr>\n",
       "    <tr>\n",
       "      <th>11</th>\n",
       "      <td>1611</td>\n",
       "      <td>26.850000</td>\n",
       "      <td>0.447500</td>\n",
       "      <td>0.018646</td>\n",
       "      <td>Friday</td>\n",
       "      <td>2020-01-31 23:49:10.931</td>\n",
       "      <td>Saturday</td>\n",
       "      <td>2020-02-01 00:16:02.431</td>\n",
       "      <td>174.0</td>\n",
       "      <td>Shattuck Ave at 51st St</td>\n",
       "      <td>259.0</td>\n",
       "      <td>Addison St at Fourth St</td>\n",
       "      <td>838</td>\n",
       "      <td>Subscriber</td>\n",
       "      <td>NaN</td>\n",
       "      <td>Jan</td>\n",
       "    </tr>\n",
       "    <tr>\n",
       "      <th>12</th>\n",
       "      <td>1133</td>\n",
       "      <td>18.883333</td>\n",
       "      <td>0.314722</td>\n",
       "      <td>0.013113</td>\n",
       "      <td>Friday</td>\n",
       "      <td>2020-01-31 23:56:49.475</td>\n",
       "      <td>Saturday</td>\n",
       "      <td>2020-02-01 00:15:42.996</td>\n",
       "      <td>127.0</td>\n",
       "      <td>Valencia St at 21st St</td>\n",
       "      <td>324.0</td>\n",
       "      <td>Union Square (Powell St at Post St)</td>\n",
       "      <td>13068</td>\n",
       "      <td>Customer</td>\n",
       "      <td>NaN</td>\n",
       "      <td>Jan</td>\n",
       "    </tr>\n",
       "    <tr>\n",
       "      <th>13</th>\n",
       "      <td>1119</td>\n",
       "      <td>18.650000</td>\n",
       "      <td>0.310833</td>\n",
       "      <td>0.012951</td>\n",
       "      <td>Friday</td>\n",
       "      <td>2020-01-31 23:57:02.284</td>\n",
       "      <td>Saturday</td>\n",
       "      <td>2020-02-01 00:15:42.063</td>\n",
       "      <td>127.0</td>\n",
       "      <td>Valencia St at 21st St</td>\n",
       "      <td>324.0</td>\n",
       "      <td>Union Square (Powell St at Post St)</td>\n",
       "      <td>12801</td>\n",
       "      <td>Customer</td>\n",
       "      <td>NaN</td>\n",
       "      <td>Jan</td>\n",
       "    </tr>\n",
       "    <tr>\n",
       "      <th>...</th>\n",
       "      <td>...</td>\n",
       "      <td>...</td>\n",
       "      <td>...</td>\n",
       "      <td>...</td>\n",
       "      <td>...</td>\n",
       "      <td>...</td>\n",
       "      <td>...</td>\n",
       "      <td>...</td>\n",
       "      <td>...</td>\n",
       "      <td>...</td>\n",
       "      <td>...</td>\n",
       "      <td>...</td>\n",
       "      <td>...</td>\n",
       "      <td>...</td>\n",
       "      <td>...</td>\n",
       "      <td>...</td>\n",
       "    </tr>\n",
       "    <tr>\n",
       "      <th>905001</th>\n",
       "      <td>61</td>\n",
       "      <td>1.016667</td>\n",
       "      <td>0.016944</td>\n",
       "      <td>0.000706</td>\n",
       "      <td>Wednesday</td>\n",
       "      <td>2020-04-01 10:42:35</td>\n",
       "      <td>Wednesday</td>\n",
       "      <td>2020-04-01 10:43:37</td>\n",
       "      <td>NaN</td>\n",
       "      <td>NaN</td>\n",
       "      <td>NaN</td>\n",
       "      <td>NaN</td>\n",
       "      <td>999960</td>\n",
       "      <td>Subscriber</td>\n",
       "      <td>app</td>\n",
       "      <td>Mar</td>\n",
       "    </tr>\n",
       "    <tr>\n",
       "      <th>905002</th>\n",
       "      <td>78</td>\n",
       "      <td>1.300000</td>\n",
       "      <td>0.021667</td>\n",
       "      <td>0.000903</td>\n",
       "      <td>Wednesday</td>\n",
       "      <td>2020-03-18 17:10:42</td>\n",
       "      <td>Wednesday</td>\n",
       "      <td>2020-03-18 17:12:01</td>\n",
       "      <td>NaN</td>\n",
       "      <td>NaN</td>\n",
       "      <td>NaN</td>\n",
       "      <td>NaN</td>\n",
       "      <td>999960</td>\n",
       "      <td>Subscriber</td>\n",
       "      <td>app</td>\n",
       "      <td>Mar</td>\n",
       "    </tr>\n",
       "    <tr>\n",
       "      <th>905003</th>\n",
       "      <td>122</td>\n",
       "      <td>2.033333</td>\n",
       "      <td>0.033889</td>\n",
       "      <td>0.001412</td>\n",
       "      <td>Wednesday</td>\n",
       "      <td>2020-04-01 13:32:28</td>\n",
       "      <td>Wednesday</td>\n",
       "      <td>2020-04-01 13:34:31</td>\n",
       "      <td>NaN</td>\n",
       "      <td>NaN</td>\n",
       "      <td>NaN</td>\n",
       "      <td>NaN</td>\n",
       "      <td>633095</td>\n",
       "      <td>Subscriber</td>\n",
       "      <td>app</td>\n",
       "      <td>Mar</td>\n",
       "    </tr>\n",
       "    <tr>\n",
       "      <th>905004</th>\n",
       "      <td>340</td>\n",
       "      <td>5.666667</td>\n",
       "      <td>0.094444</td>\n",
       "      <td>0.003935</td>\n",
       "      <td>Wednesday</td>\n",
       "      <td>2020-04-01 13:07:34</td>\n",
       "      <td>Wednesday</td>\n",
       "      <td>2020-04-01 13:13:14</td>\n",
       "      <td>NaN</td>\n",
       "      <td>NaN</td>\n",
       "      <td>NaN</td>\n",
       "      <td>NaN</td>\n",
       "      <td>633095</td>\n",
       "      <td>Subscriber</td>\n",
       "      <td>app</td>\n",
       "      <td>Mar</td>\n",
       "    </tr>\n",
       "    <tr>\n",
       "      <th>905005</th>\n",
       "      <td>333</td>\n",
       "      <td>5.550000</td>\n",
       "      <td>0.092500</td>\n",
       "      <td>0.003854</td>\n",
       "      <td>Monday</td>\n",
       "      <td>2020-03-23 16:39:57</td>\n",
       "      <td>Monday</td>\n",
       "      <td>2020-03-23 16:45:30</td>\n",
       "      <td>NaN</td>\n",
       "      <td>NaN</td>\n",
       "      <td>NaN</td>\n",
       "      <td>NaN</td>\n",
       "      <td>633095</td>\n",
       "      <td>Subscriber</td>\n",
       "      <td>app</td>\n",
       "      <td>Mar</td>\n",
       "    </tr>\n",
       "  </tbody>\n",
       "</table>\n",
       "<p>893066 rows × 16 columns</p>\n",
       "</div>"
      ],
      "text/plain": [
       "        duration_sec  duration_mins  duration_hrs  duration_days  start_day  \\\n",
       "9               1980      33.000000      0.550000       0.022917     Friday   \n",
       "10              1969      32.816667      0.546944       0.022789     Friday   \n",
       "11              1611      26.850000      0.447500       0.018646     Friday   \n",
       "12              1133      18.883333      0.314722       0.013113     Friday   \n",
       "13              1119      18.650000      0.310833       0.012951     Friday   \n",
       "...              ...            ...           ...            ...        ...   \n",
       "905001            61       1.016667      0.016944       0.000706  Wednesday   \n",
       "905002            78       1.300000      0.021667       0.000903  Wednesday   \n",
       "905003           122       2.033333      0.033889       0.001412  Wednesday   \n",
       "905004           340       5.666667      0.094444       0.003935  Wednesday   \n",
       "905005           333       5.550000      0.092500       0.003854     Monday   \n",
       "\n",
       "                     start_time    end_day                 end_time  \\\n",
       "9       2020-01-31 23:49:09.230   Saturday  2020-02-01 00:22:09.754   \n",
       "10      2020-01-31 23:49:03.972   Saturday  2020-02-01 00:21:53.573   \n",
       "11      2020-01-31 23:49:10.931   Saturday  2020-02-01 00:16:02.431   \n",
       "12      2020-01-31 23:56:49.475   Saturday  2020-02-01 00:15:42.996   \n",
       "13      2020-01-31 23:57:02.284   Saturday  2020-02-01 00:15:42.063   \n",
       "...                         ...        ...                      ...   \n",
       "905001      2020-04-01 10:42:35  Wednesday      2020-04-01 10:43:37   \n",
       "905002      2020-03-18 17:10:42  Wednesday      2020-03-18 17:12:01   \n",
       "905003      2020-04-01 13:32:28  Wednesday      2020-04-01 13:34:31   \n",
       "905004      2020-04-01 13:07:34  Wednesday      2020-04-01 13:13:14   \n",
       "905005      2020-03-23 16:39:57     Monday      2020-03-23 16:45:30   \n",
       "\n",
       "        start_station_id            start_station_name  end_station_id  \\\n",
       "9                  238.0  MLK Jr Way at University Ave           198.0   \n",
       "10                 238.0  MLK Jr Way at University Ave           198.0   \n",
       "11                 174.0       Shattuck Ave at 51st St           259.0   \n",
       "12                 127.0        Valencia St at 21st St           324.0   \n",
       "13                 127.0        Valencia St at 21st St           324.0   \n",
       "...                  ...                           ...             ...   \n",
       "905001               NaN                           NaN             NaN   \n",
       "905002               NaN                           NaN             NaN   \n",
       "905003               NaN                           NaN             NaN   \n",
       "905004               NaN                           NaN             NaN   \n",
       "905005               NaN                           NaN             NaN   \n",
       "\n",
       "                           end_station_name  bike_id   user_type  \\\n",
       "9                                 Snow Park    10464    Customer   \n",
       "10                                Snow Park    12120    Customer   \n",
       "11                  Addison St at Fourth St      838  Subscriber   \n",
       "12      Union Square (Powell St at Post St)    13068    Customer   \n",
       "13      Union Square (Powell St at Post St)    12801    Customer   \n",
       "...                                     ...      ...         ...   \n",
       "905001                                  NaN   999960  Subscriber   \n",
       "905002                                  NaN   999960  Subscriber   \n",
       "905003                                  NaN   633095  Subscriber   \n",
       "905004                                  NaN   633095  Subscriber   \n",
       "905005                                  NaN   633095  Subscriber   \n",
       "\n",
       "       rental_access_method month  \n",
       "9                       NaN   Jan  \n",
       "10                      NaN   Jan  \n",
       "11                      NaN   Jan  \n",
       "12                      NaN   Jan  \n",
       "13                      NaN   Jan  \n",
       "...                     ...   ...  \n",
       "905001                  app   Mar  \n",
       "905002                  app   Mar  \n",
       "905003                  app   Mar  \n",
       "905004                  app   Mar  \n",
       "905005                  app   Mar  \n",
       "\n",
       "[893066 rows x 16 columns]"
      ]
     },
     "execution_count": 80,
     "metadata": {},
     "output_type": "execute_result"
    }
   ],
   "source": [
    "df1 = df_2020[df_2020['duration_mins'] <= 60] # creating a dataframe of durations less than or equal to 60\n",
    "df1"
   ]
  },
  {
   "cell_type": "code",
   "execution_count": 89,
   "id": "e7119eef",
   "metadata": {
    "slideshow": {
     "slide_type": "subslide"
    }
   },
   "outputs": [
    {
     "data": {
      "image/png": "[encoded data removed]",
      "text/plain": [
       "<Figure size 1008x576 with 1 Axes>"
      ]
     },
     "metadata": {
      "needs_background": "light"
     },
     "output_type": "display_data"
    }
   ],
   "source": [
    "#creating the size of the plot\n",
    "plt.figure(figsize= [14,8])\n",
    "\n",
    "#creating a violin plot to display average duration relationship to user types\n",
    "sb.violinplot(data = df1, x = 'user_type', y = 'duration_mins', color = base_color )\n",
    "function('User Type', 'Duration(Mins) of Bike trips', 'Duration Udage by User Type');"
   ]
  },
  {
   "cell_type": "markdown",
   "id": "f3228b2f",
   "metadata": {
    "slideshow": {
     "slide_type": "slide"
    }
   },
   "source": [
    "## Visulization 5\n",
    "### (ii) What is the trip duration against the month?\n",
    "-it was observed that most points fall between 1-60 minutes, The dataset was trimmed to perform  an analysis on this part of the data. Shows that, according to each month, March take up the highest average duration for each bike trip, while the lowest average time is observed in january. To imply that bike rides duration has been increasing."
   ]
  },
  {
   "cell_type": "code",
   "execution_count": 90,
   "id": "62313b6e",
   "metadata": {
    "slideshow": {
     "slide_type": "subslide"
    }
   },
   "outputs": [
    {
     "data": {
      "image/png": "[encoded data removed]",
      "text/plain": [
       "<Figure size 1008x576 with 1 Axes>"
      ]
     },
     "metadata": {
      "needs_background": "light"
     },
     "output_type": "display_data"
    }
   ],
   "source": [
    "plt.figure(figsize= [14,8]) #setting figure size\n",
    "\n",
    "#creating a barplot\n",
    "sb.barplot(data = df_2020, x = 'month', y = 'duration_mins', color = base_color)\n",
    "function('Month', 'Avg month duration of Bike trips in minutes', 'Average Duration against Month');"
   ]
  },
  {
   "cell_type": "markdown",
   "id": "c140c968",
   "metadata": {
    "slideshow": {
     "slide_type": "slide"
    }
   },
   "source": [
    "## Visualization 6\n",
    "### (i) What is the Monthly trip durations of each user type?\n",
    "\n",
    "- Viewed by month, according to the plot, customers had longer durations than subscribers."
   ]
  },
  {
   "cell_type": "code",
   "execution_count": 83,
   "id": "5f62721f",
   "metadata": {
    "slideshow": {
     "slide_type": "subslide"
    }
   },
   "outputs": [
    {
     "data": {
      "image/png": "[encoded data removed]",
      "text/plain": [
       "<Figure size 1008x576 with 1 Axes>"
      ]
     },
     "metadata": {
      "needs_background": "light"
     },
     "output_type": "display_data"
    }
   ],
   "source": [
    "plt.figure(figsize = [14, 8]) #setting the figure size\n",
    "\n",
    "# creating  a bar plot to display trip durations between months vary with the user types\n",
    "sb.barplot(data = df_2020, x = 'month', y = 'duration_mins', hue = 'user_type') \n",
    "function('Month', 'Trip duration in minutes', 'Trip duration in each month according to User Type');"
   ]
  },
  {
   "cell_type": "markdown",
   "id": "655d3f5d",
   "metadata": {
    "slideshow": {
     "slide_type": "slide"
    }
   },
   "source": [
    "# Conclusion"
   ]
  },
  {
   "cell_type": "markdown",
   "id": "8796523c",
   "metadata": {
    "slideshow": {
     "slide_type": "slide"
    }
   },
   "source": [
    "\n",
    "- The idea has been successful, since the average trip duration has been increasing since january, through to february and reached its peak in march. This leads to conclusion that more people are depending on bikes to travel long distances.\n",
    "\n",
    "- During weekdays, most trips are preffered on wednesdays\n",
    "\n",
    "- Comparing the three months, most trips are preffered in February.\n",
    "\n",
    "- Most trips are taken on shorter durations, but as for longer durations less and less trips are taken."
   ]
  },
  {
   "cell_type": "code",
   "execution_count": null,
   "id": "26135063",
   "metadata": {},
   "outputs": [],
   "source": [
    "!jupyter nbconvert BayWheels_part2.ipynb --to slides --post serve --no-input --no-prompt"
   ]
  }
 ],
 "metadata": {
  "celltoolbar": "Slideshow",
  "kernelspec": {
   "display_name": "Python 3 (ipykernel)",
   "language": "python",
   "name": "python3"
  },
  "language_info": {
   "codemirror_mode": {
    "name": "ipython",
    "version": 3
   },
   "file_extension": ".py",
   "mimetype": "text/x-python",
   "name": "python",
   "nbconvert_exporter": "python",
   "pygments_lexer": "ipython3",
   "version": "3.9.12"
  }
 },
 "nbformat": 4,
 "nbformat_minor": 5
}
